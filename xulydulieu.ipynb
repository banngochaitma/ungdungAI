{
 "cells": [
  {
   "cell_type": "code",
   "execution_count": 1,
   "id": "amended-greene",
   "metadata": {},
   "outputs": [],
   "source": [
    "import pandas as pd\n",
    "import numpy as np\n",
    "import matplotlib.pyplot as plt\n",
    "import seaborn as sns\n",
    "from sklearn.linear_model import LinearRegression\n",
    "from sklearn.linear_model import LogisticRegression"
   ]
  },
  {
   "cell_type": "code",
   "execution_count": 2,
   "id": "fabulous-plain",
   "metadata": {},
   "outputs": [],
   "source": [
    "data_train = pd.read_csv('data/train.csv')"
   ]
  },
  {
   "cell_type": "markdown",
   "id": "official-hearing",
   "metadata": {},
   "source": [
    "## Số liệu thống kê mô tả"
   ]
  },
  {
   "cell_type": "code",
   "execution_count": 3,
   "id": "unnecessary-capacity",
   "metadata": {
    "scrolled": true
   },
   "outputs": [
    {
     "data": {
      "text/plain": [
       "(20631, 23)"
      ]
     },
     "execution_count": 3,
     "metadata": {},
     "output_type": "execute_result"
    }
   ],
   "source": [
    "features = ['s1','s2', 's3', 's4','s5', 's6',  's7', 's8', 's9','s10',  's11', 's12', 's13', 's14', 's15',  's16',\n",
    "            's17', 's18', 's19',  's20', 's21','ttf','label_bnc']\n",
    "col_names = ['s1','s2', 's3', 's4','s5', 's6',  's7', 's8', 's9','s10',  's11', 's12', 's13', 's14', 's15',  's16',\n",
    "            's17', 's18', 's19',  's20', 's21']\n",
    "data_train[features].shape"
   ]
  },
  {
   "cell_type": "code",
   "execution_count": 4,
   "id": "seasonal-refrigerator",
   "metadata": {},
   "outputs": [
    {
     "data": {
      "text/html": [
       "<div>\n",
       "<style scoped>\n",
       "    .dataframe tbody tr th:only-of-type {\n",
       "        vertical-align: middle;\n",
       "    }\n",
       "\n",
       "    .dataframe tbody tr th {\n",
       "        vertical-align: top;\n",
       "    }\n",
       "\n",
       "    .dataframe thead th {\n",
       "        text-align: right;\n",
       "    }\n",
       "</style>\n",
       "<table border=\"1\" class=\"dataframe\">\n",
       "  <thead>\n",
       "    <tr style=\"text-align: right;\">\n",
       "      <th></th>\n",
       "      <th>s1</th>\n",
       "      <th>s2</th>\n",
       "      <th>s3</th>\n",
       "      <th>s4</th>\n",
       "      <th>s5</th>\n",
       "      <th>s6</th>\n",
       "      <th>s7</th>\n",
       "      <th>s8</th>\n",
       "      <th>s9</th>\n",
       "      <th>s10</th>\n",
       "      <th>...</th>\n",
       "      <th>s14</th>\n",
       "      <th>s15</th>\n",
       "      <th>s16</th>\n",
       "      <th>s17</th>\n",
       "      <th>s18</th>\n",
       "      <th>s19</th>\n",
       "      <th>s20</th>\n",
       "      <th>s21</th>\n",
       "      <th>ttf</th>\n",
       "      <th>label_bnc</th>\n",
       "    </tr>\n",
       "  </thead>\n",
       "  <tbody>\n",
       "    <tr>\n",
       "      <th>0</th>\n",
       "      <td>518.67</td>\n",
       "      <td>641.82</td>\n",
       "      <td>1589.70</td>\n",
       "      <td>1400.60</td>\n",
       "      <td>14.62</td>\n",
       "      <td>21.61</td>\n",
       "      <td>554.36</td>\n",
       "      <td>2388.06</td>\n",
       "      <td>9046.19</td>\n",
       "      <td>1.3</td>\n",
       "      <td>...</td>\n",
       "      <td>8138.62</td>\n",
       "      <td>8.4195</td>\n",
       "      <td>0.03</td>\n",
       "      <td>392</td>\n",
       "      <td>2388</td>\n",
       "      <td>100.0</td>\n",
       "      <td>39.06</td>\n",
       "      <td>23.4190</td>\n",
       "      <td>191</td>\n",
       "      <td>0</td>\n",
       "    </tr>\n",
       "    <tr>\n",
       "      <th>1</th>\n",
       "      <td>518.67</td>\n",
       "      <td>642.15</td>\n",
       "      <td>1591.82</td>\n",
       "      <td>1403.14</td>\n",
       "      <td>14.62</td>\n",
       "      <td>21.61</td>\n",
       "      <td>553.75</td>\n",
       "      <td>2388.04</td>\n",
       "      <td>9044.07</td>\n",
       "      <td>1.3</td>\n",
       "      <td>...</td>\n",
       "      <td>8131.49</td>\n",
       "      <td>8.4318</td>\n",
       "      <td>0.03</td>\n",
       "      <td>392</td>\n",
       "      <td>2388</td>\n",
       "      <td>100.0</td>\n",
       "      <td>39.00</td>\n",
       "      <td>23.4236</td>\n",
       "      <td>190</td>\n",
       "      <td>0</td>\n",
       "    </tr>\n",
       "    <tr>\n",
       "      <th>2</th>\n",
       "      <td>518.67</td>\n",
       "      <td>642.35</td>\n",
       "      <td>1587.99</td>\n",
       "      <td>1404.20</td>\n",
       "      <td>14.62</td>\n",
       "      <td>21.61</td>\n",
       "      <td>554.26</td>\n",
       "      <td>2388.08</td>\n",
       "      <td>9052.94</td>\n",
       "      <td>1.3</td>\n",
       "      <td>...</td>\n",
       "      <td>8133.23</td>\n",
       "      <td>8.4178</td>\n",
       "      <td>0.03</td>\n",
       "      <td>390</td>\n",
       "      <td>2388</td>\n",
       "      <td>100.0</td>\n",
       "      <td>38.95</td>\n",
       "      <td>23.3442</td>\n",
       "      <td>189</td>\n",
       "      <td>0</td>\n",
       "    </tr>\n",
       "    <tr>\n",
       "      <th>3</th>\n",
       "      <td>518.67</td>\n",
       "      <td>642.35</td>\n",
       "      <td>1582.79</td>\n",
       "      <td>1401.87</td>\n",
       "      <td>14.62</td>\n",
       "      <td>21.61</td>\n",
       "      <td>554.45</td>\n",
       "      <td>2388.11</td>\n",
       "      <td>9049.48</td>\n",
       "      <td>1.3</td>\n",
       "      <td>...</td>\n",
       "      <td>8133.83</td>\n",
       "      <td>8.3682</td>\n",
       "      <td>0.03</td>\n",
       "      <td>392</td>\n",
       "      <td>2388</td>\n",
       "      <td>100.0</td>\n",
       "      <td>38.88</td>\n",
       "      <td>23.3739</td>\n",
       "      <td>188</td>\n",
       "      <td>0</td>\n",
       "    </tr>\n",
       "    <tr>\n",
       "      <th>4</th>\n",
       "      <td>518.67</td>\n",
       "      <td>642.37</td>\n",
       "      <td>1582.85</td>\n",
       "      <td>1406.22</td>\n",
       "      <td>14.62</td>\n",
       "      <td>21.61</td>\n",
       "      <td>554.00</td>\n",
       "      <td>2388.06</td>\n",
       "      <td>9055.15</td>\n",
       "      <td>1.3</td>\n",
       "      <td>...</td>\n",
       "      <td>8133.80</td>\n",
       "      <td>8.4294</td>\n",
       "      <td>0.03</td>\n",
       "      <td>393</td>\n",
       "      <td>2388</td>\n",
       "      <td>100.0</td>\n",
       "      <td>38.90</td>\n",
       "      <td>23.4044</td>\n",
       "      <td>187</td>\n",
       "      <td>0</td>\n",
       "    </tr>\n",
       "  </tbody>\n",
       "</table>\n",
       "<p>5 rows × 23 columns</p>\n",
       "</div>"
      ],
      "text/plain": [
       "       s1      s2       s3       s4     s5     s6      s7       s8       s9  \\\n",
       "0  518.67  641.82  1589.70  1400.60  14.62  21.61  554.36  2388.06  9046.19   \n",
       "1  518.67  642.15  1591.82  1403.14  14.62  21.61  553.75  2388.04  9044.07   \n",
       "2  518.67  642.35  1587.99  1404.20  14.62  21.61  554.26  2388.08  9052.94   \n",
       "3  518.67  642.35  1582.79  1401.87  14.62  21.61  554.45  2388.11  9049.48   \n",
       "4  518.67  642.37  1582.85  1406.22  14.62  21.61  554.00  2388.06  9055.15   \n",
       "\n",
       "   s10  ...      s14     s15   s16  s17   s18    s19    s20      s21  ttf  \\\n",
       "0  1.3  ...  8138.62  8.4195  0.03  392  2388  100.0  39.06  23.4190  191   \n",
       "1  1.3  ...  8131.49  8.4318  0.03  392  2388  100.0  39.00  23.4236  190   \n",
       "2  1.3  ...  8133.23  8.4178  0.03  390  2388  100.0  38.95  23.3442  189   \n",
       "3  1.3  ...  8133.83  8.3682  0.03  392  2388  100.0  38.88  23.3739  188   \n",
       "4  1.3  ...  8133.80  8.4294  0.03  393  2388  100.0  38.90  23.4044  187   \n",
       "\n",
       "   label_bnc  \n",
       "0          0  \n",
       "1          0  \n",
       "2          0  \n",
       "3          0  \n",
       "4          0  \n",
       "\n",
       "[5 rows x 23 columns]"
      ]
     },
     "execution_count": 4,
     "metadata": {},
     "output_type": "execute_result"
    }
   ],
   "source": [
    "data_train[features].head()"
   ]
  },
  {
   "cell_type": "code",
   "execution_count": 5,
   "id": "cardiac-tunisia",
   "metadata": {},
   "outputs": [
    {
     "data": {
      "text/html": [
       "<div>\n",
       "<style scoped>\n",
       "    .dataframe tbody tr th:only-of-type {\n",
       "        vertical-align: middle;\n",
       "    }\n",
       "\n",
       "    .dataframe tbody tr th {\n",
       "        vertical-align: top;\n",
       "    }\n",
       "\n",
       "    .dataframe thead th {\n",
       "        text-align: right;\n",
       "    }\n",
       "</style>\n",
       "<table border=\"1\" class=\"dataframe\">\n",
       "  <thead>\n",
       "    <tr style=\"text-align: right;\">\n",
       "      <th></th>\n",
       "      <th>s1</th>\n",
       "      <th>s2</th>\n",
       "      <th>s3</th>\n",
       "      <th>s4</th>\n",
       "      <th>s5</th>\n",
       "      <th>s6</th>\n",
       "      <th>s7</th>\n",
       "      <th>s8</th>\n",
       "      <th>s9</th>\n",
       "      <th>s10</th>\n",
       "      <th>...</th>\n",
       "      <th>s14</th>\n",
       "      <th>s15</th>\n",
       "      <th>s16</th>\n",
       "      <th>s17</th>\n",
       "      <th>s18</th>\n",
       "      <th>s19</th>\n",
       "      <th>s20</th>\n",
       "      <th>s21</th>\n",
       "      <th>ttf</th>\n",
       "      <th>label_bnc</th>\n",
       "    </tr>\n",
       "  </thead>\n",
       "  <tbody>\n",
       "    <tr>\n",
       "      <th>count</th>\n",
       "      <td>20631.00</td>\n",
       "      <td>20631.000000</td>\n",
       "      <td>20631.000000</td>\n",
       "      <td>20631.000000</td>\n",
       "      <td>2.063100e+04</td>\n",
       "      <td>20631.000000</td>\n",
       "      <td>20631.000000</td>\n",
       "      <td>20631.000000</td>\n",
       "      <td>20631.000000</td>\n",
       "      <td>20631.0</td>\n",
       "      <td>...</td>\n",
       "      <td>20631.000000</td>\n",
       "      <td>20631.000000</td>\n",
       "      <td>2.063100e+04</td>\n",
       "      <td>20631.000000</td>\n",
       "      <td>20631.0</td>\n",
       "      <td>20631.0</td>\n",
       "      <td>20631.000000</td>\n",
       "      <td>20631.000000</td>\n",
       "      <td>20631.000000</td>\n",
       "      <td>20631.000000</td>\n",
       "    </tr>\n",
       "    <tr>\n",
       "      <th>mean</th>\n",
       "      <td>518.67</td>\n",
       "      <td>642.680934</td>\n",
       "      <td>1590.523119</td>\n",
       "      <td>1408.933782</td>\n",
       "      <td>1.462000e+01</td>\n",
       "      <td>21.609803</td>\n",
       "      <td>553.367711</td>\n",
       "      <td>2388.096652</td>\n",
       "      <td>9065.242941</td>\n",
       "      <td>1.3</td>\n",
       "      <td>...</td>\n",
       "      <td>8143.752722</td>\n",
       "      <td>8.442146</td>\n",
       "      <td>3.000000e-02</td>\n",
       "      <td>393.210654</td>\n",
       "      <td>2388.0</td>\n",
       "      <td>100.0</td>\n",
       "      <td>38.816271</td>\n",
       "      <td>23.289705</td>\n",
       "      <td>107.807862</td>\n",
       "      <td>0.150259</td>\n",
       "    </tr>\n",
       "    <tr>\n",
       "      <th>std</th>\n",
       "      <td>0.00</td>\n",
       "      <td>0.500053</td>\n",
       "      <td>6.131150</td>\n",
       "      <td>9.000605</td>\n",
       "      <td>1.776400e-15</td>\n",
       "      <td>0.001389</td>\n",
       "      <td>0.885092</td>\n",
       "      <td>0.070985</td>\n",
       "      <td>22.082880</td>\n",
       "      <td>0.0</td>\n",
       "      <td>...</td>\n",
       "      <td>19.076176</td>\n",
       "      <td>0.037505</td>\n",
       "      <td>1.387812e-17</td>\n",
       "      <td>1.548763</td>\n",
       "      <td>0.0</td>\n",
       "      <td>0.0</td>\n",
       "      <td>0.180746</td>\n",
       "      <td>0.108251</td>\n",
       "      <td>68.880990</td>\n",
       "      <td>0.357334</td>\n",
       "    </tr>\n",
       "    <tr>\n",
       "      <th>min</th>\n",
       "      <td>518.67</td>\n",
       "      <td>641.210000</td>\n",
       "      <td>1571.040000</td>\n",
       "      <td>1382.250000</td>\n",
       "      <td>1.462000e+01</td>\n",
       "      <td>21.600000</td>\n",
       "      <td>549.850000</td>\n",
       "      <td>2387.900000</td>\n",
       "      <td>9021.730000</td>\n",
       "      <td>1.3</td>\n",
       "      <td>...</td>\n",
       "      <td>8099.940000</td>\n",
       "      <td>8.324900</td>\n",
       "      <td>3.000000e-02</td>\n",
       "      <td>388.000000</td>\n",
       "      <td>2388.0</td>\n",
       "      <td>100.0</td>\n",
       "      <td>38.140000</td>\n",
       "      <td>22.894200</td>\n",
       "      <td>0.000000</td>\n",
       "      <td>0.000000</td>\n",
       "    </tr>\n",
       "    <tr>\n",
       "      <th>25%</th>\n",
       "      <td>518.67</td>\n",
       "      <td>642.325000</td>\n",
       "      <td>1586.260000</td>\n",
       "      <td>1402.360000</td>\n",
       "      <td>1.462000e+01</td>\n",
       "      <td>21.610000</td>\n",
       "      <td>552.810000</td>\n",
       "      <td>2388.050000</td>\n",
       "      <td>9053.100000</td>\n",
       "      <td>1.3</td>\n",
       "      <td>...</td>\n",
       "      <td>8133.245000</td>\n",
       "      <td>8.414900</td>\n",
       "      <td>3.000000e-02</td>\n",
       "      <td>392.000000</td>\n",
       "      <td>2388.0</td>\n",
       "      <td>100.0</td>\n",
       "      <td>38.700000</td>\n",
       "      <td>23.221800</td>\n",
       "      <td>51.000000</td>\n",
       "      <td>0.000000</td>\n",
       "    </tr>\n",
       "    <tr>\n",
       "      <th>50%</th>\n",
       "      <td>518.67</td>\n",
       "      <td>642.640000</td>\n",
       "      <td>1590.100000</td>\n",
       "      <td>1408.040000</td>\n",
       "      <td>1.462000e+01</td>\n",
       "      <td>21.610000</td>\n",
       "      <td>553.440000</td>\n",
       "      <td>2388.090000</td>\n",
       "      <td>9060.660000</td>\n",
       "      <td>1.3</td>\n",
       "      <td>...</td>\n",
       "      <td>8140.540000</td>\n",
       "      <td>8.438900</td>\n",
       "      <td>3.000000e-02</td>\n",
       "      <td>393.000000</td>\n",
       "      <td>2388.0</td>\n",
       "      <td>100.0</td>\n",
       "      <td>38.830000</td>\n",
       "      <td>23.297900</td>\n",
       "      <td>103.000000</td>\n",
       "      <td>0.000000</td>\n",
       "    </tr>\n",
       "    <tr>\n",
       "      <th>75%</th>\n",
       "      <td>518.67</td>\n",
       "      <td>643.000000</td>\n",
       "      <td>1594.380000</td>\n",
       "      <td>1414.555000</td>\n",
       "      <td>1.462000e+01</td>\n",
       "      <td>21.610000</td>\n",
       "      <td>554.010000</td>\n",
       "      <td>2388.140000</td>\n",
       "      <td>9069.420000</td>\n",
       "      <td>1.3</td>\n",
       "      <td>...</td>\n",
       "      <td>8148.310000</td>\n",
       "      <td>8.465600</td>\n",
       "      <td>3.000000e-02</td>\n",
       "      <td>394.000000</td>\n",
       "      <td>2388.0</td>\n",
       "      <td>100.0</td>\n",
       "      <td>38.950000</td>\n",
       "      <td>23.366800</td>\n",
       "      <td>155.000000</td>\n",
       "      <td>0.000000</td>\n",
       "    </tr>\n",
       "    <tr>\n",
       "      <th>max</th>\n",
       "      <td>518.67</td>\n",
       "      <td>644.530000</td>\n",
       "      <td>1616.910000</td>\n",
       "      <td>1441.490000</td>\n",
       "      <td>1.462000e+01</td>\n",
       "      <td>21.610000</td>\n",
       "      <td>556.060000</td>\n",
       "      <td>2388.560000</td>\n",
       "      <td>9244.590000</td>\n",
       "      <td>1.3</td>\n",
       "      <td>...</td>\n",
       "      <td>8293.720000</td>\n",
       "      <td>8.584800</td>\n",
       "      <td>3.000000e-02</td>\n",
       "      <td>400.000000</td>\n",
       "      <td>2388.0</td>\n",
       "      <td>100.0</td>\n",
       "      <td>39.430000</td>\n",
       "      <td>23.618400</td>\n",
       "      <td>361.000000</td>\n",
       "      <td>1.000000</td>\n",
       "    </tr>\n",
       "  </tbody>\n",
       "</table>\n",
       "<p>8 rows × 23 columns</p>\n",
       "</div>"
      ],
      "text/plain": [
       "             s1            s2            s3            s4            s5  \\\n",
       "count  20631.00  20631.000000  20631.000000  20631.000000  2.063100e+04   \n",
       "mean     518.67    642.680934   1590.523119   1408.933782  1.462000e+01   \n",
       "std        0.00      0.500053      6.131150      9.000605  1.776400e-15   \n",
       "min      518.67    641.210000   1571.040000   1382.250000  1.462000e+01   \n",
       "25%      518.67    642.325000   1586.260000   1402.360000  1.462000e+01   \n",
       "50%      518.67    642.640000   1590.100000   1408.040000  1.462000e+01   \n",
       "75%      518.67    643.000000   1594.380000   1414.555000  1.462000e+01   \n",
       "max      518.67    644.530000   1616.910000   1441.490000  1.462000e+01   \n",
       "\n",
       "                 s6            s7            s8            s9      s10  ...  \\\n",
       "count  20631.000000  20631.000000  20631.000000  20631.000000  20631.0  ...   \n",
       "mean      21.609803    553.367711   2388.096652   9065.242941      1.3  ...   \n",
       "std        0.001389      0.885092      0.070985     22.082880      0.0  ...   \n",
       "min       21.600000    549.850000   2387.900000   9021.730000      1.3  ...   \n",
       "25%       21.610000    552.810000   2388.050000   9053.100000      1.3  ...   \n",
       "50%       21.610000    553.440000   2388.090000   9060.660000      1.3  ...   \n",
       "75%       21.610000    554.010000   2388.140000   9069.420000      1.3  ...   \n",
       "max       21.610000    556.060000   2388.560000   9244.590000      1.3  ...   \n",
       "\n",
       "                s14           s15           s16           s17      s18  \\\n",
       "count  20631.000000  20631.000000  2.063100e+04  20631.000000  20631.0   \n",
       "mean    8143.752722      8.442146  3.000000e-02    393.210654   2388.0   \n",
       "std       19.076176      0.037505  1.387812e-17      1.548763      0.0   \n",
       "min     8099.940000      8.324900  3.000000e-02    388.000000   2388.0   \n",
       "25%     8133.245000      8.414900  3.000000e-02    392.000000   2388.0   \n",
       "50%     8140.540000      8.438900  3.000000e-02    393.000000   2388.0   \n",
       "75%     8148.310000      8.465600  3.000000e-02    394.000000   2388.0   \n",
       "max     8293.720000      8.584800  3.000000e-02    400.000000   2388.0   \n",
       "\n",
       "           s19           s20           s21           ttf     label_bnc  \n",
       "count  20631.0  20631.000000  20631.000000  20631.000000  20631.000000  \n",
       "mean     100.0     38.816271     23.289705    107.807862      0.150259  \n",
       "std        0.0      0.180746      0.108251     68.880990      0.357334  \n",
       "min      100.0     38.140000     22.894200      0.000000      0.000000  \n",
       "25%      100.0     38.700000     23.221800     51.000000      0.000000  \n",
       "50%      100.0     38.830000     23.297900    103.000000      0.000000  \n",
       "75%      100.0     38.950000     23.366800    155.000000      0.000000  \n",
       "max      100.0     39.430000     23.618400    361.000000      1.000000  \n",
       "\n",
       "[8 rows x 23 columns]"
      ]
     },
     "execution_count": 5,
     "metadata": {},
     "output_type": "execute_result"
    }
   ],
   "source": [
    "data_train[features].describe()"
   ]
  },
  {
   "cell_type": "code",
   "execution_count": 6,
   "id": "political-blanket",
   "metadata": {},
   "outputs": [
    {
     "name": "stdout",
     "output_type": "stream",
     "text": [
      "<class 'pandas.core.frame.DataFrame'>\n",
      "RangeIndex: 20631 entries, 0 to 20630\n",
      "Data columns (total 23 columns):\n",
      " #   Column     Non-Null Count  Dtype  \n",
      "---  ------     --------------  -----  \n",
      " 0   s1         20631 non-null  float64\n",
      " 1   s2         20631 non-null  float64\n",
      " 2   s3         20631 non-null  float64\n",
      " 3   s4         20631 non-null  float64\n",
      " 4   s5         20631 non-null  float64\n",
      " 5   s6         20631 non-null  float64\n",
      " 6   s7         20631 non-null  float64\n",
      " 7   s8         20631 non-null  float64\n",
      " 8   s9         20631 non-null  float64\n",
      " 9   s10        20631 non-null  float64\n",
      " 10  s11        20631 non-null  float64\n",
      " 11  s12        20631 non-null  float64\n",
      " 12  s13        20631 non-null  float64\n",
      " 13  s14        20631 non-null  float64\n",
      " 14  s15        20631 non-null  float64\n",
      " 15  s16        20631 non-null  float64\n",
      " 16  s17        20631 non-null  int64  \n",
      " 17  s18        20631 non-null  int64  \n",
      " 18  s19        20631 non-null  float64\n",
      " 19  s20        20631 non-null  float64\n",
      " 20  s21        20631 non-null  float64\n",
      " 21  ttf        20631 non-null  int64  \n",
      " 22  label_bnc  20631 non-null  int64  \n",
      "dtypes: float64(19), int64(4)\n",
      "memory usage: 3.6 MB\n"
     ]
    }
   ],
   "source": [
    "data_train[features].info()"
   ]
  },
  {
   "cell_type": "markdown",
   "id": "gross-praise",
   "metadata": {},
   "source": [
    "## Biểu diễn dữ liệu khuyết thiếu:"
   ]
  },
  {
   "cell_type": "code",
   "execution_count": 7,
   "id": "collaborative-browse",
   "metadata": {},
   "outputs": [
    {
     "data": {
      "text/plain": [
       "<AxesSubplot:>"
      ]
     },
     "execution_count": 7,
     "metadata": {},
     "output_type": "execute_result"
    },
    {
     "data": {
      "image/png": "[encoded data removed]",
      "text/plain": [
       "<Figure size 432x288 with 1 Axes>"
      ]
     },
     "metadata": {
      "needs_background": "light"
     },
     "output_type": "display_data"
    }
   ],
   "source": [
    "%matplotlib inline\n",
    "sns.heatmap(data=data_train[features].isnull(), yticklabels=False, cbar =False, cmap = 'viridis')"
   ]
  },
  {
   "cell_type": "markdown",
   "id": "bacterial-causing",
   "metadata": {},
   "source": [
    "## xử lí giá trị ngoại lại"
   ]
  },
  {
   "cell_type": "code",
   "execution_count": null,
   "id": "metric-cleaning",
   "metadata": {},
   "outputs": [],
   "source": []
  },
  {
   "cell_type": "code",
   "execution_count": 9,
   "id": "taken-thread",
   "metadata": {},
   "outputs": [
    {
     "data": {
      "image/png": "[encoded data removed]",
      "text/plain": [
       "<Figure size 720x360 with 1 Axes>"
      ]
     },
     "metadata": {
      "needs_background": "light"
     },
     "output_type": "display_data"
    }
   ],
   "source": [
    "plt.figure(figsize=(10,5))\n",
    "sns.boxplot(data = data_train['s2'],orient=\"h\",color = 'g') \n",
    "plt.show()"
   ]
  },
  {
   "cell_type": "code",
   "execution_count": 10,
   "id": "apparent-midwest",
   "metadata": {},
   "outputs": [
    {
     "data": {
      "image/png": "[encoded data removed]",
      "text/plain": [
       "<Figure size 720x360 with 1 Axes>"
      ]
     },
     "metadata": {
      "needs_background": "light"
     },
     "output_type": "display_data"
    }
   ],
   "source": [
    "plt.figure(figsize=(10,5))\n",
    "sns.boxplot(data = data_train['s3'],orient=\"h\",color = 'g') \n",
    "plt.show()"
   ]
  },
  {
   "cell_type": "code",
   "execution_count": 11,
   "id": "alpine-gasoline",
   "metadata": {},
   "outputs": [
    {
     "data": {
      "image/png": "[encoded data removed]",
      "text/plain": [
       "<Figure size 720x360 with 1 Axes>"
      ]
     },
     "metadata": {
      "needs_background": "light"
     },
     "output_type": "display_data"
    }
   ],
   "source": [
    "plt.figure(figsize=(10,5))\n",
    "sns.boxplot(data = data_train['s4'],orient=\"h\",color = 'g') \n",
    "plt.show()"
   ]
  },
  {
   "cell_type": "code",
   "execution_count": 14,
   "id": "tutorial-midnight",
   "metadata": {},
   "outputs": [
    {
     "data": {
      "image/png": "[encoded data removed]",
      "text/plain": [
       "<Figure size 720x360 with 1 Axes>"
      ]
     },
     "metadata": {
      "needs_background": "light"
     },
     "output_type": "display_data"
    }
   ],
   "source": [
    "plt.figure(figsize=(10,5))\n",
    "sns.boxplot(data = data_train['s7'],orient=\"h\",color = 'g') \n",
    "plt.show()"
   ]
  },
  {
   "cell_type": "code",
   "execution_count": 15,
   "id": "divine-schedule",
   "metadata": {},
   "outputs": [
    {
     "data": {
      "image/png": "[encoded data removed]",
      "text/plain": [
       "<Figure size 720x360 with 1 Axes>"
      ]
     },
     "metadata": {
      "needs_background": "light"
     },
     "output_type": "display_data"
    }
   ],
   "source": [
    "plt.figure(figsize=(10,5))\n",
    "sns.boxplot(data = data_train['s8'],orient=\"h\",color = 'g') \n",
    "plt.show()"
   ]
  },
  {
   "cell_type": "code",
   "execution_count": 16,
   "id": "sudden-original",
   "metadata": {},
   "outputs": [
    {
     "data": {
      "image/png": "[encoded data removed]",
      "text/plain": [
       "<Figure size 720x360 with 1 Axes>"
      ]
     },
     "metadata": {
      "needs_background": "light"
     },
     "output_type": "display_data"
    }
   ],
   "source": [
    "plt.figure(figsize=(10,5))\n",
    "sns.boxplot(data = data_train['s9'],orient=\"h\",color = 'g') \n",
    "plt.show()"
   ]
  },
  {
   "cell_type": "code",
   "execution_count": 18,
   "id": "documentary-compression",
   "metadata": {},
   "outputs": [
    {
     "data": {
      "image/png": "[encoded data removed]",
      "text/plain": [
       "<Figure size 720x360 with 1 Axes>"
      ]
     },
     "metadata": {
      "needs_background": "light"
     },
     "output_type": "display_data"
    }
   ],
   "source": [
    "plt.figure(figsize=(10,5))\n",
    "sns.boxplot(data = data_train['s11'],orient=\"h\",color = 'g') \n",
    "plt.show()"
   ]
  },
  {
   "cell_type": "code",
   "execution_count": 19,
   "id": "comic-shield",
   "metadata": {},
   "outputs": [
    {
     "data": {
      "image/png": "[encoded data removed]",
      "text/plain": [
       "<Figure size 720x360 with 1 Axes>"
      ]
     },
     "metadata": {
      "needs_background": "light"
     },
     "output_type": "display_data"
    }
   ],
   "source": [
    "plt.figure(figsize=(10,5))\n",
    "sns.boxplot(data = data_train['s12'],orient=\"h\",color = 'g') \n",
    "plt.show()"
   ]
  },
  {
   "cell_type": "code",
   "execution_count": 20,
   "id": "private-chemistry",
   "metadata": {},
   "outputs": [
    {
     "data": {
      "image/png": "[encoded data removed]",
      "text/plain": [
       "<Figure size 720x360 with 1 Axes>"
      ]
     },
     "metadata": {
      "needs_background": "light"
     },
     "output_type": "display_data"
    }
   ],
   "source": [
    "plt.figure(figsize=(10,5))\n",
    "sns.boxplot(data = data_train['s13'],orient=\"h\",color = 'g') \n",
    "plt.show()"
   ]
  },
  {
   "cell_type": "code",
   "execution_count": 21,
   "id": "absent-animal",
   "metadata": {},
   "outputs": [
    {
     "data": {
      "image/png": "[encoded data removed]",
      "text/plain": [
       "<Figure size 720x360 with 1 Axes>"
      ]
     },
     "metadata": {
      "needs_background": "light"
     },
     "output_type": "display_data"
    }
   ],
   "source": [
    "plt.figure(figsize=(10,5))\n",
    "sns.boxplot(data = data_train['s14'],orient=\"h\",color = 'g') \n",
    "plt.show()"
   ]
  },
  {
   "cell_type": "code",
   "execution_count": 22,
   "id": "close-white",
   "metadata": {},
   "outputs": [
    {
     "data": {
      "image/png": "[encoded data removed]",
      "text/plain": [
       "<Figure size 720x360 with 1 Axes>"
      ]
     },
     "metadata": {
      "needs_background": "light"
     },
     "output_type": "display_data"
    }
   ],
   "source": [
    "plt.figure(figsize=(10,5))\n",
    "sns.boxplot(data = data_train['s15'],orient=\"h\",color = 'g') \n",
    "plt.show()"
   ]
  },
  {
   "cell_type": "code",
   "execution_count": 24,
   "id": "stretch-society",
   "metadata": {},
   "outputs": [
    {
     "data": {
      "image/png": "[encoded data removed]",
      "text/plain": [
       "<Figure size 720x360 with 1 Axes>"
      ]
     },
     "metadata": {
      "needs_background": "light"
     },
     "output_type": "display_data"
    }
   ],
   "source": [
    "plt.figure(figsize=(10,5))\n",
    "sns.boxplot(data = data_train['s17'],orient=\"h\",color = 'g') \n",
    "plt.show()"
   ]
  },
  {
   "cell_type": "code",
   "execution_count": 27,
   "id": "given-accuracy",
   "metadata": {},
   "outputs": [
    {
     "data": {
      "image/png": "[encoded data removed]",
      "text/plain": [
       "<Figure size 720x360 with 1 Axes>"
      ]
     },
     "metadata": {
      "needs_background": "light"
     },
     "output_type": "display_data"
    }
   ],
   "source": [
    "plt.figure(figsize=(10,5))\n",
    "sns.boxplot(data = data_train['s20'],orient=\"h\",color = 'g') \n",
    "plt.show()"
   ]
  },
  {
   "cell_type": "code",
   "execution_count": 28,
   "id": "sought-balloon",
   "metadata": {},
   "outputs": [
    {
     "data": {
      "image/png": "[encoded data removed]",
      "text/plain": [
       "<Figure size 720x360 with 1 Axes>"
      ]
     },
     "metadata": {
      "needs_background": "light"
     },
     "output_type": "display_data"
    }
   ],
   "source": [
    "plt.figure(figsize=(10,5))\n",
    "sns.boxplot(data = data_train['s21'],orient=\"h\",color = 'g') \n",
    "plt.show()"
   ]
  },
  {
   "cell_type": "code",
   "execution_count": 29,
   "id": "artistic-record",
   "metadata": {},
   "outputs": [],
   "source": [
    "data = data_train[features]"
   ]
  },
  {
   "cell_type": "markdown",
   "id": "premium-empty",
   "metadata": {},
   "source": []
  },
  {
   "cell_type": "code",
   "execution_count": 30,
   "id": "endangered-cleanup",
   "metadata": {},
   "outputs": [],
   "source": [
    "factor = 3\n",
    "upper_lim = data['s2'].mean () + data['s2'].std () * factor\n",
    "lower_lim = data['s2'].mean () - data['s2'].std () * factor\n",
    "\n",
    "data = data[(data['s2'] < upper_lim) & (data['s2'] > lower_lim)]"
   ]
  },
  {
   "cell_type": "code",
   "execution_count": 31,
   "id": "collected-kernel",
   "metadata": {},
   "outputs": [],
   "source": [
    "factor = 3\n",
    "upper_lim = data['s3'].mean () + data['s3'].std () * factor\n",
    "lower_lim = data['s3'].mean () - data['s3'].std () * factor\n",
    "\n",
    "data = data[(data['s3'] < upper_lim) & (data['s3'] > lower_lim)]"
   ]
  },
  {
   "cell_type": "code",
   "execution_count": 32,
   "id": "formal-product",
   "metadata": {},
   "outputs": [],
   "source": [
    "factor = 3\n",
    "upper_lim = data['s4'].mean () + data['s4'].std () * factor\n",
    "lower_lim = data['s4'].mean () - data['s4'].std () * factor\n",
    "\n",
    "data = data[(data['s4'] < upper_lim) & (data['s4'] > lower_lim)]"
   ]
  },
  {
   "cell_type": "code",
   "execution_count": 33,
   "id": "smooth-marketing",
   "metadata": {},
   "outputs": [],
   "source": [
    "factor = 3\n",
    "upper_lim = data['s6'].mean () + data['s6'].std () * factor\n",
    "lower_lim = data['s6'].mean () - data['s6'].std () * factor\n",
    "\n",
    "data = data[(data['s6'] < upper_lim) & (data['s6'] > lower_lim)]"
   ]
  },
  {
   "cell_type": "code",
   "execution_count": 34,
   "id": "interstate-insight",
   "metadata": {},
   "outputs": [],
   "source": [
    "factor = 3\n",
    "upper_lim = data['s7'].mean () + data['s7'].std () * factor\n",
    "lower_lim = data['s7'].mean () - data['s7'].std () * factor\n",
    "\n",
    "data = data[(data['s7'] < upper_lim) & (data['s7'] > lower_lim)]"
   ]
  },
  {
   "cell_type": "code",
   "execution_count": 35,
   "id": "secure-answer",
   "metadata": {},
   "outputs": [],
   "source": [
    "factor = 3\n",
    "upper_lim = data['s8'].mean () + data['s8'].std () * factor\n",
    "lower_lim = data['s8'].mean () - data['s8'].std () * factor\n",
    "\n",
    "data = data[(data['s8'] < upper_lim) & (data['s8'] > lower_lim)]"
   ]
  },
  {
   "cell_type": "code",
   "execution_count": 36,
   "id": "material-combine",
   "metadata": {},
   "outputs": [],
   "source": [
    "factor = 3\n",
    "upper_lim = data['s9'].mean () + data['s9'].std () * factor\n",
    "lower_lim = data['s9'].mean () - data['s9'].std () * factor\n",
    "\n",
    "data = data[(data['s9'] < upper_lim) & (data['s9'] > lower_lim)]"
   ]
  },
  {
   "cell_type": "code",
   "execution_count": 37,
   "id": "infectious-piece",
   "metadata": {},
   "outputs": [],
   "source": [
    "factor = 3\n",
    "upper_lim = data['s11'].mean () + data['s11'].std () * factor\n",
    "lower_lim = data['s11'].mean () - data['s11'].std () * factor\n",
    "\n",
    "data = data[(data['s11'] < upper_lim) & (data['s11'] > lower_lim)]"
   ]
  },
  {
   "cell_type": "code",
   "execution_count": 38,
   "id": "welcome-inspector",
   "metadata": {},
   "outputs": [],
   "source": [
    "factor = 3\n",
    "upper_lim = data['s12'].mean () + data['s12'].std () * factor\n",
    "lower_lim = data['s12'].mean () - data['s12'].std () * factor\n",
    "\n",
    "data = data[(data['s12'] < upper_lim) & (data['s12'] > lower_lim)]"
   ]
  },
  {
   "cell_type": "code",
   "execution_count": 39,
   "id": "clear-brief",
   "metadata": {},
   "outputs": [],
   "source": [
    "factor = 3\n",
    "upper_lim = data['s13'].mean () + data['s13'].std () * factor\n",
    "lower_lim = data['s13'].mean () - data['s13'].std () * factor\n",
    "\n",
    "data = data[(data['s13'] < upper_lim) & (data['s13'] > lower_lim)]"
   ]
  },
  {
   "cell_type": "code",
   "execution_count": 40,
   "id": "ultimate-internet",
   "metadata": {},
   "outputs": [],
   "source": [
    "factor = 3\n",
    "upper_lim = data['s14'].mean () + data['s14'].std () * factor\n",
    "lower_lim = data['s14'].mean () - data['s14'].std () * factor\n",
    "\n",
    "data = data[(data['s14'] < upper_lim) & (data['s14'] > lower_lim)]"
   ]
  },
  {
   "cell_type": "code",
   "execution_count": 41,
   "id": "liked-couple",
   "metadata": {},
   "outputs": [],
   "source": [
    "factor = 3\n",
    "upper_lim = data['s15'].mean () + data['s15'].std () * factor\n",
    "lower_lim = data['s15'].mean () - data['s15'].std () * factor\n",
    "\n",
    "data = data[(data['s15'] < upper_lim) & (data['s15'] > lower_lim)]"
   ]
  },
  {
   "cell_type": "code",
   "execution_count": 42,
   "id": "accompanied-institute",
   "metadata": {},
   "outputs": [],
   "source": [
    "factor = 3\n",
    "upper_lim = data['s21'].mean () + data['s21'].std () * factor\n",
    "lower_lim = data['s21'].mean () - data['s21'].std () * factor\n",
    "\n",
    "data = data[(data['s21'] < upper_lim) & (data['s21'] > lower_lim)]"
   ]
  },
  {
   "cell_type": "code",
   "execution_count": 43,
   "id": "meaning-gregory",
   "metadata": {},
   "outputs": [],
   "source": [
    "factor = 3\n",
    "upper_lim = data['s17'].mean () + data['s17'].std () * factor\n",
    "lower_lim = data['s17'].mean () - data['s17'].std () * factor\n",
    "\n",
    "data = data[(data['s17'] < upper_lim) & (data['s17'] > lower_lim)]"
   ]
  },
  {
   "cell_type": "code",
   "execution_count": 44,
   "id": "accepted-district",
   "metadata": {},
   "outputs": [],
   "source": [
    "factor = 3\n",
    "upper_lim = data['s20'].mean () + data['s20'].std () * factor\n",
    "lower_lim = data['s20'].mean () - data['s20'].std () * factor\n",
    "\n",
    "data = data[(data['s20'] < upper_lim) & (data['s20'] > lower_lim)]"
   ]
  },
  {
   "cell_type": "code",
   "execution_count": 45,
   "id": "statutory-things",
   "metadata": {},
   "outputs": [
    {
     "data": {
      "text/html": [
       "<div>\n",
       "<style scoped>\n",
       "    .dataframe tbody tr th:only-of-type {\n",
       "        vertical-align: middle;\n",
       "    }\n",
       "\n",
       "    .dataframe tbody tr th {\n",
       "        vertical-align: top;\n",
       "    }\n",
       "\n",
       "    .dataframe thead th {\n",
       "        text-align: right;\n",
       "    }\n",
       "</style>\n",
       "<table border=\"1\" class=\"dataframe\">\n",
       "  <thead>\n",
       "    <tr style=\"text-align: right;\">\n",
       "      <th></th>\n",
       "      <th>s1</th>\n",
       "      <th>s2</th>\n",
       "      <th>s3</th>\n",
       "      <th>s4</th>\n",
       "      <th>s5</th>\n",
       "      <th>s6</th>\n",
       "      <th>s7</th>\n",
       "      <th>s8</th>\n",
       "      <th>s9</th>\n",
       "      <th>s10</th>\n",
       "      <th>...</th>\n",
       "      <th>s14</th>\n",
       "      <th>s15</th>\n",
       "      <th>s16</th>\n",
       "      <th>s17</th>\n",
       "      <th>s18</th>\n",
       "      <th>s19</th>\n",
       "      <th>s20</th>\n",
       "      <th>s21</th>\n",
       "      <th>ttf</th>\n",
       "      <th>label_bnc</th>\n",
       "    </tr>\n",
       "  </thead>\n",
       "  <tbody>\n",
       "    <tr>\n",
       "      <th>0</th>\n",
       "      <td>518.67</td>\n",
       "      <td>641.82</td>\n",
       "      <td>1589.70</td>\n",
       "      <td>1400.60</td>\n",
       "      <td>14.62</td>\n",
       "      <td>21.61</td>\n",
       "      <td>554.36</td>\n",
       "      <td>2388.06</td>\n",
       "      <td>9046.19</td>\n",
       "      <td>1.3</td>\n",
       "      <td>...</td>\n",
       "      <td>8138.62</td>\n",
       "      <td>8.4195</td>\n",
       "      <td>0.03</td>\n",
       "      <td>392</td>\n",
       "      <td>2388</td>\n",
       "      <td>100.0</td>\n",
       "      <td>39.06</td>\n",
       "      <td>23.4190</td>\n",
       "      <td>191</td>\n",
       "      <td>0</td>\n",
       "    </tr>\n",
       "    <tr>\n",
       "      <th>1</th>\n",
       "      <td>518.67</td>\n",
       "      <td>642.15</td>\n",
       "      <td>1591.82</td>\n",
       "      <td>1403.14</td>\n",
       "      <td>14.62</td>\n",
       "      <td>21.61</td>\n",
       "      <td>553.75</td>\n",
       "      <td>2388.04</td>\n",
       "      <td>9044.07</td>\n",
       "      <td>1.3</td>\n",
       "      <td>...</td>\n",
       "      <td>8131.49</td>\n",
       "      <td>8.4318</td>\n",
       "      <td>0.03</td>\n",
       "      <td>392</td>\n",
       "      <td>2388</td>\n",
       "      <td>100.0</td>\n",
       "      <td>39.00</td>\n",
       "      <td>23.4236</td>\n",
       "      <td>190</td>\n",
       "      <td>0</td>\n",
       "    </tr>\n",
       "    <tr>\n",
       "      <th>2</th>\n",
       "      <td>518.67</td>\n",
       "      <td>642.35</td>\n",
       "      <td>1587.99</td>\n",
       "      <td>1404.20</td>\n",
       "      <td>14.62</td>\n",
       "      <td>21.61</td>\n",
       "      <td>554.26</td>\n",
       "      <td>2388.08</td>\n",
       "      <td>9052.94</td>\n",
       "      <td>1.3</td>\n",
       "      <td>...</td>\n",
       "      <td>8133.23</td>\n",
       "      <td>8.4178</td>\n",
       "      <td>0.03</td>\n",
       "      <td>390</td>\n",
       "      <td>2388</td>\n",
       "      <td>100.0</td>\n",
       "      <td>38.95</td>\n",
       "      <td>23.3442</td>\n",
       "      <td>189</td>\n",
       "      <td>0</td>\n",
       "    </tr>\n",
       "    <tr>\n",
       "      <th>3</th>\n",
       "      <td>518.67</td>\n",
       "      <td>642.35</td>\n",
       "      <td>1582.79</td>\n",
       "      <td>1401.87</td>\n",
       "      <td>14.62</td>\n",
       "      <td>21.61</td>\n",
       "      <td>554.45</td>\n",
       "      <td>2388.11</td>\n",
       "      <td>9049.48</td>\n",
       "      <td>1.3</td>\n",
       "      <td>...</td>\n",
       "      <td>8133.83</td>\n",
       "      <td>8.3682</td>\n",
       "      <td>0.03</td>\n",
       "      <td>392</td>\n",
       "      <td>2388</td>\n",
       "      <td>100.0</td>\n",
       "      <td>38.88</td>\n",
       "      <td>23.3739</td>\n",
       "      <td>188</td>\n",
       "      <td>0</td>\n",
       "    </tr>\n",
       "    <tr>\n",
       "      <th>4</th>\n",
       "      <td>518.67</td>\n",
       "      <td>642.37</td>\n",
       "      <td>1582.85</td>\n",
       "      <td>1406.22</td>\n",
       "      <td>14.62</td>\n",
       "      <td>21.61</td>\n",
       "      <td>554.00</td>\n",
       "      <td>2388.06</td>\n",
       "      <td>9055.15</td>\n",
       "      <td>1.3</td>\n",
       "      <td>...</td>\n",
       "      <td>8133.80</td>\n",
       "      <td>8.4294</td>\n",
       "      <td>0.03</td>\n",
       "      <td>393</td>\n",
       "      <td>2388</td>\n",
       "      <td>100.0</td>\n",
       "      <td>38.90</td>\n",
       "      <td>23.4044</td>\n",
       "      <td>187</td>\n",
       "      <td>0</td>\n",
       "    </tr>\n",
       "    <tr>\n",
       "      <th>...</th>\n",
       "      <td>...</td>\n",
       "      <td>...</td>\n",
       "      <td>...</td>\n",
       "      <td>...</td>\n",
       "      <td>...</td>\n",
       "      <td>...</td>\n",
       "      <td>...</td>\n",
       "      <td>...</td>\n",
       "      <td>...</td>\n",
       "      <td>...</td>\n",
       "      <td>...</td>\n",
       "      <td>...</td>\n",
       "      <td>...</td>\n",
       "      <td>...</td>\n",
       "      <td>...</td>\n",
       "      <td>...</td>\n",
       "      <td>...</td>\n",
       "      <td>...</td>\n",
       "      <td>...</td>\n",
       "      <td>...</td>\n",
       "      <td>...</td>\n",
       "    </tr>\n",
       "    <tr>\n",
       "      <th>20619</th>\n",
       "      <td>518.67</td>\n",
       "      <td>643.69</td>\n",
       "      <td>1599.85</td>\n",
       "      <td>1423.15</td>\n",
       "      <td>14.62</td>\n",
       "      <td>21.61</td>\n",
       "      <td>551.61</td>\n",
       "      <td>2388.18</td>\n",
       "      <td>9069.69</td>\n",
       "      <td>1.3</td>\n",
       "      <td>...</td>\n",
       "      <td>8139.78</td>\n",
       "      <td>8.4870</td>\n",
       "      <td>0.03</td>\n",
       "      <td>397</td>\n",
       "      <td>2388</td>\n",
       "      <td>100.0</td>\n",
       "      <td>38.65</td>\n",
       "      <td>23.0591</td>\n",
       "      <td>11</td>\n",
       "      <td>1</td>\n",
       "    </tr>\n",
       "    <tr>\n",
       "      <th>20620</th>\n",
       "      <td>518.67</td>\n",
       "      <td>643.12</td>\n",
       "      <td>1594.45</td>\n",
       "      <td>1426.04</td>\n",
       "      <td>14.62</td>\n",
       "      <td>21.61</td>\n",
       "      <td>551.06</td>\n",
       "      <td>2388.21</td>\n",
       "      <td>9064.74</td>\n",
       "      <td>1.3</td>\n",
       "      <td>...</td>\n",
       "      <td>8142.28</td>\n",
       "      <td>8.5162</td>\n",
       "      <td>0.03</td>\n",
       "      <td>395</td>\n",
       "      <td>2388</td>\n",
       "      <td>100.0</td>\n",
       "      <td>38.42</td>\n",
       "      <td>23.0603</td>\n",
       "      <td>10</td>\n",
       "      <td>1</td>\n",
       "    </tr>\n",
       "    <tr>\n",
       "      <th>20622</th>\n",
       "      <td>518.67</td>\n",
       "      <td>643.53</td>\n",
       "      <td>1601.23</td>\n",
       "      <td>1419.48</td>\n",
       "      <td>14.62</td>\n",
       "      <td>21.61</td>\n",
       "      <td>551.14</td>\n",
       "      <td>2388.17</td>\n",
       "      <td>9060.45</td>\n",
       "      <td>1.3</td>\n",
       "      <td>...</td>\n",
       "      <td>8143.46</td>\n",
       "      <td>8.4892</td>\n",
       "      <td>0.03</td>\n",
       "      <td>397</td>\n",
       "      <td>2388</td>\n",
       "      <td>100.0</td>\n",
       "      <td>38.56</td>\n",
       "      <td>23.0770</td>\n",
       "      <td>8</td>\n",
       "      <td>1</td>\n",
       "    </tr>\n",
       "    <tr>\n",
       "      <th>20623</th>\n",
       "      <td>518.67</td>\n",
       "      <td>643.09</td>\n",
       "      <td>1599.81</td>\n",
       "      <td>1428.93</td>\n",
       "      <td>14.62</td>\n",
       "      <td>21.61</td>\n",
       "      <td>552.04</td>\n",
       "      <td>2388.29</td>\n",
       "      <td>9067.57</td>\n",
       "      <td>1.3</td>\n",
       "      <td>...</td>\n",
       "      <td>8142.02</td>\n",
       "      <td>8.5424</td>\n",
       "      <td>0.03</td>\n",
       "      <td>397</td>\n",
       "      <td>2388</td>\n",
       "      <td>100.0</td>\n",
       "      <td>38.47</td>\n",
       "      <td>23.0230</td>\n",
       "      <td>7</td>\n",
       "      <td>1</td>\n",
       "    </tr>\n",
       "    <tr>\n",
       "      <th>20624</th>\n",
       "      <td>518.67</td>\n",
       "      <td>643.72</td>\n",
       "      <td>1597.29</td>\n",
       "      <td>1427.41</td>\n",
       "      <td>14.62</td>\n",
       "      <td>21.61</td>\n",
       "      <td>551.99</td>\n",
       "      <td>2388.23</td>\n",
       "      <td>9068.85</td>\n",
       "      <td>1.3</td>\n",
       "      <td>...</td>\n",
       "      <td>8139.67</td>\n",
       "      <td>8.5215</td>\n",
       "      <td>0.03</td>\n",
       "      <td>394</td>\n",
       "      <td>2388</td>\n",
       "      <td>100.0</td>\n",
       "      <td>38.38</td>\n",
       "      <td>23.1324</td>\n",
       "      <td>6</td>\n",
       "      <td>1</td>\n",
       "    </tr>\n",
       "  </tbody>\n",
       "</table>\n",
       "<p>18839 rows × 23 columns</p>\n",
       "</div>"
      ],
      "text/plain": [
       "           s1      s2       s3       s4     s5     s6      s7       s8  \\\n",
       "0      518.67  641.82  1589.70  1400.60  14.62  21.61  554.36  2388.06   \n",
       "1      518.67  642.15  1591.82  1403.14  14.62  21.61  553.75  2388.04   \n",
       "2      518.67  642.35  1587.99  1404.20  14.62  21.61  554.26  2388.08   \n",
       "3      518.67  642.35  1582.79  1401.87  14.62  21.61  554.45  2388.11   \n",
       "4      518.67  642.37  1582.85  1406.22  14.62  21.61  554.00  2388.06   \n",
       "...       ...     ...      ...      ...    ...    ...     ...      ...   \n",
       "20619  518.67  643.69  1599.85  1423.15  14.62  21.61  551.61  2388.18   \n",
       "20620  518.67  643.12  1594.45  1426.04  14.62  21.61  551.06  2388.21   \n",
       "20622  518.67  643.53  1601.23  1419.48  14.62  21.61  551.14  2388.17   \n",
       "20623  518.67  643.09  1599.81  1428.93  14.62  21.61  552.04  2388.29   \n",
       "20624  518.67  643.72  1597.29  1427.41  14.62  21.61  551.99  2388.23   \n",
       "\n",
       "            s9  s10  ...      s14     s15   s16  s17   s18    s19    s20  \\\n",
       "0      9046.19  1.3  ...  8138.62  8.4195  0.03  392  2388  100.0  39.06   \n",
       "1      9044.07  1.3  ...  8131.49  8.4318  0.03  392  2388  100.0  39.00   \n",
       "2      9052.94  1.3  ...  8133.23  8.4178  0.03  390  2388  100.0  38.95   \n",
       "3      9049.48  1.3  ...  8133.83  8.3682  0.03  392  2388  100.0  38.88   \n",
       "4      9055.15  1.3  ...  8133.80  8.4294  0.03  393  2388  100.0  38.90   \n",
       "...        ...  ...  ...      ...     ...   ...  ...   ...    ...    ...   \n",
       "20619  9069.69  1.3  ...  8139.78  8.4870  0.03  397  2388  100.0  38.65   \n",
       "20620  9064.74  1.3  ...  8142.28  8.5162  0.03  395  2388  100.0  38.42   \n",
       "20622  9060.45  1.3  ...  8143.46  8.4892  0.03  397  2388  100.0  38.56   \n",
       "20623  9067.57  1.3  ...  8142.02  8.5424  0.03  397  2388  100.0  38.47   \n",
       "20624  9068.85  1.3  ...  8139.67  8.5215  0.03  394  2388  100.0  38.38   \n",
       "\n",
       "           s21  ttf  label_bnc  \n",
       "0      23.4190  191          0  \n",
       "1      23.4236  190          0  \n",
       "2      23.3442  189          0  \n",
       "3      23.3739  188          0  \n",
       "4      23.4044  187          0  \n",
       "...        ...  ...        ...  \n",
       "20619  23.0591   11          1  \n",
       "20620  23.0603   10          1  \n",
       "20622  23.0770    8          1  \n",
       "20623  23.0230    7          1  \n",
       "20624  23.1324    6          1  \n",
       "\n",
       "[18839 rows x 23 columns]"
      ]
     },
     "execution_count": 45,
     "metadata": {},
     "output_type": "execute_result"
    }
   ],
   "source": [
    "data"
   ]
  },
  {
   "cell_type": "code",
   "execution_count": 46,
   "id": "useful-fashion",
   "metadata": {},
   "outputs": [],
   "source": [
    "X=data[col_names]\n",
    "y = data['ttf']\n"
   ]
  },
  {
   "cell_type": "code",
   "execution_count": 47,
   "id": "included-thomas",
   "metadata": {},
   "outputs": [
    {
     "data": {
      "text/plain": [
       "<AxesSubplot:xlabel='s2', ylabel='s3'>"
      ]
     },
     "execution_count": 47,
     "metadata": {},
     "output_type": "execute_result"
    },
    {
     "data": {
      "image/png": "[encoded data removed]",
      "text/plain": [
       "<Figure size 432x288 with 1 Axes>"
      ]
     },
     "metadata": {
      "needs_background": "light"
     },
     "output_type": "display_data"
    }
   ],
   "source": [
    "sns.lineplot(x='s2', y='s3', data=X) # from s1 to s21"
   ]
  },
  {
   "cell_type": "code",
   "execution_count": null,
   "id": "democratic-chess",
   "metadata": {},
   "outputs": [],
   "source": []
  },
  {
   "cell_type": "markdown",
   "id": "strategic-steam",
   "metadata": {},
   "source": [
    "## xem phân phối"
   ]
  },
  {
   "cell_type": "code",
   "execution_count": 48,
   "id": "large-notification",
   "metadata": {},
   "outputs": [
    {
     "name": "stderr",
     "output_type": "stream",
     "text": [
      "c:\\users\\administrator\\appdata\\local\\programs\\python\\python37\\lib\\site-packages\\seaborn\\distributions.py:2557: FutureWarning: `distplot` is a deprecated function and will be removed in a future version. Please adapt your code to use either `displot` (a figure-level function with similar flexibility) or `histplot` (an axes-level function for histograms).\n",
      "  warnings.warn(msg, FutureWarning)\n"
     ]
    },
    {
     "data": {
      "text/plain": [
       "<AxesSubplot:xlabel='s2', ylabel='Density'>"
      ]
     },
     "execution_count": 48,
     "metadata": {},
     "output_type": "execute_result"
    },
    {
     "data": {
      "image/png": "[encoded data removed]",
      "text/plain": [
       "<Figure size 432x288 with 1 Axes>"
      ]
     },
     "metadata": {
      "needs_background": "light"
     },
     "output_type": "display_data"
    }
   ],
   "source": [
    "sns.distplot(a=data['s2'], kde=True)"
   ]
  },
  {
   "cell_type": "code",
   "execution_count": 49,
   "id": "plastic-prairie",
   "metadata": {},
   "outputs": [
    {
     "name": "stderr",
     "output_type": "stream",
     "text": [
      "c:\\users\\administrator\\appdata\\local\\programs\\python\\python37\\lib\\site-packages\\statsmodels\\regression\\linear_model.py:1715: RuntimeWarning: divide by zero encountered in double_scalars\n",
      "  return 1 - self.ssr/self.centered_tss\n"
     ]
    },
    {
     "data": {
      "text/html": [
       "<div>\n",
       "<style scoped>\n",
       "    .dataframe tbody tr th:only-of-type {\n",
       "        vertical-align: middle;\n",
       "    }\n",
       "\n",
       "    .dataframe tbody tr th {\n",
       "        vertical-align: top;\n",
       "    }\n",
       "\n",
       "    .dataframe thead th {\n",
       "        text-align: right;\n",
       "    }\n",
       "</style>\n",
       "<table border=\"1\" class=\"dataframe\">\n",
       "  <thead>\n",
       "    <tr style=\"text-align: right;\">\n",
       "      <th></th>\n",
       "      <th>Independent Features</th>\n",
       "      <th>VIF Scores</th>\n",
       "    </tr>\n",
       "  </thead>\n",
       "  <tbody>\n",
       "    <tr>\n",
       "      <th>0</th>\n",
       "      <td>s1</td>\n",
       "      <td>0.000000e+00</td>\n",
       "    </tr>\n",
       "    <tr>\n",
       "      <th>1</th>\n",
       "      <td>s2</td>\n",
       "      <td>2.260884e+00</td>\n",
       "    </tr>\n",
       "    <tr>\n",
       "      <th>2</th>\n",
       "      <td>s3</td>\n",
       "      <td>2.282864e+00</td>\n",
       "    </tr>\n",
       "    <tr>\n",
       "      <th>3</th>\n",
       "      <td>s4</td>\n",
       "      <td>4.578003e+00</td>\n",
       "    </tr>\n",
       "    <tr>\n",
       "      <th>4</th>\n",
       "      <td>s5</td>\n",
       "      <td>1.659149e-25</td>\n",
       "    </tr>\n",
       "    <tr>\n",
       "      <th>5</th>\n",
       "      <td>s6</td>\n",
       "      <td>4.349514e-02</td>\n",
       "    </tr>\n",
       "    <tr>\n",
       "      <th>6</th>\n",
       "      <td>s7</td>\n",
       "      <td>4.237020e+00</td>\n",
       "    </tr>\n",
       "    <tr>\n",
       "      <th>7</th>\n",
       "      <td>s8</td>\n",
       "      <td>9.080392e-03</td>\n",
       "    </tr>\n",
       "    <tr>\n",
       "      <th>8</th>\n",
       "      <td>s9</td>\n",
       "      <td>1.648244e+01</td>\n",
       "    </tr>\n",
       "    <tr>\n",
       "      <th>9</th>\n",
       "      <td>s10</td>\n",
       "      <td>0.000000e+00</td>\n",
       "    </tr>\n",
       "    <tr>\n",
       "      <th>10</th>\n",
       "      <td>s11</td>\n",
       "      <td>5.961884e+00</td>\n",
       "    </tr>\n",
       "    <tr>\n",
       "      <th>11</th>\n",
       "      <td>s12</td>\n",
       "      <td>4.830746e+00</td>\n",
       "    </tr>\n",
       "    <tr>\n",
       "      <th>12</th>\n",
       "      <td>s13</td>\n",
       "      <td>3.490787e-01</td>\n",
       "    </tr>\n",
       "    <tr>\n",
       "      <th>13</th>\n",
       "      <td>s14</td>\n",
       "      <td>1.181318e+01</td>\n",
       "    </tr>\n",
       "    <tr>\n",
       "      <th>14</th>\n",
       "      <td>s15</td>\n",
       "      <td>3.298410e+00</td>\n",
       "    </tr>\n",
       "    <tr>\n",
       "      <th>15</th>\n",
       "      <td>s16</td>\n",
       "      <td>2.454595e-24</td>\n",
       "    </tr>\n",
       "    <tr>\n",
       "      <th>16</th>\n",
       "      <td>s17</td>\n",
       "      <td>2.557713e+00</td>\n",
       "    </tr>\n",
       "    <tr>\n",
       "      <th>17</th>\n",
       "      <td>s18</td>\n",
       "      <td>0.000000e+00</td>\n",
       "    </tr>\n",
       "    <tr>\n",
       "      <th>18</th>\n",
       "      <td>s19</td>\n",
       "      <td>0.000000e+00</td>\n",
       "    </tr>\n",
       "    <tr>\n",
       "      <th>19</th>\n",
       "      <td>s20</td>\n",
       "      <td>3.059540e+00</td>\n",
       "    </tr>\n",
       "    <tr>\n",
       "      <th>20</th>\n",
       "      <td>s21</td>\n",
       "      <td>3.107019e+00</td>\n",
       "    </tr>\n",
       "  </tbody>\n",
       "</table>\n",
       "</div>"
      ],
      "text/plain": [
       "   Independent Features    VIF Scores\n",
       "0                    s1  0.000000e+00\n",
       "1                    s2  2.260884e+00\n",
       "2                    s3  2.282864e+00\n",
       "3                    s4  4.578003e+00\n",
       "4                    s5  1.659149e-25\n",
       "5                    s6  4.349514e-02\n",
       "6                    s7  4.237020e+00\n",
       "7                    s8  9.080392e-03\n",
       "8                    s9  1.648244e+01\n",
       "9                   s10  0.000000e+00\n",
       "10                  s11  5.961884e+00\n",
       "11                  s12  4.830746e+00\n",
       "12                  s13  3.490787e-01\n",
       "13                  s14  1.181318e+01\n",
       "14                  s15  3.298410e+00\n",
       "15                  s16  2.454595e-24\n",
       "16                  s17  2.557713e+00\n",
       "17                  s18  0.000000e+00\n",
       "18                  s19  0.000000e+00\n",
       "19                  s20  3.059540e+00\n",
       "20                  s21  3.107019e+00"
      ]
     },
     "execution_count": 49,
     "metadata": {},
     "output_type": "execute_result"
    }
   ],
   "source": [
    "from statsmodels.stats.outliers_influence import variance_inflation_factor \n",
    "def vif_scores(df):\n",
    "    VIF_Scores = pd.DataFrame()\n",
    "    VIF_Scores[\"Independent Features\"] = df.columns\n",
    "    VIF_Scores[\"VIF Scores\"] = [variance_inflation_factor(df.values,i) for i in range(df.shape[1])]\n",
    "    return VIF_Scores\n",
    "df1= data_train[col_names].iloc[:,:]\n",
    "vif_scores(df1)"
   ]
  },
  {
   "cell_type": "code",
   "execution_count": 50,
   "id": "passive-fever",
   "metadata": {},
   "outputs": [
    {
     "name": "stderr",
     "output_type": "stream",
     "text": [
      "c:\\users\\administrator\\appdata\\local\\programs\\python\\python37\\lib\\site-packages\\numpy\\lib\\function_base.py:2559: RuntimeWarning: invalid value encountered in true_divide\n",
      "  c /= stddev[:, None]\n",
      "c:\\users\\administrator\\appdata\\local\\programs\\python\\python37\\lib\\site-packages\\numpy\\lib\\function_base.py:2560: RuntimeWarning: invalid value encountered in true_divide\n",
      "  c /= stddev[None, :]\n"
     ]
    },
    {
     "data": {
      "image/png": "[encoded data removed]",
      "text/plain": [
       "<Figure size 576x396 with 2 Axes>"
      ]
     },
     "metadata": {},
     "output_type": "display_data"
    },
    {
     "data": {
      "text/plain": [
       "<AxesSubplot:title={'center':'Pearson Ranking of 21 Features'}>"
      ]
     },
     "execution_count": 50,
     "metadata": {},
     "output_type": "execute_result"
    }
   ],
   "source": [
    "from yellowbrick.features import Rank2D\n",
    "\n",
    "# Instantiate the visualizer with the Covariance ranking algorithm\n",
    "visualizer = Rank2D(features=col_names, algorithm='pearson')\n",
    "visualizer.fit_transform(X=X.astype(float), y=data['ttf'])\n",
    "visualizer.poof() "
   ]
  },
  {
   "cell_type": "code",
   "execution_count": 51,
   "id": "practical-bones",
   "metadata": {},
   "outputs": [],
   "source": [
    "features1 = ['s2', 's3', 's4', 's7', 's8', 's9', 's11', 's12',  's13','s14', 's15',  \n",
    "            's17',  's20', 's21']"
   ]
  },
  {
   "cell_type": "markdown",
   "id": "martial-winning",
   "metadata": {},
   "source": [
    "## ứng dụng"
   ]
  },
  {
   "cell_type": "code",
   "execution_count": 52,
   "id": "collectible-acrobat",
   "metadata": {},
   "outputs": [],
   "source": [
    "data_test = pd.read_csv('data/test.csv')"
   ]
  },
  {
   "cell_type": "code",
   "execution_count": 53,
   "id": "injured-marker",
   "metadata": {},
   "outputs": [],
   "source": [
    "X_train =data_train[features1]\n",
    "y_train = data_train['ttf']\n",
    "X_test = data_test[features1]\n",
    "y_test = data_test['ttf']"
   ]
  },
  {
   "cell_type": "code",
   "execution_count": 54,
   "id": "scenic-sheep",
   "metadata": {},
   "outputs": [
    {
     "data": {
      "text/plain": [
       "array([  -6.82619263,   -0.43992454,   -0.76487049,    6.89434332,\n",
       "        -13.39812984,   -0.35004037,  -37.31717914,   10.64905294,\n",
       "        -12.17785101,   -0.27285953, -119.91854179,   -1.85159943,\n",
       "         19.92111241,   41.09981995])"
      ]
     },
     "execution_count": 54,
     "metadata": {},
     "output_type": "execute_result"
    }
   ],
   "source": [
    "regression = LinearRegression()\n",
    "regression.fit(X_train, y_train)\n",
    "# hệ số hồi quy\n",
    "w1 = regression.coef_\n",
    "w1"
   ]
  },
  {
   "cell_type": "code",
   "execution_count": 55,
   "id": "covered-importance",
   "metadata": {},
   "outputs": [
    {
     "data": {
      "text/plain": [
       "65161.85157447909"
      ]
     },
     "execution_count": 55,
     "metadata": {},
     "output_type": "execute_result"
    }
   ],
   "source": [
    "w0 =  regression.intercept_ \n",
    "w0"
   ]
  },
  {
   "cell_type": "code",
   "execution_count": 56,
   "id": "pharmaceutical-turkish",
   "metadata": {},
   "outputs": [
    {
     "data": {
      "text/plain": [
       "array([158.3373346 , 122.31549319,  84.45455501,  97.98628544,\n",
       "       112.08345096, 122.25441204, 130.91211159,  95.62639358,\n",
       "       113.38644091, 117.71455622,  98.37926916, 113.07994607,\n",
       "       102.56877419, 114.5049627 , 161.8561438 , 139.35484493,\n",
       "        82.33481615,  80.60111275, 124.00352183,  24.1967903 ,\n",
       "       119.77147747, 141.99071274, 154.9068335 ,  30.5187666 ,\n",
       "       138.91581082, 142.91727411, 128.1519807 , 110.32147413,\n",
       "       123.88225582,  99.25643287,  10.42384091, 105.14975686,\n",
       "       106.14140481,  10.59671353,  -0.43954597,  37.50630437,\n",
       "        81.18585037,  68.69091964, 156.30387076,  39.02786543,\n",
       "        92.51775106,  42.09386298,  80.18377071, 118.70789512,\n",
       "        83.77340731,  66.62060008, 125.45890282, 120.71944002,\n",
       "        23.27507741, 126.70330604, 118.9158865 ,  49.09881887,\n",
       "        44.00981353, 168.6242871 , 140.07837328,  38.25970897,\n",
       "       107.80658632,  69.56358278, 165.58220878, 118.19888177,\n",
       "        55.06791913,  86.8827165 ,  84.50658683,  65.65070539,\n",
       "       173.42069543,   0.25559694, 145.68415033,  14.17933037,\n",
       "       134.22822105, 109.0508484 , 141.24069356,  98.16422771,\n",
       "       161.5382596 , 102.63670001, 148.4361036 ,  -9.20599915,\n",
       "        61.98945315, 185.75633766, 118.93483482,  92.98933297,\n",
       "        -2.21918945,  12.09737841, 131.66380086,  77.98464278,\n",
       "       119.10372714, 108.15234565, 153.12572204, 135.00051882,\n",
       "       112.99108587,  45.0983069 ,  52.03744421,  34.70555778,\n",
       "        63.26795589,  70.16917292, 145.32749183, 166.78601767,\n",
       "       108.43401155,  98.66623052, 161.85523161,   2.11506672])"
      ]
     },
     "execution_count": 56,
     "metadata": {},
     "output_type": "execute_result"
    }
   ],
   "source": [
    "y_pred = regression.predict(X_test)\n",
    "y_pred"
   ]
  },
  {
   "cell_type": "code",
   "execution_count": 57,
   "id": "efficient-shield",
   "metadata": {},
   "outputs": [
    {
     "data": {
      "text/plain": [
       "0.40877368076590137"
      ]
     },
     "execution_count": 57,
     "metadata": {},
     "output_type": "execute_result"
    }
   ],
   "source": [
    "# R bình % của dự đoán\n",
    "r_sq = regression.score(X_test, y_test)\n",
    "r_sq "
   ]
  },
  {
   "cell_type": "code",
   "execution_count": 58,
   "id": "failing-pittsburgh",
   "metadata": {},
   "outputs": [
    {
     "data": {
      "text/html": [
       "<div>\n",
       "<style scoped>\n",
       "    .dataframe tbody tr th:only-of-type {\n",
       "        vertical-align: middle;\n",
       "    }\n",
       "\n",
       "    .dataframe tbody tr th {\n",
       "        vertical-align: top;\n",
       "    }\n",
       "\n",
       "    .dataframe thead th {\n",
       "        text-align: right;\n",
       "    }\n",
       "</style>\n",
       "<table border=\"1\" class=\"dataframe\">\n",
       "  <thead>\n",
       "    <tr style=\"text-align: right;\">\n",
       "      <th></th>\n",
       "      <th>thực</th>\n",
       "      <th>dự đoán</th>\n",
       "    </tr>\n",
       "  </thead>\n",
       "  <tbody>\n",
       "    <tr>\n",
       "      <th>0</th>\n",
       "      <td>112</td>\n",
       "      <td>158.337335</td>\n",
       "    </tr>\n",
       "    <tr>\n",
       "      <th>1</th>\n",
       "      <td>98</td>\n",
       "      <td>122.315493</td>\n",
       "    </tr>\n",
       "    <tr>\n",
       "      <th>2</th>\n",
       "      <td>69</td>\n",
       "      <td>84.454555</td>\n",
       "    </tr>\n",
       "    <tr>\n",
       "      <th>3</th>\n",
       "      <td>82</td>\n",
       "      <td>97.986285</td>\n",
       "    </tr>\n",
       "    <tr>\n",
       "      <th>4</th>\n",
       "      <td>91</td>\n",
       "      <td>112.083451</td>\n",
       "    </tr>\n",
       "    <tr>\n",
       "      <th>...</th>\n",
       "      <td>...</td>\n",
       "      <td>...</td>\n",
       "    </tr>\n",
       "    <tr>\n",
       "      <th>95</th>\n",
       "      <td>137</td>\n",
       "      <td>166.786018</td>\n",
       "    </tr>\n",
       "    <tr>\n",
       "      <th>96</th>\n",
       "      <td>82</td>\n",
       "      <td>108.434012</td>\n",
       "    </tr>\n",
       "    <tr>\n",
       "      <th>97</th>\n",
       "      <td>59</td>\n",
       "      <td>98.666231</td>\n",
       "    </tr>\n",
       "    <tr>\n",
       "      <th>98</th>\n",
       "      <td>117</td>\n",
       "      <td>161.855232</td>\n",
       "    </tr>\n",
       "    <tr>\n",
       "      <th>99</th>\n",
       "      <td>20</td>\n",
       "      <td>2.115067</td>\n",
       "    </tr>\n",
       "  </tbody>\n",
       "</table>\n",
       "<p>100 rows × 2 columns</p>\n",
       "</div>"
      ],
      "text/plain": [
       "    thực     dự đoán\n",
       "0    112  158.337335\n",
       "1     98  122.315493\n",
       "2     69   84.454555\n",
       "3     82   97.986285\n",
       "4     91  112.083451\n",
       "..   ...         ...\n",
       "95   137  166.786018\n",
       "96    82  108.434012\n",
       "97    59   98.666231\n",
       "98   117  161.855232\n",
       "99    20    2.115067\n",
       "\n",
       "[100 rows x 2 columns]"
      ]
     },
     "execution_count": 58,
     "metadata": {},
     "output_type": "execute_result"
    }
   ],
   "source": [
    "df2 = pd.DataFrame({'thực': y_test, 'dự đoán': y_pred})\n",
    "df2"
   ]
  },
  {
   "cell_type": "markdown",
   "id": "elder-blank",
   "metadata": {},
   "source": [
    "## Phân Loại\n"
   ]
  },
  {
   "cell_type": "code",
   "execution_count": 59,
   "id": "comparable-subdivision",
   "metadata": {},
   "outputs": [],
   "source": [
    "X1_train =data_train[features1]\n",
    "y1_train = data_train['label_bnc']\n",
    "X1_test = data_test[features1]\n",
    "y1_test = data_test['label_bnc']"
   ]
  },
  {
   "cell_type": "code",
   "execution_count": 60,
   "id": "sunset-myanmar",
   "metadata": {},
   "outputs": [
    {
     "name": "stderr",
     "output_type": "stream",
     "text": [
      "c:\\users\\administrator\\appdata\\local\\programs\\python\\python37\\lib\\site-packages\\sklearn\\linear_model\\_logistic.py:764: ConvergenceWarning: lbfgs failed to converge (status=1):\n",
      "STOP: TOTAL NO. of ITERATIONS REACHED LIMIT.\n",
      "\n",
      "Increase the number of iterations (max_iter) or scale the data as shown in:\n",
      "    https://scikit-learn.org/stable/modules/preprocessing.html\n",
      "Please also refer to the documentation for alternative solver options:\n",
      "    https://scikit-learn.org/stable/modules/linear_model.html#logistic-regression\n",
      "  extra_warning_msg=_LOGISTIC_SOLVER_CONVERGENCE_MSG)\n"
     ]
    },
    {
     "data": {
      "text/plain": [
       "LogisticRegression()"
      ]
     },
     "execution_count": 60,
     "metadata": {},
     "output_type": "execute_result"
    }
   ],
   "source": [
    "lrClass = LogisticRegression()\n",
    "lrClass.fit(X=X1_train, y=y1_train)"
   ]
  },
  {
   "cell_type": "code",
   "execution_count": 61,
   "id": "intellectual-bathroom",
   "metadata": {},
   "outputs": [
    {
     "data": {
      "text/plain": [
       "array([[ 0.14601096,  0.14345938,  0.22240291, -0.37498608, -0.11146831,\n",
       "         0.03506001,  0.11269799, -0.3299262 , -0.11174411, -0.02747644,\n",
       "         0.01358597,  0.44849725, -0.06604732, -0.04098942]])"
      ]
     },
     "execution_count": 61,
     "metadata": {},
     "output_type": "execute_result"
    }
   ],
   "source": [
    "ww1 = lrClass.coef_\n",
    "ww1"
   ]
  },
  {
   "cell_type": "code",
   "execution_count": 62,
   "id": "liked-candy",
   "metadata": {},
   "outputs": [
    {
     "data": {
      "text/plain": [
       "array([-5.97382201e-05])"
      ]
     },
     "execution_count": 62,
     "metadata": {},
     "output_type": "execute_result"
    }
   ],
   "source": [
    "ww0 = lrClass.intercept_ \n",
    "ww0"
   ]
  },
  {
   "cell_type": "code",
   "execution_count": 63,
   "id": "ordered-society",
   "metadata": {},
   "outputs": [
    {
     "data": {
      "text/plain": [
       "array([0, 0, 0, 0, 0, 0, 0, 0, 0, 0, 0, 0, 0, 0, 0, 0, 0, 0, 0, 1, 0, 0,\n",
       "       0, 0, 0, 0, 0, 0, 0, 0, 1, 0, 0, 1, 1, 0, 0, 0, 0, 1, 0, 1, 0, 0,\n",
       "       0, 0, 0, 0, 1, 0, 0, 0, 0, 0, 0, 0, 0, 0, 0, 0, 0, 0, 0, 0, 0, 1,\n",
       "       0, 1, 0, 0, 0, 0, 0, 0, 0, 1, 0, 0, 0, 0, 1, 1, 0, 0, 0, 0, 0, 0,\n",
       "       0, 0, 1, 0, 0, 0, 0, 0, 0, 0, 0, 1], dtype=int64)"
      ]
     },
     "execution_count": 63,
     "metadata": {},
     "output_type": "execute_result"
    }
   ],
   "source": [
    "y1_pred = lrClass.predict(X1_test)\n",
    "y1_pred"
   ]
  },
  {
   "cell_type": "code",
   "execution_count": 64,
   "id": "civil-study",
   "metadata": {},
   "outputs": [
    {
     "data": {
      "text/html": [
       "<div>\n",
       "<style scoped>\n",
       "    .dataframe tbody tr th:only-of-type {\n",
       "        vertical-align: middle;\n",
       "    }\n",
       "\n",
       "    .dataframe tbody tr th {\n",
       "        vertical-align: top;\n",
       "    }\n",
       "\n",
       "    .dataframe thead th {\n",
       "        text-align: right;\n",
       "    }\n",
       "</style>\n",
       "<table border=\"1\" class=\"dataframe\">\n",
       "  <thead>\n",
       "    <tr style=\"text-align: right;\">\n",
       "      <th></th>\n",
       "      <th>thực</th>\n",
       "      <th>dự đoán</th>\n",
       "    </tr>\n",
       "  </thead>\n",
       "  <tbody>\n",
       "    <tr>\n",
       "      <th>0</th>\n",
       "      <td>0</td>\n",
       "      <td>0</td>\n",
       "    </tr>\n",
       "    <tr>\n",
       "      <th>1</th>\n",
       "      <td>0</td>\n",
       "      <td>0</td>\n",
       "    </tr>\n",
       "    <tr>\n",
       "      <th>2</th>\n",
       "      <td>0</td>\n",
       "      <td>0</td>\n",
       "    </tr>\n",
       "    <tr>\n",
       "      <th>3</th>\n",
       "      <td>0</td>\n",
       "      <td>0</td>\n",
       "    </tr>\n",
       "    <tr>\n",
       "      <th>4</th>\n",
       "      <td>0</td>\n",
       "      <td>0</td>\n",
       "    </tr>\n",
       "    <tr>\n",
       "      <th>...</th>\n",
       "      <td>...</td>\n",
       "      <td>...</td>\n",
       "    </tr>\n",
       "    <tr>\n",
       "      <th>95</th>\n",
       "      <td>0</td>\n",
       "      <td>0</td>\n",
       "    </tr>\n",
       "    <tr>\n",
       "      <th>96</th>\n",
       "      <td>0</td>\n",
       "      <td>0</td>\n",
       "    </tr>\n",
       "    <tr>\n",
       "      <th>97</th>\n",
       "      <td>0</td>\n",
       "      <td>0</td>\n",
       "    </tr>\n",
       "    <tr>\n",
       "      <th>98</th>\n",
       "      <td>0</td>\n",
       "      <td>0</td>\n",
       "    </tr>\n",
       "    <tr>\n",
       "      <th>99</th>\n",
       "      <td>1</td>\n",
       "      <td>1</td>\n",
       "    </tr>\n",
       "  </tbody>\n",
       "</table>\n",
       "<p>100 rows × 2 columns</p>\n",
       "</div>"
      ],
      "text/plain": [
       "    thực  dự đoán\n",
       "0      0        0\n",
       "1      0        0\n",
       "2      0        0\n",
       "3      0        0\n",
       "4      0        0\n",
       "..   ...      ...\n",
       "95     0        0\n",
       "96     0        0\n",
       "97     0        0\n",
       "98     0        0\n",
       "99     1        1\n",
       "\n",
       "[100 rows x 2 columns]"
      ]
     },
     "execution_count": 64,
     "metadata": {},
     "output_type": "execute_result"
    }
   ],
   "source": [
    "df2 = pd.DataFrame({'thực': y1_test, 'dự đoán': y1_pred})\n",
    "df2"
   ]
  },
  {
   "cell_type": "code",
   "execution_count": 65,
   "id": "choice-metabolism",
   "metadata": {},
   "outputs": [
    {
     "name": "stdout",
     "output_type": "stream",
     "text": [
      "Accuracy on train set: 94.5 %\n",
      "Accuracy on test set: 87.0 %\n"
     ]
    }
   ],
   "source": [
    "train_acc = lrClass.score(X=X1_train, y=y1_train)\n",
    "test_acc = lrClass.score(X1_test, y1_test)\n",
    "print(\"Accuracy on train set:\", round(train_acc*100,1), '%')\n",
    "print(\"Accuracy on test set:\", round(test_acc*100,1), '%')"
   ]
  },
  {
   "cell_type": "code",
   "execution_count": null,
   "id": "internal-might",
   "metadata": {},
   "outputs": [],
   "source": []
  }
 ],
 "metadata": {
  "kernelspec": {
   "display_name": "Python 3",
   "language": "python",
   "name": "python3"
  },
  "language_info": {
   "codemirror_mode": {
    "name": "ipython",
    "version": 3
   },
   "file_extension": ".py",
   "mimetype": "text/x-python",
   "name": "python",
   "nbconvert_exporter": "python",
   "pygments_lexer": "ipython3",
   "version": "3.7.9"
  }
 },
 "nbformat": 4,
 "nbformat_minor": 5
}
