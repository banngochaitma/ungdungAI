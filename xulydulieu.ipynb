{
 "cells": [
  {
   "cell_type": "code",
   "execution_count": 356,
   "id": "amended-greene",
   "metadata": {},
   "outputs": [],
   "source": [
    "import pandas as pd\n",
    "import numpy as np\n",
    "import matplotlib.pyplot as plt\n",
    "import seaborn as sns\n",
    "from sklearn.linear_model import LinearRegression"
   ]
  },
  {
   "cell_type": "code",
   "execution_count": 357,
   "id": "fabulous-plain",
   "metadata": {},
   "outputs": [],
   "source": [
    "data_train = pd.read_csv('data/train.csv')"
   ]
  },
  {
   "cell_type": "markdown",
   "id": "official-hearing",
   "metadata": {},
   "source": [
    "## Số liệu thống kê mô tả"
   ]
  },
  {
   "cell_type": "code",
   "execution_count": 430,
   "id": "unnecessary-capacity",
   "metadata": {
    "scrolled": true
   },
   "outputs": [
    {
     "data": {
      "text/plain": [
       "(20631, 23)"
      ]
     },
     "execution_count": 430,
     "metadata": {},
     "output_type": "execute_result"
    }
   ],
   "source": [
    "features = ['s1','s2', 's3', 's4','s5', 's6',  's7', 's8', 's9','s10',  's11', 's12', 's13', 's14', 's15',  's16',\n",
    "            's17', 's18', 's19',  's20', 's21','ttf','label_bnc']\n",
    "col_names = ['s1','s2', 's3', 's4','s5', 's6',  's7', 's8', 's9','s10',  's11', 's12', 's13', 's14', 's15',  's16',\n",
    "            's17', 's18', 's19',  's20', 's21']\n",
    "data_train[features].shape"
   ]
  },
  {
   "cell_type": "code",
   "execution_count": 359,
   "id": "seasonal-refrigerator",
   "metadata": {},
   "outputs": [
    {
     "data": {
      "text/html": [
       "<div>\n",
       "<style scoped>\n",
       "    .dataframe tbody tr th:only-of-type {\n",
       "        vertical-align: middle;\n",
       "    }\n",
       "\n",
       "    .dataframe tbody tr th {\n",
       "        vertical-align: top;\n",
       "    }\n",
       "\n",
       "    .dataframe thead th {\n",
       "        text-align: right;\n",
       "    }\n",
       "</style>\n",
       "<table border=\"1\" class=\"dataframe\">\n",
       "  <thead>\n",
       "    <tr style=\"text-align: right;\">\n",
       "      <th></th>\n",
       "      <th>s1</th>\n",
       "      <th>s2</th>\n",
       "      <th>s3</th>\n",
       "      <th>s4</th>\n",
       "      <th>s5</th>\n",
       "      <th>s6</th>\n",
       "      <th>s7</th>\n",
       "      <th>s8</th>\n",
       "      <th>s9</th>\n",
       "      <th>s10</th>\n",
       "      <th>...</th>\n",
       "      <th>s14</th>\n",
       "      <th>s15</th>\n",
       "      <th>s16</th>\n",
       "      <th>s17</th>\n",
       "      <th>s18</th>\n",
       "      <th>s19</th>\n",
       "      <th>s20</th>\n",
       "      <th>s21</th>\n",
       "      <th>ttf</th>\n",
       "      <th>label_bnc</th>\n",
       "    </tr>\n",
       "  </thead>\n",
       "  <tbody>\n",
       "    <tr>\n",
       "      <th>0</th>\n",
       "      <td>518.67</td>\n",
       "      <td>641.82</td>\n",
       "      <td>1589.70</td>\n",
       "      <td>1400.60</td>\n",
       "      <td>14.62</td>\n",
       "      <td>21.61</td>\n",
       "      <td>554.36</td>\n",
       "      <td>2388.06</td>\n",
       "      <td>9046.19</td>\n",
       "      <td>1.3</td>\n",
       "      <td>...</td>\n",
       "      <td>8138.62</td>\n",
       "      <td>8.4195</td>\n",
       "      <td>0.03</td>\n",
       "      <td>392</td>\n",
       "      <td>2388</td>\n",
       "      <td>100.0</td>\n",
       "      <td>39.06</td>\n",
       "      <td>23.4190</td>\n",
       "      <td>191</td>\n",
       "      <td>0</td>\n",
       "    </tr>\n",
       "    <tr>\n",
       "      <th>1</th>\n",
       "      <td>518.67</td>\n",
       "      <td>642.15</td>\n",
       "      <td>1591.82</td>\n",
       "      <td>1403.14</td>\n",
       "      <td>14.62</td>\n",
       "      <td>21.61</td>\n",
       "      <td>553.75</td>\n",
       "      <td>2388.04</td>\n",
       "      <td>9044.07</td>\n",
       "      <td>1.3</td>\n",
       "      <td>...</td>\n",
       "      <td>8131.49</td>\n",
       "      <td>8.4318</td>\n",
       "      <td>0.03</td>\n",
       "      <td>392</td>\n",
       "      <td>2388</td>\n",
       "      <td>100.0</td>\n",
       "      <td>39.00</td>\n",
       "      <td>23.4236</td>\n",
       "      <td>190</td>\n",
       "      <td>0</td>\n",
       "    </tr>\n",
       "    <tr>\n",
       "      <th>2</th>\n",
       "      <td>518.67</td>\n",
       "      <td>642.35</td>\n",
       "      <td>1587.99</td>\n",
       "      <td>1404.20</td>\n",
       "      <td>14.62</td>\n",
       "      <td>21.61</td>\n",
       "      <td>554.26</td>\n",
       "      <td>2388.08</td>\n",
       "      <td>9052.94</td>\n",
       "      <td>1.3</td>\n",
       "      <td>...</td>\n",
       "      <td>8133.23</td>\n",
       "      <td>8.4178</td>\n",
       "      <td>0.03</td>\n",
       "      <td>390</td>\n",
       "      <td>2388</td>\n",
       "      <td>100.0</td>\n",
       "      <td>38.95</td>\n",
       "      <td>23.3442</td>\n",
       "      <td>189</td>\n",
       "      <td>0</td>\n",
       "    </tr>\n",
       "    <tr>\n",
       "      <th>3</th>\n",
       "      <td>518.67</td>\n",
       "      <td>642.35</td>\n",
       "      <td>1582.79</td>\n",
       "      <td>1401.87</td>\n",
       "      <td>14.62</td>\n",
       "      <td>21.61</td>\n",
       "      <td>554.45</td>\n",
       "      <td>2388.11</td>\n",
       "      <td>9049.48</td>\n",
       "      <td>1.3</td>\n",
       "      <td>...</td>\n",
       "      <td>8133.83</td>\n",
       "      <td>8.3682</td>\n",
       "      <td>0.03</td>\n",
       "      <td>392</td>\n",
       "      <td>2388</td>\n",
       "      <td>100.0</td>\n",
       "      <td>38.88</td>\n",
       "      <td>23.3739</td>\n",
       "      <td>188</td>\n",
       "      <td>0</td>\n",
       "    </tr>\n",
       "    <tr>\n",
       "      <th>4</th>\n",
       "      <td>518.67</td>\n",
       "      <td>642.37</td>\n",
       "      <td>1582.85</td>\n",
       "      <td>1406.22</td>\n",
       "      <td>14.62</td>\n",
       "      <td>21.61</td>\n",
       "      <td>554.00</td>\n",
       "      <td>2388.06</td>\n",
       "      <td>9055.15</td>\n",
       "      <td>1.3</td>\n",
       "      <td>...</td>\n",
       "      <td>8133.80</td>\n",
       "      <td>8.4294</td>\n",
       "      <td>0.03</td>\n",
       "      <td>393</td>\n",
       "      <td>2388</td>\n",
       "      <td>100.0</td>\n",
       "      <td>38.90</td>\n",
       "      <td>23.4044</td>\n",
       "      <td>187</td>\n",
       "      <td>0</td>\n",
       "    </tr>\n",
       "  </tbody>\n",
       "</table>\n",
       "<p>5 rows × 23 columns</p>\n",
       "</div>"
      ],
      "text/plain": [
       "       s1      s2       s3       s4     s5     s6      s7       s8       s9  \\\n",
       "0  518.67  641.82  1589.70  1400.60  14.62  21.61  554.36  2388.06  9046.19   \n",
       "1  518.67  642.15  1591.82  1403.14  14.62  21.61  553.75  2388.04  9044.07   \n",
       "2  518.67  642.35  1587.99  1404.20  14.62  21.61  554.26  2388.08  9052.94   \n",
       "3  518.67  642.35  1582.79  1401.87  14.62  21.61  554.45  2388.11  9049.48   \n",
       "4  518.67  642.37  1582.85  1406.22  14.62  21.61  554.00  2388.06  9055.15   \n",
       "\n",
       "   s10  ...      s14     s15   s16  s17   s18    s19    s20      s21  ttf  \\\n",
       "0  1.3  ...  8138.62  8.4195  0.03  392  2388  100.0  39.06  23.4190  191   \n",
       "1  1.3  ...  8131.49  8.4318  0.03  392  2388  100.0  39.00  23.4236  190   \n",
       "2  1.3  ...  8133.23  8.4178  0.03  390  2388  100.0  38.95  23.3442  189   \n",
       "3  1.3  ...  8133.83  8.3682  0.03  392  2388  100.0  38.88  23.3739  188   \n",
       "4  1.3  ...  8133.80  8.4294  0.03  393  2388  100.0  38.90  23.4044  187   \n",
       "\n",
       "   label_bnc  \n",
       "0          0  \n",
       "1          0  \n",
       "2          0  \n",
       "3          0  \n",
       "4          0  \n",
       "\n",
       "[5 rows x 23 columns]"
      ]
     },
     "execution_count": 359,
     "metadata": {},
     "output_type": "execute_result"
    }
   ],
   "source": [
    "data_train[features].head()"
   ]
  },
  {
   "cell_type": "code",
   "execution_count": 360,
   "id": "cardiac-tunisia",
   "metadata": {},
   "outputs": [
    {
     "data": {
      "text/html": [
       "<div>\n",
       "<style scoped>\n",
       "    .dataframe tbody tr th:only-of-type {\n",
       "        vertical-align: middle;\n",
       "    }\n",
       "\n",
       "    .dataframe tbody tr th {\n",
       "        vertical-align: top;\n",
       "    }\n",
       "\n",
       "    .dataframe thead th {\n",
       "        text-align: right;\n",
       "    }\n",
       "</style>\n",
       "<table border=\"1\" class=\"dataframe\">\n",
       "  <thead>\n",
       "    <tr style=\"text-align: right;\">\n",
       "      <th></th>\n",
       "      <th>s1</th>\n",
       "      <th>s2</th>\n",
       "      <th>s3</th>\n",
       "      <th>s4</th>\n",
       "      <th>s5</th>\n",
       "      <th>s6</th>\n",
       "      <th>s7</th>\n",
       "      <th>s8</th>\n",
       "      <th>s9</th>\n",
       "      <th>s10</th>\n",
       "      <th>...</th>\n",
       "      <th>s14</th>\n",
       "      <th>s15</th>\n",
       "      <th>s16</th>\n",
       "      <th>s17</th>\n",
       "      <th>s18</th>\n",
       "      <th>s19</th>\n",
       "      <th>s20</th>\n",
       "      <th>s21</th>\n",
       "      <th>ttf</th>\n",
       "      <th>label_bnc</th>\n",
       "    </tr>\n",
       "  </thead>\n",
       "  <tbody>\n",
       "    <tr>\n",
       "      <th>count</th>\n",
       "      <td>20631.00</td>\n",
       "      <td>20631.000000</td>\n",
       "      <td>20631.000000</td>\n",
       "      <td>20631.000000</td>\n",
       "      <td>2.063100e+04</td>\n",
       "      <td>20631.000000</td>\n",
       "      <td>20631.000000</td>\n",
       "      <td>20631.000000</td>\n",
       "      <td>20631.000000</td>\n",
       "      <td>20631.0</td>\n",
       "      <td>...</td>\n",
       "      <td>20631.000000</td>\n",
       "      <td>20631.000000</td>\n",
       "      <td>2.063100e+04</td>\n",
       "      <td>20631.000000</td>\n",
       "      <td>20631.0</td>\n",
       "      <td>20631.0</td>\n",
       "      <td>20631.000000</td>\n",
       "      <td>20631.000000</td>\n",
       "      <td>20631.000000</td>\n",
       "      <td>20631.000000</td>\n",
       "    </tr>\n",
       "    <tr>\n",
       "      <th>mean</th>\n",
       "      <td>518.67</td>\n",
       "      <td>642.680934</td>\n",
       "      <td>1590.523119</td>\n",
       "      <td>1408.933782</td>\n",
       "      <td>1.462000e+01</td>\n",
       "      <td>21.609803</td>\n",
       "      <td>553.367711</td>\n",
       "      <td>2388.096652</td>\n",
       "      <td>9065.242941</td>\n",
       "      <td>1.3</td>\n",
       "      <td>...</td>\n",
       "      <td>8143.752722</td>\n",
       "      <td>8.442146</td>\n",
       "      <td>3.000000e-02</td>\n",
       "      <td>393.210654</td>\n",
       "      <td>2388.0</td>\n",
       "      <td>100.0</td>\n",
       "      <td>38.816271</td>\n",
       "      <td>23.289705</td>\n",
       "      <td>107.807862</td>\n",
       "      <td>0.150259</td>\n",
       "    </tr>\n",
       "    <tr>\n",
       "      <th>std</th>\n",
       "      <td>0.00</td>\n",
       "      <td>0.500053</td>\n",
       "      <td>6.131150</td>\n",
       "      <td>9.000605</td>\n",
       "      <td>1.776400e-15</td>\n",
       "      <td>0.001389</td>\n",
       "      <td>0.885092</td>\n",
       "      <td>0.070985</td>\n",
       "      <td>22.082880</td>\n",
       "      <td>0.0</td>\n",
       "      <td>...</td>\n",
       "      <td>19.076176</td>\n",
       "      <td>0.037505</td>\n",
       "      <td>1.387812e-17</td>\n",
       "      <td>1.548763</td>\n",
       "      <td>0.0</td>\n",
       "      <td>0.0</td>\n",
       "      <td>0.180746</td>\n",
       "      <td>0.108251</td>\n",
       "      <td>68.880990</td>\n",
       "      <td>0.357334</td>\n",
       "    </tr>\n",
       "    <tr>\n",
       "      <th>min</th>\n",
       "      <td>518.67</td>\n",
       "      <td>641.210000</td>\n",
       "      <td>1571.040000</td>\n",
       "      <td>1382.250000</td>\n",
       "      <td>1.462000e+01</td>\n",
       "      <td>21.600000</td>\n",
       "      <td>549.850000</td>\n",
       "      <td>2387.900000</td>\n",
       "      <td>9021.730000</td>\n",
       "      <td>1.3</td>\n",
       "      <td>...</td>\n",
       "      <td>8099.940000</td>\n",
       "      <td>8.324900</td>\n",
       "      <td>3.000000e-02</td>\n",
       "      <td>388.000000</td>\n",
       "      <td>2388.0</td>\n",
       "      <td>100.0</td>\n",
       "      <td>38.140000</td>\n",
       "      <td>22.894200</td>\n",
       "      <td>0.000000</td>\n",
       "      <td>0.000000</td>\n",
       "    </tr>\n",
       "    <tr>\n",
       "      <th>25%</th>\n",
       "      <td>518.67</td>\n",
       "      <td>642.325000</td>\n",
       "      <td>1586.260000</td>\n",
       "      <td>1402.360000</td>\n",
       "      <td>1.462000e+01</td>\n",
       "      <td>21.610000</td>\n",
       "      <td>552.810000</td>\n",
       "      <td>2388.050000</td>\n",
       "      <td>9053.100000</td>\n",
       "      <td>1.3</td>\n",
       "      <td>...</td>\n",
       "      <td>8133.245000</td>\n",
       "      <td>8.414900</td>\n",
       "      <td>3.000000e-02</td>\n",
       "      <td>392.000000</td>\n",
       "      <td>2388.0</td>\n",
       "      <td>100.0</td>\n",
       "      <td>38.700000</td>\n",
       "      <td>23.221800</td>\n",
       "      <td>51.000000</td>\n",
       "      <td>0.000000</td>\n",
       "    </tr>\n",
       "    <tr>\n",
       "      <th>50%</th>\n",
       "      <td>518.67</td>\n",
       "      <td>642.640000</td>\n",
       "      <td>1590.100000</td>\n",
       "      <td>1408.040000</td>\n",
       "      <td>1.462000e+01</td>\n",
       "      <td>21.610000</td>\n",
       "      <td>553.440000</td>\n",
       "      <td>2388.090000</td>\n",
       "      <td>9060.660000</td>\n",
       "      <td>1.3</td>\n",
       "      <td>...</td>\n",
       "      <td>8140.540000</td>\n",
       "      <td>8.438900</td>\n",
       "      <td>3.000000e-02</td>\n",
       "      <td>393.000000</td>\n",
       "      <td>2388.0</td>\n",
       "      <td>100.0</td>\n",
       "      <td>38.830000</td>\n",
       "      <td>23.297900</td>\n",
       "      <td>103.000000</td>\n",
       "      <td>0.000000</td>\n",
       "    </tr>\n",
       "    <tr>\n",
       "      <th>75%</th>\n",
       "      <td>518.67</td>\n",
       "      <td>643.000000</td>\n",
       "      <td>1594.380000</td>\n",
       "      <td>1414.555000</td>\n",
       "      <td>1.462000e+01</td>\n",
       "      <td>21.610000</td>\n",
       "      <td>554.010000</td>\n",
       "      <td>2388.140000</td>\n",
       "      <td>9069.420000</td>\n",
       "      <td>1.3</td>\n",
       "      <td>...</td>\n",
       "      <td>8148.310000</td>\n",
       "      <td>8.465600</td>\n",
       "      <td>3.000000e-02</td>\n",
       "      <td>394.000000</td>\n",
       "      <td>2388.0</td>\n",
       "      <td>100.0</td>\n",
       "      <td>38.950000</td>\n",
       "      <td>23.366800</td>\n",
       "      <td>155.000000</td>\n",
       "      <td>0.000000</td>\n",
       "    </tr>\n",
       "    <tr>\n",
       "      <th>max</th>\n",
       "      <td>518.67</td>\n",
       "      <td>644.530000</td>\n",
       "      <td>1616.910000</td>\n",
       "      <td>1441.490000</td>\n",
       "      <td>1.462000e+01</td>\n",
       "      <td>21.610000</td>\n",
       "      <td>556.060000</td>\n",
       "      <td>2388.560000</td>\n",
       "      <td>9244.590000</td>\n",
       "      <td>1.3</td>\n",
       "      <td>...</td>\n",
       "      <td>8293.720000</td>\n",
       "      <td>8.584800</td>\n",
       "      <td>3.000000e-02</td>\n",
       "      <td>400.000000</td>\n",
       "      <td>2388.0</td>\n",
       "      <td>100.0</td>\n",
       "      <td>39.430000</td>\n",
       "      <td>23.618400</td>\n",
       "      <td>361.000000</td>\n",
       "      <td>1.000000</td>\n",
       "    </tr>\n",
       "  </tbody>\n",
       "</table>\n",
       "<p>8 rows × 23 columns</p>\n",
       "</div>"
      ],
      "text/plain": [
       "             s1            s2            s3            s4            s5  \\\n",
       "count  20631.00  20631.000000  20631.000000  20631.000000  2.063100e+04   \n",
       "mean     518.67    642.680934   1590.523119   1408.933782  1.462000e+01   \n",
       "std        0.00      0.500053      6.131150      9.000605  1.776400e-15   \n",
       "min      518.67    641.210000   1571.040000   1382.250000  1.462000e+01   \n",
       "25%      518.67    642.325000   1586.260000   1402.360000  1.462000e+01   \n",
       "50%      518.67    642.640000   1590.100000   1408.040000  1.462000e+01   \n",
       "75%      518.67    643.000000   1594.380000   1414.555000  1.462000e+01   \n",
       "max      518.67    644.530000   1616.910000   1441.490000  1.462000e+01   \n",
       "\n",
       "                 s6            s7            s8            s9      s10  ...  \\\n",
       "count  20631.000000  20631.000000  20631.000000  20631.000000  20631.0  ...   \n",
       "mean      21.609803    553.367711   2388.096652   9065.242941      1.3  ...   \n",
       "std        0.001389      0.885092      0.070985     22.082880      0.0  ...   \n",
       "min       21.600000    549.850000   2387.900000   9021.730000      1.3  ...   \n",
       "25%       21.610000    552.810000   2388.050000   9053.100000      1.3  ...   \n",
       "50%       21.610000    553.440000   2388.090000   9060.660000      1.3  ...   \n",
       "75%       21.610000    554.010000   2388.140000   9069.420000      1.3  ...   \n",
       "max       21.610000    556.060000   2388.560000   9244.590000      1.3  ...   \n",
       "\n",
       "                s14           s15           s16           s17      s18  \\\n",
       "count  20631.000000  20631.000000  2.063100e+04  20631.000000  20631.0   \n",
       "mean    8143.752722      8.442146  3.000000e-02    393.210654   2388.0   \n",
       "std       19.076176      0.037505  1.387812e-17      1.548763      0.0   \n",
       "min     8099.940000      8.324900  3.000000e-02    388.000000   2388.0   \n",
       "25%     8133.245000      8.414900  3.000000e-02    392.000000   2388.0   \n",
       "50%     8140.540000      8.438900  3.000000e-02    393.000000   2388.0   \n",
       "75%     8148.310000      8.465600  3.000000e-02    394.000000   2388.0   \n",
       "max     8293.720000      8.584800  3.000000e-02    400.000000   2388.0   \n",
       "\n",
       "           s19           s20           s21           ttf     label_bnc  \n",
       "count  20631.0  20631.000000  20631.000000  20631.000000  20631.000000  \n",
       "mean     100.0     38.816271     23.289705    107.807862      0.150259  \n",
       "std        0.0      0.180746      0.108251     68.880990      0.357334  \n",
       "min      100.0     38.140000     22.894200      0.000000      0.000000  \n",
       "25%      100.0     38.700000     23.221800     51.000000      0.000000  \n",
       "50%      100.0     38.830000     23.297900    103.000000      0.000000  \n",
       "75%      100.0     38.950000     23.366800    155.000000      0.000000  \n",
       "max      100.0     39.430000     23.618400    361.000000      1.000000  \n",
       "\n",
       "[8 rows x 23 columns]"
      ]
     },
     "execution_count": 360,
     "metadata": {},
     "output_type": "execute_result"
    }
   ],
   "source": [
    "data_train[features].describe()"
   ]
  },
  {
   "cell_type": "code",
   "execution_count": 361,
   "id": "political-blanket",
   "metadata": {},
   "outputs": [
    {
     "name": "stdout",
     "output_type": "stream",
     "text": [
      "<class 'pandas.core.frame.DataFrame'>\n",
      "RangeIndex: 20631 entries, 0 to 20630\n",
      "Data columns (total 23 columns):\n",
      " #   Column     Non-Null Count  Dtype  \n",
      "---  ------     --------------  -----  \n",
      " 0   s1         20631 non-null  float64\n",
      " 1   s2         20631 non-null  float64\n",
      " 2   s3         20631 non-null  float64\n",
      " 3   s4         20631 non-null  float64\n",
      " 4   s5         20631 non-null  float64\n",
      " 5   s6         20631 non-null  float64\n",
      " 6   s7         20631 non-null  float64\n",
      " 7   s8         20631 non-null  float64\n",
      " 8   s9         20631 non-null  float64\n",
      " 9   s10        20631 non-null  float64\n",
      " 10  s11        20631 non-null  float64\n",
      " 11  s12        20631 non-null  float64\n",
      " 12  s13        20631 non-null  float64\n",
      " 13  s14        20631 non-null  float64\n",
      " 14  s15        20631 non-null  float64\n",
      " 15  s16        20631 non-null  float64\n",
      " 16  s17        20631 non-null  int64  \n",
      " 17  s18        20631 non-null  int64  \n",
      " 18  s19        20631 non-null  float64\n",
      " 19  s20        20631 non-null  float64\n",
      " 20  s21        20631 non-null  float64\n",
      " 21  ttf        20631 non-null  int64  \n",
      " 22  label_bnc  20631 non-null  int64  \n",
      "dtypes: float64(19), int64(4)\n",
      "memory usage: 3.6 MB\n"
     ]
    }
   ],
   "source": [
    "data_train[features].info()"
   ]
  },
  {
   "cell_type": "markdown",
   "id": "gross-praise",
   "metadata": {},
   "source": [
    "## Biểu diễn dữ liệu khuyết thiếu:"
   ]
  },
  {
   "cell_type": "code",
   "execution_count": 362,
   "id": "collaborative-browse",
   "metadata": {},
   "outputs": [
    {
     "data": {
      "text/plain": [
       "<AxesSubplot:>"
      ]
     },
     "execution_count": 362,
     "metadata": {},
     "output_type": "execute_result"
    },
    {
     "data": {
      "image/png": "[encoded data removed]",
      "text/plain": [
       "<Figure size 432x288 with 1 Axes>"
      ]
     },
     "metadata": {
      "needs_background": "light"
     },
     "output_type": "display_data"
    }
   ],
   "source": [
    "%matplotlib inline\n",
    "sns.heatmap(data=data_train[features1].isnull(), yticklabels=False, cbar =False, cmap = 'viridis')"
   ]
  },
  {
   "cell_type": "markdown",
   "id": "bacterial-causing",
   "metadata": {},
   "source": [
    "## xử lí giá trị ngoại lại"
   ]
  },
  {
   "cell_type": "code",
   "execution_count": 363,
   "id": "metric-cleaning",
   "metadata": {},
   "outputs": [
    {
     "data": {
      "image/png": "[encoded data removed]",
      "text/plain": [
       "<Figure size 720x360 with 1 Axes>"
      ]
     },
     "metadata": {
      "needs_background": "light"
     },
     "output_type": "display_data"
    }
   ],
   "source": [
    "plt.figure(figsize=(10,5))\n",
    "sns.boxplot(data = data_train['s1'],orient=\"h\",color = 'g') \n",
    "plt.show()"
   ]
  },
  {
   "cell_type": "code",
   "execution_count": 364,
   "id": "taken-thread",
   "metadata": {},
   "outputs": [
    {
     "data": {
      "image/png": "[encoded data removed]",
      "text/plain": [
       "<Figure size 720x360 with 1 Axes>"
      ]
     },
     "metadata": {
      "needs_background": "light"
     },
     "output_type": "display_data"
    }
   ],
   "source": [
    "plt.figure(figsize=(10,5))\n",
    "sns.boxplot(data = data_train['s2'],orient=\"h\",color = 'g') \n",
    "plt.show()"
   ]
  },
  {
   "cell_type": "code",
   "execution_count": 365,
   "id": "apparent-midwest",
   "metadata": {},
   "outputs": [
    {
     "data": {
      "image/png": "[encoded data removed]",
      "text/plain": [
       "<Figure size 720x360 with 1 Axes>"
      ]
     },
     "metadata": {
      "needs_background": "light"
     },
     "output_type": "display_data"
    }
   ],
   "source": [
    "plt.figure(figsize=(10,5))\n",
    "sns.boxplot(data = data_train['s3'],orient=\"h\",color = 'g') \n",
    "plt.show()"
   ]
  },
  {
   "cell_type": "code",
   "execution_count": 366,
   "id": "alpine-gasoline",
   "metadata": {},
   "outputs": [
    {
     "data": {
      "image/png": "[encoded data removed]",
      "text/plain": [
       "<Figure size 720x360 with 1 Axes>"
      ]
     },
     "metadata": {
      "needs_background": "light"
     },
     "output_type": "display_data"
    }
   ],
   "source": [
    "plt.figure(figsize=(10,5))\n",
    "sns.boxplot(data = data_train['s4'],orient=\"h\",color = 'g') \n",
    "plt.show()"
   ]
  },
  {
   "cell_type": "code",
   "execution_count": 367,
   "id": "waiting-electronics",
   "metadata": {},
   "outputs": [
    {
     "data": {
      "image/png": "[encoded data removed]",
      "text/plain": [
       "<Figure size 720x360 with 1 Axes>"
      ]
     },
     "metadata": {
      "needs_background": "light"
     },
     "output_type": "display_data"
    }
   ],
   "source": [
    "plt.figure(figsize=(10,5))\n",
    "sns.boxplot(data = data_train['s5'],orient=\"h\",color = 'g') \n",
    "plt.show()"
   ]
  },
  {
   "cell_type": "code",
   "execution_count": 368,
   "id": "designed-administration",
   "metadata": {},
   "outputs": [
    {
     "data": {
      "image/png": "[encoded data removed]",
      "text/plain": [
       "<Figure size 720x360 with 1 Axes>"
      ]
     },
     "metadata": {
      "needs_background": "light"
     },
     "output_type": "display_data"
    }
   ],
   "source": [
    "plt.figure(figsize=(10,5))\n",
    "sns.boxplot(data = data_train['s6'],orient=\"h\",color = 'g') \n",
    "plt.show()"
   ]
  },
  {
   "cell_type": "code",
   "execution_count": 369,
   "id": "tutorial-midnight",
   "metadata": {},
   "outputs": [
    {
     "data": {
      "image/png": "[encoded data removed]",
      "text/plain": [
       "<Figure size 720x360 with 1 Axes>"
      ]
     },
     "metadata": {
      "needs_background": "light"
     },
     "output_type": "display_data"
    }
   ],
   "source": [
    "plt.figure(figsize=(10,5))\n",
    "sns.boxplot(data = data_train['s7'],orient=\"h\",color = 'g') \n",
    "plt.show()"
   ]
  },
  {
   "cell_type": "code",
   "execution_count": 370,
   "id": "divine-schedule",
   "metadata": {},
   "outputs": [
    {
     "data": {
      "image/png": "[encoded data removed]",
      "text/plain": [
       "<Figure size 720x360 with 1 Axes>"
      ]
     },
     "metadata": {
      "needs_background": "light"
     },
     "output_type": "display_data"
    }
   ],
   "source": [
    "plt.figure(figsize=(10,5))\n",
    "sns.boxplot(data = data_train['s8'],orient=\"h\",color = 'g') \n",
    "plt.show()"
   ]
  },
  {
   "cell_type": "code",
   "execution_count": 371,
   "id": "sudden-original",
   "metadata": {},
   "outputs": [
    {
     "data": {
      "image/png": "[encoded data removed]",
      "text/plain": [
       "<Figure size 720x360 with 1 Axes>"
      ]
     },
     "metadata": {
      "needs_background": "light"
     },
     "output_type": "display_data"
    }
   ],
   "source": [
    "plt.figure(figsize=(10,5))\n",
    "sns.boxplot(data = data_train['s9'],orient=\"h\",color = 'g') \n",
    "plt.show()"
   ]
  },
  {
   "cell_type": "code",
   "execution_count": 372,
   "id": "widespread-torture",
   "metadata": {},
   "outputs": [
    {
     "data": {
      "image/png": "[encoded data removed]",
      "text/plain": [
       "<Figure size 720x360 with 1 Axes>"
      ]
     },
     "metadata": {
      "needs_background": "light"
     },
     "output_type": "display_data"
    }
   ],
   "source": [
    "plt.figure(figsize=(10,5))\n",
    "sns.boxplot(data = data_train['s10'],orient=\"h\",color = 'g') \n",
    "plt.show()"
   ]
  },
  {
   "cell_type": "code",
   "execution_count": 373,
   "id": "documentary-compression",
   "metadata": {},
   "outputs": [
    {
     "data": {
      "image/png": "[encoded data removed]",
      "text/plain": [
       "<Figure size 720x360 with 1 Axes>"
      ]
     },
     "metadata": {
      "needs_background": "light"
     },
     "output_type": "display_data"
    }
   ],
   "source": [
    "plt.figure(figsize=(10,5))\n",
    "sns.boxplot(data = data_train['s11'],orient=\"h\",color = 'g') \n",
    "plt.show()"
   ]
  },
  {
   "cell_type": "code",
   "execution_count": 374,
   "id": "comic-shield",
   "metadata": {},
   "outputs": [
    {
     "data": {
      "image/png": "[encoded data removed]",
      "text/plain": [
       "<Figure size 720x360 with 1 Axes>"
      ]
     },
     "metadata": {
      "needs_background": "light"
     },
     "output_type": "display_data"
    }
   ],
   "source": [
    "plt.figure(figsize=(10,5))\n",
    "sns.boxplot(data = data_train['s12'],orient=\"h\",color = 'g') \n",
    "plt.show()"
   ]
  },
  {
   "cell_type": "code",
   "execution_count": 375,
   "id": "private-chemistry",
   "metadata": {},
   "outputs": [
    {
     "data": {
      "image/png": "[encoded data removed]",
      "text/plain": [
       "<Figure size 720x360 with 1 Axes>"
      ]
     },
     "metadata": {
      "needs_background": "light"
     },
     "output_type": "display_data"
    }
   ],
   "source": [
    "plt.figure(figsize=(10,5))\n",
    "sns.boxplot(data = data_train['s13'],orient=\"h\",color = 'g') \n",
    "plt.show()"
   ]
  },
  {
   "cell_type": "code",
   "execution_count": 376,
   "id": "absent-animal",
   "metadata": {},
   "outputs": [
    {
     "data": {
      "image/png": "[encoded data removed]",
      "text/plain": [
       "<Figure size 720x360 with 1 Axes>"
      ]
     },
     "metadata": {
      "needs_background": "light"
     },
     "output_type": "display_data"
    }
   ],
   "source": [
    "plt.figure(figsize=(10,5))\n",
    "sns.boxplot(data = data_train['s14'],orient=\"h\",color = 'g') \n",
    "plt.show()"
   ]
  },
  {
   "cell_type": "code",
   "execution_count": 377,
   "id": "close-white",
   "metadata": {},
   "outputs": [
    {
     "data": {
      "image/png": "[encoded data removed]",
      "text/plain": [
       "<Figure size 720x360 with 1 Axes>"
      ]
     },
     "metadata": {
      "needs_background": "light"
     },
     "output_type": "display_data"
    }
   ],
   "source": [
    "plt.figure(figsize=(10,5))\n",
    "sns.boxplot(data = data_train['s15'],orient=\"h\",color = 'g') \n",
    "plt.show()"
   ]
  },
  {
   "cell_type": "code",
   "execution_count": 378,
   "id": "lesser-growing",
   "metadata": {},
   "outputs": [
    {
     "data": {
      "image/png": "[encoded data removed]",
      "text/plain": [
       "<Figure size 720x360 with 1 Axes>"
      ]
     },
     "metadata": {
      "needs_background": "light"
     },
     "output_type": "display_data"
    }
   ],
   "source": [
    "plt.figure(figsize=(10,5))\n",
    "sns.boxplot(data = data_train['s16'],orient=\"h\",color = 'g') \n",
    "plt.show()"
   ]
  },
  {
   "cell_type": "code",
   "execution_count": 379,
   "id": "stretch-society",
   "metadata": {},
   "outputs": [
    {
     "data": {
      "image/png": "[encoded data removed]",
      "text/plain": [
       "<Figure size 720x360 with 1 Axes>"
      ]
     },
     "metadata": {
      "needs_background": "light"
     },
     "output_type": "display_data"
    }
   ],
   "source": [
    "plt.figure(figsize=(10,5))\n",
    "sns.boxplot(data = data_train['s17'],orient=\"h\",color = 'g') \n",
    "plt.show()"
   ]
  },
  {
   "cell_type": "code",
   "execution_count": 380,
   "id": "further-tobago",
   "metadata": {},
   "outputs": [
    {
     "data": {
      "image/png": "[encoded data removed]",
      "text/plain": [
       "<Figure size 720x360 with 1 Axes>"
      ]
     },
     "metadata": {
      "needs_background": "light"
     },
     "output_type": "display_data"
    }
   ],
   "source": [
    "plt.figure(figsize=(10,5))\n",
    "sns.boxplot(data = data_train['s18'],orient=\"h\",color = 'g') \n",
    "plt.show()"
   ]
  },
  {
   "cell_type": "code",
   "execution_count": 381,
   "id": "brief-block",
   "metadata": {},
   "outputs": [
    {
     "data": {
      "image/png": "[encoded data removed]",
      "text/plain": [
       "<Figure size 720x360 with 1 Axes>"
      ]
     },
     "metadata": {
      "needs_background": "light"
     },
     "output_type": "display_data"
    }
   ],
   "source": [
    "plt.figure(figsize=(10,5))\n",
    "sns.boxplot(data = data_train['s19'],orient=\"h\",color = 'g') \n",
    "plt.show()"
   ]
  },
  {
   "cell_type": "code",
   "execution_count": 382,
   "id": "given-accuracy",
   "metadata": {},
   "outputs": [
    {
     "data": {
      "image/png": "[encoded data removed]",
      "text/plain": [
       "<Figure size 720x360 with 1 Axes>"
      ]
     },
     "metadata": {
      "needs_background": "light"
     },
     "output_type": "display_data"
    }
   ],
   "source": [
    "plt.figure(figsize=(10,5))\n",
    "sns.boxplot(data = data_train['s20'],orient=\"h\",color = 'g') \n",
    "plt.show()"
   ]
  },
  {
   "cell_type": "code",
   "execution_count": 383,
   "id": "sought-balloon",
   "metadata": {},
   "outputs": [
    {
     "data": {
      "image/png": "[encoded data removed]",
      "text/plain": [
       "<Figure size 720x360 with 1 Axes>"
      ]
     },
     "metadata": {
      "needs_background": "light"
     },
     "output_type": "display_data"
    }
   ],
   "source": [
    "plt.figure(figsize=(10,5))\n",
    "sns.boxplot(data = data_train['s21'],orient=\"h\",color = 'g') \n",
    "plt.show()"
   ]
  },
  {
   "cell_type": "code",
   "execution_count": 384,
   "id": "artistic-record",
   "metadata": {},
   "outputs": [],
   "source": [
    "data = data_train[features]"
   ]
  },
  {
   "cell_type": "code",
   "execution_count": 385,
   "id": "endangered-cleanup",
   "metadata": {},
   "outputs": [],
   "source": [
    "factor = 3\n",
    "upper_lim = data['s2'].mean () + data['s2'].std () * factor\n",
    "lower_lim = data['s2'].mean () - data['s2'].std () * factor\n",
    "\n",
    "data = data[(data['s2'] < upper_lim) & (data['s2'] > lower_lim)]"
   ]
  },
  {
   "cell_type": "code",
   "execution_count": 386,
   "id": "collected-kernel",
   "metadata": {},
   "outputs": [],
   "source": [
    "factor = 3\n",
    "upper_lim = data['s3'].mean () + data['s3'].std () * factor\n",
    "lower_lim = data['s3'].mean () - data['s3'].std () * factor\n",
    "\n",
    "data = data[(data['s3'] < upper_lim) & (data['s3'] > lower_lim)]"
   ]
  },
  {
   "cell_type": "code",
   "execution_count": 387,
   "id": "formal-product",
   "metadata": {},
   "outputs": [],
   "source": [
    "factor = 3\n",
    "upper_lim = data['s4'].mean () + data['s4'].std () * factor\n",
    "lower_lim = data['s4'].mean () - data['s4'].std () * factor\n",
    "\n",
    "data = data[(data['s4'] < upper_lim) & (data['s4'] > lower_lim)]"
   ]
  },
  {
   "cell_type": "code",
   "execution_count": 388,
   "id": "smooth-marketing",
   "metadata": {},
   "outputs": [],
   "source": [
    "factor = 3\n",
    "upper_lim = data['s6'].mean () + data['s6'].std () * factor\n",
    "lower_lim = data['s6'].mean () - data['s6'].std () * factor\n",
    "\n",
    "data = data[(data['s6'] < upper_lim) & (data['s6'] > lower_lim)]"
   ]
  },
  {
   "cell_type": "code",
   "execution_count": 389,
   "id": "interstate-insight",
   "metadata": {},
   "outputs": [],
   "source": [
    "factor = 3\n",
    "upper_lim = data['s7'].mean () + data['s7'].std () * factor\n",
    "lower_lim = data['s7'].mean () - data['s7'].std () * factor\n",
    "\n",
    "data = data[(data['s7'] < upper_lim) & (data['s7'] > lower_lim)]"
   ]
  },
  {
   "cell_type": "code",
   "execution_count": 390,
   "id": "secure-answer",
   "metadata": {},
   "outputs": [],
   "source": [
    "factor = 3\n",
    "upper_lim = data['s8'].mean () + data['s8'].std () * factor\n",
    "lower_lim = data['s8'].mean () - data['s8'].std () * factor\n",
    "\n",
    "data = data[(data['s8'] < upper_lim) & (data['s8'] > lower_lim)]"
   ]
  },
  {
   "cell_type": "code",
   "execution_count": 391,
   "id": "material-combine",
   "metadata": {},
   "outputs": [],
   "source": [
    "factor = 3\n",
    "upper_lim = data['s9'].mean () + data['s9'].std () * factor\n",
    "lower_lim = data['s9'].mean () - data['s9'].std () * factor\n",
    "\n",
    "data = data[(data['s9'] < upper_lim) & (data['s9'] > lower_lim)]"
   ]
  },
  {
   "cell_type": "code",
   "execution_count": 392,
   "id": "infectious-piece",
   "metadata": {},
   "outputs": [],
   "source": [
    "factor = 3\n",
    "upper_lim = data['s11'].mean () + data['s11'].std () * factor\n",
    "lower_lim = data['s11'].mean () - data['s11'].std () * factor\n",
    "\n",
    "data = data[(data['s11'] < upper_lim) & (data['s11'] > lower_lim)]"
   ]
  },
  {
   "cell_type": "code",
   "execution_count": 393,
   "id": "welcome-inspector",
   "metadata": {},
   "outputs": [],
   "source": [
    "factor = 3\n",
    "upper_lim = data['s12'].mean () + data['s12'].std () * factor\n",
    "lower_lim = data['s12'].mean () - data['s12'].std () * factor\n",
    "\n",
    "data = data[(data['s12'] < upper_lim) & (data['s12'] > lower_lim)]"
   ]
  },
  {
   "cell_type": "code",
   "execution_count": 394,
   "id": "clear-brief",
   "metadata": {},
   "outputs": [],
   "source": [
    "factor = 3\n",
    "upper_lim = data['s13'].mean () + data['s13'].std () * factor\n",
    "lower_lim = data['s13'].mean () - data['s13'].std () * factor\n",
    "\n",
    "data = data[(data['s13'] < upper_lim) & (data['s13'] > lower_lim)]"
   ]
  },
  {
   "cell_type": "code",
   "execution_count": 395,
   "id": "ultimate-internet",
   "metadata": {},
   "outputs": [],
   "source": [
    "factor = 3\n",
    "upper_lim = data['s14'].mean () + data['s14'].std () * factor\n",
    "lower_lim = data['s14'].mean () - data['s14'].std () * factor\n",
    "\n",
    "data = data[(data['s14'] < upper_lim) & (data['s14'] > lower_lim)]"
   ]
  },
  {
   "cell_type": "code",
   "execution_count": 396,
   "id": "liked-couple",
   "metadata": {},
   "outputs": [],
   "source": [
    "factor = 3\n",
    "upper_lim = data['s15'].mean () + data['s15'].std () * factor\n",
    "lower_lim = data['s15'].mean () - data['s15'].std () * factor\n",
    "\n",
    "data = data[(data['s15'] < upper_lim) & (data['s15'] > lower_lim)]"
   ]
  },
  {
   "cell_type": "code",
   "execution_count": 397,
   "id": "accompanied-institute",
   "metadata": {},
   "outputs": [],
   "source": [
    "factor = 3\n",
    "upper_lim = data['s21'].mean () + data['s21'].std () * factor\n",
    "lower_lim = data['s21'].mean () - data['s21'].std () * factor\n",
    "\n",
    "data = data[(data['s21'] < upper_lim) & (data['s21'] > lower_lim)]"
   ]
  },
  {
   "cell_type": "code",
   "execution_count": 398,
   "id": "meaning-gregory",
   "metadata": {},
   "outputs": [],
   "source": [
    "factor = 3\n",
    "upper_lim = data['s17'].mean () + data['s17'].std () * factor\n",
    "lower_lim = data['s17'].mean () - data['s17'].std () * factor\n",
    "\n",
    "data = data[(data['s17'] < upper_lim) & (data['s17'] > lower_lim)]"
   ]
  },
  {
   "cell_type": "code",
   "execution_count": 399,
   "id": "accepted-district",
   "metadata": {},
   "outputs": [],
   "source": [
    "factor = 3\n",
    "upper_lim = data['s20'].mean () + data['s20'].std () * factor\n",
    "lower_lim = data['s20'].mean () - data['s20'].std () * factor\n",
    "\n",
    "data = data[(data['s20'] < upper_lim) & (data['s20'] > lower_lim)]"
   ]
  },
  {
   "cell_type": "code",
   "execution_count": 400,
   "id": "statutory-things",
   "metadata": {},
   "outputs": [
    {
     "data": {
      "text/html": [
       "<div>\n",
       "<style scoped>\n",
       "    .dataframe tbody tr th:only-of-type {\n",
       "        vertical-align: middle;\n",
       "    }\n",
       "\n",
       "    .dataframe tbody tr th {\n",
       "        vertical-align: top;\n",
       "    }\n",
       "\n",
       "    .dataframe thead th {\n",
       "        text-align: right;\n",
       "    }\n",
       "</style>\n",
       "<table border=\"1\" class=\"dataframe\">\n",
       "  <thead>\n",
       "    <tr style=\"text-align: right;\">\n",
       "      <th></th>\n",
       "      <th>s1</th>\n",
       "      <th>s2</th>\n",
       "      <th>s3</th>\n",
       "      <th>s4</th>\n",
       "      <th>s5</th>\n",
       "      <th>s6</th>\n",
       "      <th>s7</th>\n",
       "      <th>s8</th>\n",
       "      <th>s9</th>\n",
       "      <th>s10</th>\n",
       "      <th>...</th>\n",
       "      <th>s14</th>\n",
       "      <th>s15</th>\n",
       "      <th>s16</th>\n",
       "      <th>s17</th>\n",
       "      <th>s18</th>\n",
       "      <th>s19</th>\n",
       "      <th>s20</th>\n",
       "      <th>s21</th>\n",
       "      <th>ttf</th>\n",
       "      <th>label_bnc</th>\n",
       "    </tr>\n",
       "  </thead>\n",
       "  <tbody>\n",
       "    <tr>\n",
       "      <th>0</th>\n",
       "      <td>518.67</td>\n",
       "      <td>641.82</td>\n",
       "      <td>1589.70</td>\n",
       "      <td>1400.60</td>\n",
       "      <td>14.62</td>\n",
       "      <td>21.61</td>\n",
       "      <td>554.36</td>\n",
       "      <td>2388.06</td>\n",
       "      <td>9046.19</td>\n",
       "      <td>1.3</td>\n",
       "      <td>...</td>\n",
       "      <td>8138.62</td>\n",
       "      <td>8.4195</td>\n",
       "      <td>0.03</td>\n",
       "      <td>392</td>\n",
       "      <td>2388</td>\n",
       "      <td>100.0</td>\n",
       "      <td>39.06</td>\n",
       "      <td>23.4190</td>\n",
       "      <td>191</td>\n",
       "      <td>0</td>\n",
       "    </tr>\n",
       "    <tr>\n",
       "      <th>1</th>\n",
       "      <td>518.67</td>\n",
       "      <td>642.15</td>\n",
       "      <td>1591.82</td>\n",
       "      <td>1403.14</td>\n",
       "      <td>14.62</td>\n",
       "      <td>21.61</td>\n",
       "      <td>553.75</td>\n",
       "      <td>2388.04</td>\n",
       "      <td>9044.07</td>\n",
       "      <td>1.3</td>\n",
       "      <td>...</td>\n",
       "      <td>8131.49</td>\n",
       "      <td>8.4318</td>\n",
       "      <td>0.03</td>\n",
       "      <td>392</td>\n",
       "      <td>2388</td>\n",
       "      <td>100.0</td>\n",
       "      <td>39.00</td>\n",
       "      <td>23.4236</td>\n",
       "      <td>190</td>\n",
       "      <td>0</td>\n",
       "    </tr>\n",
       "    <tr>\n",
       "      <th>2</th>\n",
       "      <td>518.67</td>\n",
       "      <td>642.35</td>\n",
       "      <td>1587.99</td>\n",
       "      <td>1404.20</td>\n",
       "      <td>14.62</td>\n",
       "      <td>21.61</td>\n",
       "      <td>554.26</td>\n",
       "      <td>2388.08</td>\n",
       "      <td>9052.94</td>\n",
       "      <td>1.3</td>\n",
       "      <td>...</td>\n",
       "      <td>8133.23</td>\n",
       "      <td>8.4178</td>\n",
       "      <td>0.03</td>\n",
       "      <td>390</td>\n",
       "      <td>2388</td>\n",
       "      <td>100.0</td>\n",
       "      <td>38.95</td>\n",
       "      <td>23.3442</td>\n",
       "      <td>189</td>\n",
       "      <td>0</td>\n",
       "    </tr>\n",
       "    <tr>\n",
       "      <th>3</th>\n",
       "      <td>518.67</td>\n",
       "      <td>642.35</td>\n",
       "      <td>1582.79</td>\n",
       "      <td>1401.87</td>\n",
       "      <td>14.62</td>\n",
       "      <td>21.61</td>\n",
       "      <td>554.45</td>\n",
       "      <td>2388.11</td>\n",
       "      <td>9049.48</td>\n",
       "      <td>1.3</td>\n",
       "      <td>...</td>\n",
       "      <td>8133.83</td>\n",
       "      <td>8.3682</td>\n",
       "      <td>0.03</td>\n",
       "      <td>392</td>\n",
       "      <td>2388</td>\n",
       "      <td>100.0</td>\n",
       "      <td>38.88</td>\n",
       "      <td>23.3739</td>\n",
       "      <td>188</td>\n",
       "      <td>0</td>\n",
       "    </tr>\n",
       "    <tr>\n",
       "      <th>4</th>\n",
       "      <td>518.67</td>\n",
       "      <td>642.37</td>\n",
       "      <td>1582.85</td>\n",
       "      <td>1406.22</td>\n",
       "      <td>14.62</td>\n",
       "      <td>21.61</td>\n",
       "      <td>554.00</td>\n",
       "      <td>2388.06</td>\n",
       "      <td>9055.15</td>\n",
       "      <td>1.3</td>\n",
       "      <td>...</td>\n",
       "      <td>8133.80</td>\n",
       "      <td>8.4294</td>\n",
       "      <td>0.03</td>\n",
       "      <td>393</td>\n",
       "      <td>2388</td>\n",
       "      <td>100.0</td>\n",
       "      <td>38.90</td>\n",
       "      <td>23.4044</td>\n",
       "      <td>187</td>\n",
       "      <td>0</td>\n",
       "    </tr>\n",
       "    <tr>\n",
       "      <th>...</th>\n",
       "      <td>...</td>\n",
       "      <td>...</td>\n",
       "      <td>...</td>\n",
       "      <td>...</td>\n",
       "      <td>...</td>\n",
       "      <td>...</td>\n",
       "      <td>...</td>\n",
       "      <td>...</td>\n",
       "      <td>...</td>\n",
       "      <td>...</td>\n",
       "      <td>...</td>\n",
       "      <td>...</td>\n",
       "      <td>...</td>\n",
       "      <td>...</td>\n",
       "      <td>...</td>\n",
       "      <td>...</td>\n",
       "      <td>...</td>\n",
       "      <td>...</td>\n",
       "      <td>...</td>\n",
       "      <td>...</td>\n",
       "      <td>...</td>\n",
       "    </tr>\n",
       "    <tr>\n",
       "      <th>20619</th>\n",
       "      <td>518.67</td>\n",
       "      <td>643.69</td>\n",
       "      <td>1599.85</td>\n",
       "      <td>1423.15</td>\n",
       "      <td>14.62</td>\n",
       "      <td>21.61</td>\n",
       "      <td>551.61</td>\n",
       "      <td>2388.18</td>\n",
       "      <td>9069.69</td>\n",
       "      <td>1.3</td>\n",
       "      <td>...</td>\n",
       "      <td>8139.78</td>\n",
       "      <td>8.4870</td>\n",
       "      <td>0.03</td>\n",
       "      <td>397</td>\n",
       "      <td>2388</td>\n",
       "      <td>100.0</td>\n",
       "      <td>38.65</td>\n",
       "      <td>23.0591</td>\n",
       "      <td>11</td>\n",
       "      <td>1</td>\n",
       "    </tr>\n",
       "    <tr>\n",
       "      <th>20620</th>\n",
       "      <td>518.67</td>\n",
       "      <td>643.12</td>\n",
       "      <td>1594.45</td>\n",
       "      <td>1426.04</td>\n",
       "      <td>14.62</td>\n",
       "      <td>21.61</td>\n",
       "      <td>551.06</td>\n",
       "      <td>2388.21</td>\n",
       "      <td>9064.74</td>\n",
       "      <td>1.3</td>\n",
       "      <td>...</td>\n",
       "      <td>8142.28</td>\n",
       "      <td>8.5162</td>\n",
       "      <td>0.03</td>\n",
       "      <td>395</td>\n",
       "      <td>2388</td>\n",
       "      <td>100.0</td>\n",
       "      <td>38.42</td>\n",
       "      <td>23.0603</td>\n",
       "      <td>10</td>\n",
       "      <td>1</td>\n",
       "    </tr>\n",
       "    <tr>\n",
       "      <th>20622</th>\n",
       "      <td>518.67</td>\n",
       "      <td>643.53</td>\n",
       "      <td>1601.23</td>\n",
       "      <td>1419.48</td>\n",
       "      <td>14.62</td>\n",
       "      <td>21.61</td>\n",
       "      <td>551.14</td>\n",
       "      <td>2388.17</td>\n",
       "      <td>9060.45</td>\n",
       "      <td>1.3</td>\n",
       "      <td>...</td>\n",
       "      <td>8143.46</td>\n",
       "      <td>8.4892</td>\n",
       "      <td>0.03</td>\n",
       "      <td>397</td>\n",
       "      <td>2388</td>\n",
       "      <td>100.0</td>\n",
       "      <td>38.56</td>\n",
       "      <td>23.0770</td>\n",
       "      <td>8</td>\n",
       "      <td>1</td>\n",
       "    </tr>\n",
       "    <tr>\n",
       "      <th>20623</th>\n",
       "      <td>518.67</td>\n",
       "      <td>643.09</td>\n",
       "      <td>1599.81</td>\n",
       "      <td>1428.93</td>\n",
       "      <td>14.62</td>\n",
       "      <td>21.61</td>\n",
       "      <td>552.04</td>\n",
       "      <td>2388.29</td>\n",
       "      <td>9067.57</td>\n",
       "      <td>1.3</td>\n",
       "      <td>...</td>\n",
       "      <td>8142.02</td>\n",
       "      <td>8.5424</td>\n",
       "      <td>0.03</td>\n",
       "      <td>397</td>\n",
       "      <td>2388</td>\n",
       "      <td>100.0</td>\n",
       "      <td>38.47</td>\n",
       "      <td>23.0230</td>\n",
       "      <td>7</td>\n",
       "      <td>1</td>\n",
       "    </tr>\n",
       "    <tr>\n",
       "      <th>20624</th>\n",
       "      <td>518.67</td>\n",
       "      <td>643.72</td>\n",
       "      <td>1597.29</td>\n",
       "      <td>1427.41</td>\n",
       "      <td>14.62</td>\n",
       "      <td>21.61</td>\n",
       "      <td>551.99</td>\n",
       "      <td>2388.23</td>\n",
       "      <td>9068.85</td>\n",
       "      <td>1.3</td>\n",
       "      <td>...</td>\n",
       "      <td>8139.67</td>\n",
       "      <td>8.5215</td>\n",
       "      <td>0.03</td>\n",
       "      <td>394</td>\n",
       "      <td>2388</td>\n",
       "      <td>100.0</td>\n",
       "      <td>38.38</td>\n",
       "      <td>23.1324</td>\n",
       "      <td>6</td>\n",
       "      <td>1</td>\n",
       "    </tr>\n",
       "  </tbody>\n",
       "</table>\n",
       "<p>18839 rows × 23 columns</p>\n",
       "</div>"
      ],
      "text/plain": [
       "           s1      s2       s3       s4     s5     s6      s7       s8  \\\n",
       "0      518.67  641.82  1589.70  1400.60  14.62  21.61  554.36  2388.06   \n",
       "1      518.67  642.15  1591.82  1403.14  14.62  21.61  553.75  2388.04   \n",
       "2      518.67  642.35  1587.99  1404.20  14.62  21.61  554.26  2388.08   \n",
       "3      518.67  642.35  1582.79  1401.87  14.62  21.61  554.45  2388.11   \n",
       "4      518.67  642.37  1582.85  1406.22  14.62  21.61  554.00  2388.06   \n",
       "...       ...     ...      ...      ...    ...    ...     ...      ...   \n",
       "20619  518.67  643.69  1599.85  1423.15  14.62  21.61  551.61  2388.18   \n",
       "20620  518.67  643.12  1594.45  1426.04  14.62  21.61  551.06  2388.21   \n",
       "20622  518.67  643.53  1601.23  1419.48  14.62  21.61  551.14  2388.17   \n",
       "20623  518.67  643.09  1599.81  1428.93  14.62  21.61  552.04  2388.29   \n",
       "20624  518.67  643.72  1597.29  1427.41  14.62  21.61  551.99  2388.23   \n",
       "\n",
       "            s9  s10  ...      s14     s15   s16  s17   s18    s19    s20  \\\n",
       "0      9046.19  1.3  ...  8138.62  8.4195  0.03  392  2388  100.0  39.06   \n",
       "1      9044.07  1.3  ...  8131.49  8.4318  0.03  392  2388  100.0  39.00   \n",
       "2      9052.94  1.3  ...  8133.23  8.4178  0.03  390  2388  100.0  38.95   \n",
       "3      9049.48  1.3  ...  8133.83  8.3682  0.03  392  2388  100.0  38.88   \n",
       "4      9055.15  1.3  ...  8133.80  8.4294  0.03  393  2388  100.0  38.90   \n",
       "...        ...  ...  ...      ...     ...   ...  ...   ...    ...    ...   \n",
       "20619  9069.69  1.3  ...  8139.78  8.4870  0.03  397  2388  100.0  38.65   \n",
       "20620  9064.74  1.3  ...  8142.28  8.5162  0.03  395  2388  100.0  38.42   \n",
       "20622  9060.45  1.3  ...  8143.46  8.4892  0.03  397  2388  100.0  38.56   \n",
       "20623  9067.57  1.3  ...  8142.02  8.5424  0.03  397  2388  100.0  38.47   \n",
       "20624  9068.85  1.3  ...  8139.67  8.5215  0.03  394  2388  100.0  38.38   \n",
       "\n",
       "           s21  ttf  label_bnc  \n",
       "0      23.4190  191          0  \n",
       "1      23.4236  190          0  \n",
       "2      23.3442  189          0  \n",
       "3      23.3739  188          0  \n",
       "4      23.4044  187          0  \n",
       "...        ...  ...        ...  \n",
       "20619  23.0591   11          1  \n",
       "20620  23.0603   10          1  \n",
       "20622  23.0770    8          1  \n",
       "20623  23.0230    7          1  \n",
       "20624  23.1324    6          1  \n",
       "\n",
       "[18839 rows x 23 columns]"
      ]
     },
     "execution_count": 400,
     "metadata": {},
     "output_type": "execute_result"
    }
   ],
   "source": [
    "data"
   ]
  },
  {
   "cell_type": "code",
   "execution_count": 483,
   "id": "useful-fashion",
   "metadata": {},
   "outputs": [
    {
     "data": {
      "text/plain": [
       "<seaborn.axisgrid.JointGrid at 0x1dd273c5a88>"
      ]
     },
     "execution_count": 483,
     "metadata": {},
     "output_type": "execute_result"
    },
    {
     "data": {
      "image/png": "[encoded data removed]",
      "text/plain": [
       "<Figure size 432x432 with 3 Axes>"
      ]
     },
     "metadata": {
      "needs_background": "light"
     },
     "output_type": "display_data"
    }
   ],
   "source": [
    "X=data[col_names]\n",
    "y = data['ttf']\n",
    "sns.jointplot(x='s1', y='s2', data=X)"
   ]
  },
  {
   "cell_type": "code",
   "execution_count": 485,
   "id": "ordered-trade",
   "metadata": {},
   "outputs": [
    {
     "data": {
      "text/plain": [
       "<seaborn.axisgrid.JointGrid at 0x1dd28be6b88>"
      ]
     },
     "execution_count": 485,
     "metadata": {},
     "output_type": "execute_result"
    },
    {
     "data": {
      "image/png": "[encoded data removed]",
      "text/plain": [
       "<Figure size 432x432 with 3 Axes>"
      ]
     },
     "metadata": {
      "needs_background": "light"
     },
     "output_type": "display_data"
    }
   ],
   "source": [
    "sns.jointplot(x='s2', y='s3', data=X) # from s1 to s21"
   ]
  },
  {
   "cell_type": "code",
   "execution_count": 496,
   "id": "included-thomas",
   "metadata": {},
   "outputs": [
    {
     "data": {
      "text/plain": [
       "<AxesSubplot:xlabel='s2', ylabel='s3'>"
      ]
     },
     "execution_count": 496,
     "metadata": {},
     "output_type": "execute_result"
    },
    {
     "data": {
      "image/png": "[encoded data removed]",
      "text/plain": [
       "<Figure size 432x288 with 1 Axes>"
      ]
     },
     "metadata": {
      "needs_background": "light"
     },
     "output_type": "display_data"
    }
   ],
   "source": [
    "sns.lineplot(x='s2', y='s3', data=X) # from s1 to s21"
   ]
  },
  {
   "cell_type": "code",
   "execution_count": 487,
   "id": "democratic-chess",
   "metadata": {},
   "outputs": [
    {
     "data": {
      "text/plain": [
       "<AxesSubplot:xlabel='s1', ylabel='s2'>"
      ]
     },
     "execution_count": 487,
     "metadata": {},
     "output_type": "execute_result"
    },
    {
     "data": {
      "image/png": "[encoded data removed]",
      "text/plain": [
       "<Figure size 432x288 with 1 Axes>"
      ]
     },
     "metadata": {
      "needs_background": "light"
     },
     "output_type": "display_data"
    }
   ],
   "source": [
    "sns.barplot(x='s1', y='s2', data=X) # from s1 to s21"
   ]
  },
  {
   "cell_type": "markdown",
   "id": "strategic-steam",
   "metadata": {},
   "source": [
    "## xem phân phối"
   ]
  },
  {
   "cell_type": "code",
   "execution_count": 401,
   "id": "large-notification",
   "metadata": {},
   "outputs": [
    {
     "name": "stderr",
     "output_type": "stream",
     "text": [
      "c:\\users\\administrator\\appdata\\local\\programs\\python\\python37\\lib\\site-packages\\seaborn\\distributions.py:2557: FutureWarning: `distplot` is a deprecated function and will be removed in a future version. Please adapt your code to use either `displot` (a figure-level function with similar flexibility) or `histplot` (an axes-level function for histograms).\n",
      "  warnings.warn(msg, FutureWarning)\n"
     ]
    },
    {
     "data": {
      "text/plain": [
       "<AxesSubplot:xlabel='s2', ylabel='Density'>"
      ]
     },
     "execution_count": 401,
     "metadata": {},
     "output_type": "execute_result"
    },
    {
     "data": {
      "image/png": "[encoded data removed]",
      "text/plain": [
       "<Figure size 432x288 with 1 Axes>"
      ]
     },
     "metadata": {
      "needs_background": "light"
     },
     "output_type": "display_data"
    }
   ],
   "source": [
    "sns.distplot(a=data['s2'], kde=True)"
   ]
  },
  {
   "cell_type": "markdown",
   "id": "flush-disclosure",
   "metadata": {},
   "source": [
    "## Tiêu chuẩn hóa"
   ]
  },
  {
   "cell_type": "code",
   "execution_count": 431,
   "id": "delayed-ultimate",
   "metadata": {},
   "outputs": [],
   "source": [
    "from sklearn.preprocessing import StandardScaler\n",
    "scaler = StandardScaler() \n",
    "data_scaled = scaler.fit_transform(data[col_names])"
   ]
  },
  {
   "cell_type": "code",
   "execution_count": 432,
   "id": "opened-working",
   "metadata": {},
   "outputs": [
    {
     "data": {
      "text/plain": [
       "array([ 0.00000000e+00,  1.74030356e-13, -4.07037380e-15,  7.34115601e-15,\n",
       "       -1.00000000e+00, -1.00000000e+00,  5.21816490e-14, -3.89257782e-12,\n",
       "        7.08362717e-14, -1.00000000e+00, -1.81854284e-14, -7.44721505e-14,\n",
       "        6.31795033e-13, -7.14925403e-14, -1.71293640e-14, -1.00000000e+00,\n",
       "        6.84329710e-15,  0.00000000e+00,  0.00000000e+00,  7.82845428e-15,\n",
       "        3.94968073e-15])"
      ]
     },
     "execution_count": 432,
     "metadata": {},
     "output_type": "execute_result"
    }
   ],
   "source": [
    "data_scaled.mean(axis=0)"
   ]
  },
  {
   "cell_type": "code",
   "execution_count": 433,
   "id": "affiliated-macedonia",
   "metadata": {},
   "outputs": [
    {
     "data": {
      "text/plain": [
       "array([0., 1., 1., 1., 0., 0., 1., 1., 1., 0., 1., 1., 1., 1., 1., 0., 1.,\n",
       "       0., 0., 1., 1.])"
      ]
     },
     "execution_count": 433,
     "metadata": {},
     "output_type": "execute_result"
    }
   ],
   "source": [
    "data_scaled.std(axis=0)"
   ]
  },
  {
   "cell_type": "code",
   "execution_count": 434,
   "id": "metric-battle",
   "metadata": {},
   "outputs": [
    {
     "data": {
      "text/plain": [
       "array([ 0.        , -3.09544054, -3.12325222, -3.17215445, -1.        ,\n",
       "       -1.        , -3.30443845, -2.89652017, -2.72655196, -1.        ,\n",
       "       -2.7176182 , -3.14739177, -3.00449388, -3.041582  , -3.01930817,\n",
       "       -1.        , -2.88278346,  0.        ,  0.        , -2.99157346,\n",
       "       -3.04800015])"
      ]
     },
     "execution_count": 434,
     "metadata": {},
     "output_type": "execute_result"
    }
   ],
   "source": [
    "data_scaled.min(axis=0)"
   ]
  },
  {
   "cell_type": "code",
   "execution_count": 435,
   "id": "understanding-pharmaceutical",
   "metadata": {},
   "outputs": [
    {
     "data": {
      "text/plain": [
       "array([ 0.        ,  3.34346074,  3.35353664,  3.35370016, -1.        ,\n",
       "       -1.        ,  2.97502262,  3.10105008,  4.53731215, -1.        ,\n",
       "        3.157702  ,  2.81366022,  3.07181004,  3.534335  ,  3.05932529,\n",
       "       -1.        ,  2.79055668,  0.        ,  0.        ,  2.96164328,\n",
       "        3.02447109])"
      ]
     },
     "execution_count": 435,
     "metadata": {},
     "output_type": "execute_result"
    }
   ],
   "source": [
    "data_scaled.max(axis=0)"
   ]
  },
  {
   "cell_type": "code",
   "execution_count": 436,
   "id": "capable-vegetation",
   "metadata": {},
   "outputs": [
    {
     "data": {
      "text/html": [
       "<div>\n",
       "<style scoped>\n",
       "    .dataframe tbody tr th:only-of-type {\n",
       "        vertical-align: middle;\n",
       "    }\n",
       "\n",
       "    .dataframe tbody tr th {\n",
       "        vertical-align: top;\n",
       "    }\n",
       "\n",
       "    .dataframe thead tr th {\n",
       "        text-align: left;\n",
       "    }\n",
       "</style>\n",
       "<table border=\"1\" class=\"dataframe\">\n",
       "  <thead>\n",
       "    <tr>\n",
       "      <th></th>\n",
       "      <th>s1</th>\n",
       "      <th>s2</th>\n",
       "      <th>s3</th>\n",
       "      <th>s4</th>\n",
       "      <th>s5</th>\n",
       "      <th>s6</th>\n",
       "      <th>s7</th>\n",
       "      <th>s8</th>\n",
       "      <th>s9</th>\n",
       "      <th>s10</th>\n",
       "      <th>...</th>\n",
       "      <th>s12</th>\n",
       "      <th>s13</th>\n",
       "      <th>s14</th>\n",
       "      <th>s15</th>\n",
       "      <th>s16</th>\n",
       "      <th>s17</th>\n",
       "      <th>s18</th>\n",
       "      <th>s19</th>\n",
       "      <th>s20</th>\n",
       "      <th>s21</th>\n",
       "    </tr>\n",
       "  </thead>\n",
       "  <tbody>\n",
       "    <tr>\n",
       "      <th>0</th>\n",
       "      <td>0.0</td>\n",
       "      <td>-1.772973</td>\n",
       "      <td>-0.046689</td>\n",
       "      <td>-0.919532</td>\n",
       "      <td>-1.0</td>\n",
       "      <td>-1.0</td>\n",
       "      <td>1.131737</td>\n",
       "      <td>-0.497492</td>\n",
       "      <td>-1.116524</td>\n",
       "      <td>-1.0</td>\n",
       "      <td>...</td>\n",
       "      <td>0.275787</td>\n",
       "      <td>-1.077861</td>\n",
       "      <td>-0.179095</td>\n",
       "      <td>-0.564983</td>\n",
       "      <td>-1.0</td>\n",
       "      <td>-0.755281</td>\n",
       "      <td>0.0</td>\n",
       "      <td>0.0</td>\n",
       "      <td>1.382218</td>\n",
       "      <td>1.209512</td>\n",
       "    </tr>\n",
       "    <tr>\n",
       "      <th>1</th>\n",
       "      <td>0.0</td>\n",
       "      <td>-1.057539</td>\n",
       "      <td>0.330324</td>\n",
       "      <td>-0.607724</td>\n",
       "      <td>-1.0</td>\n",
       "      <td>-1.0</td>\n",
       "      <td>0.382134</td>\n",
       "      <td>-0.797371</td>\n",
       "      <td>-1.269311</td>\n",
       "      <td>-1.0</td>\n",
       "      <td>...</td>\n",
       "      <td>1.190602</td>\n",
       "      <td>-0.336848</td>\n",
       "      <td>-0.764734</td>\n",
       "      <td>-0.204311</td>\n",
       "      <td>-1.0</td>\n",
       "      <td>-0.755281</td>\n",
       "      <td>0.0</td>\n",
       "      <td>0.0</td>\n",
       "      <td>1.017736</td>\n",
       "      <td>1.256075</td>\n",
       "    </tr>\n",
       "    <tr>\n",
       "      <th>2</th>\n",
       "      <td>0.0</td>\n",
       "      <td>-0.623943</td>\n",
       "      <td>-0.350788</td>\n",
       "      <td>-0.477600</td>\n",
       "      <td>-1.0</td>\n",
       "      <td>-1.0</td>\n",
       "      <td>1.008851</td>\n",
       "      <td>-0.197614</td>\n",
       "      <td>-0.630056</td>\n",
       "      <td>-1.0</td>\n",
       "      <td>...</td>\n",
       "      <td>1.397173</td>\n",
       "      <td>-0.929658</td>\n",
       "      <td>-0.621815</td>\n",
       "      <td>-0.614832</td>\n",
       "      <td>-1.0</td>\n",
       "      <td>-2.173616</td>\n",
       "      <td>0.0</td>\n",
       "      <td>0.0</td>\n",
       "      <td>0.714000</td>\n",
       "      <td>0.452351</td>\n",
       "    </tr>\n",
       "    <tr>\n",
       "      <th>3</th>\n",
       "      <td>0.0</td>\n",
       "      <td>-0.623943</td>\n",
       "      <td>-1.275536</td>\n",
       "      <td>-0.763628</td>\n",
       "      <td>-1.0</td>\n",
       "      <td>-1.0</td>\n",
       "      <td>1.242334</td>\n",
       "      <td>0.252204</td>\n",
       "      <td>-0.879416</td>\n",
       "      <td>-1.0</td>\n",
       "      <td>...</td>\n",
       "      <td>2.046396</td>\n",
       "      <td>-0.188646</td>\n",
       "      <td>-0.572533</td>\n",
       "      <td>-2.069247</td>\n",
       "      <td>-1.0</td>\n",
       "      <td>-0.755281</td>\n",
       "      <td>0.0</td>\n",
       "      <td>0.0</td>\n",
       "      <td>0.288770</td>\n",
       "      <td>0.752988</td>\n",
       "    </tr>\n",
       "    <tr>\n",
       "      <th>4</th>\n",
       "      <td>0.0</td>\n",
       "      <td>-0.580583</td>\n",
       "      <td>-1.264866</td>\n",
       "      <td>-0.229627</td>\n",
       "      <td>-1.0</td>\n",
       "      <td>-1.0</td>\n",
       "      <td>0.689348</td>\n",
       "      <td>-0.497492</td>\n",
       "      <td>-0.470783</td>\n",
       "      <td>-1.0</td>\n",
       "      <td>...</td>\n",
       "      <td>1.057806</td>\n",
       "      <td>-0.781456</td>\n",
       "      <td>-0.574997</td>\n",
       "      <td>-0.274686</td>\n",
       "      <td>-1.0</td>\n",
       "      <td>-0.046113</td>\n",
       "      <td>0.0</td>\n",
       "      <td>0.0</td>\n",
       "      <td>0.410265</td>\n",
       "      <td>1.061724</td>\n",
       "    </tr>\n",
       "    <tr>\n",
       "      <th>...</th>\n",
       "      <td>...</td>\n",
       "      <td>...</td>\n",
       "      <td>...</td>\n",
       "      <td>...</td>\n",
       "      <td>...</td>\n",
       "      <td>...</td>\n",
       "      <td>...</td>\n",
       "      <td>...</td>\n",
       "      <td>...</td>\n",
       "      <td>...</td>\n",
       "      <td>...</td>\n",
       "      <td>...</td>\n",
       "      <td>...</td>\n",
       "      <td>...</td>\n",
       "      <td>...</td>\n",
       "      <td>...</td>\n",
       "      <td>...</td>\n",
       "      <td>...</td>\n",
       "      <td>...</td>\n",
       "      <td>...</td>\n",
       "      <td>...</td>\n",
       "    </tr>\n",
       "    <tr>\n",
       "      <th>18834</th>\n",
       "      <td>0.0</td>\n",
       "      <td>2.281150</td>\n",
       "      <td>1.758347</td>\n",
       "      <td>1.848678</td>\n",
       "      <td>-1.0</td>\n",
       "      <td>-1.0</td>\n",
       "      <td>-2.247621</td>\n",
       "      <td>1.301779</td>\n",
       "      <td>0.577104</td>\n",
       "      <td>-1.0</td>\n",
       "      <td>...</td>\n",
       "      <td>-2.911311</td>\n",
       "      <td>2.182595</td>\n",
       "      <td>-0.083816</td>\n",
       "      <td>1.414312</td>\n",
       "      <td>-1.0</td>\n",
       "      <td>2.790557</td>\n",
       "      <td>0.0</td>\n",
       "      <td>0.0</td>\n",
       "      <td>-1.108413</td>\n",
       "      <td>-2.433566</td>\n",
       "    </tr>\n",
       "    <tr>\n",
       "      <th>18835</th>\n",
       "      <td>0.0</td>\n",
       "      <td>1.045402</td>\n",
       "      <td>0.798033</td>\n",
       "      <td>2.203451</td>\n",
       "      <td>-1.0</td>\n",
       "      <td>-1.0</td>\n",
       "      <td>-2.923493</td>\n",
       "      <td>1.751597</td>\n",
       "      <td>0.220361</td>\n",
       "      <td>-1.0</td>\n",
       "      <td>...</td>\n",
       "      <td>-2.881800</td>\n",
       "      <td>2.479000</td>\n",
       "      <td>0.121528</td>\n",
       "      <td>2.270540</td>\n",
       "      <td>-1.0</td>\n",
       "      <td>1.372222</td>\n",
       "      <td>0.0</td>\n",
       "      <td>0.0</td>\n",
       "      <td>-2.505597</td>\n",
       "      <td>-2.421419</td>\n",
       "    </tr>\n",
       "    <tr>\n",
       "      <th>18836</th>\n",
       "      <td>0.0</td>\n",
       "      <td>1.934274</td>\n",
       "      <td>2.003761</td>\n",
       "      <td>1.398153</td>\n",
       "      <td>-1.0</td>\n",
       "      <td>-1.0</td>\n",
       "      <td>-2.825184</td>\n",
       "      <td>1.151840</td>\n",
       "      <td>-0.088816</td>\n",
       "      <td>-1.0</td>\n",
       "      <td>...</td>\n",
       "      <td>-1.303007</td>\n",
       "      <td>1.737987</td>\n",
       "      <td>0.218450</td>\n",
       "      <td>1.478822</td>\n",
       "      <td>-1.0</td>\n",
       "      <td>2.790557</td>\n",
       "      <td>0.0</td>\n",
       "      <td>0.0</td>\n",
       "      <td>-1.655137</td>\n",
       "      <td>-2.252374</td>\n",
       "    </tr>\n",
       "    <tr>\n",
       "      <th>18837</th>\n",
       "      <td>0.0</td>\n",
       "      <td>0.980362</td>\n",
       "      <td>1.751234</td>\n",
       "      <td>2.558224</td>\n",
       "      <td>-1.0</td>\n",
       "      <td>-1.0</td>\n",
       "      <td>-1.719212</td>\n",
       "      <td>2.951111</td>\n",
       "      <td>0.424318</td>\n",
       "      <td>-1.0</td>\n",
       "      <td>...</td>\n",
       "      <td>-2.011251</td>\n",
       "      <td>1.441582</td>\n",
       "      <td>0.100172</td>\n",
       "      <td>3.038799</td>\n",
       "      <td>-1.0</td>\n",
       "      <td>2.790557</td>\n",
       "      <td>0.0</td>\n",
       "      <td>0.0</td>\n",
       "      <td>-2.201861</td>\n",
       "      <td>-2.798987</td>\n",
       "    </tr>\n",
       "    <tr>\n",
       "      <th>18838</th>\n",
       "      <td>0.0</td>\n",
       "      <td>2.346190</td>\n",
       "      <td>1.303087</td>\n",
       "      <td>2.371630</td>\n",
       "      <td>-1.0</td>\n",
       "      <td>-1.0</td>\n",
       "      <td>-1.780655</td>\n",
       "      <td>2.051475</td>\n",
       "      <td>0.516566</td>\n",
       "      <td>-1.0</td>\n",
       "      <td>...</td>\n",
       "      <td>-2.837535</td>\n",
       "      <td>1.886190</td>\n",
       "      <td>-0.092851</td>\n",
       "      <td>2.425951</td>\n",
       "      <td>-1.0</td>\n",
       "      <td>0.663054</td>\n",
       "      <td>0.0</td>\n",
       "      <td>0.0</td>\n",
       "      <td>-2.748585</td>\n",
       "      <td>-1.691589</td>\n",
       "    </tr>\n",
       "  </tbody>\n",
       "</table>\n",
       "<p>18839 rows × 21 columns</p>\n",
       "</div>"
      ],
      "text/plain": [
       "        s1        s2        s3        s4   s5   s6        s7        s8  \\\n",
       "0      0.0 -1.772973 -0.046689 -0.919532 -1.0 -1.0  1.131737 -0.497492   \n",
       "1      0.0 -1.057539  0.330324 -0.607724 -1.0 -1.0  0.382134 -0.797371   \n",
       "2      0.0 -0.623943 -0.350788 -0.477600 -1.0 -1.0  1.008851 -0.197614   \n",
       "3      0.0 -0.623943 -1.275536 -0.763628 -1.0 -1.0  1.242334  0.252204   \n",
       "4      0.0 -0.580583 -1.264866 -0.229627 -1.0 -1.0  0.689348 -0.497492   \n",
       "...    ...       ...       ...       ...  ...  ...       ...       ...   \n",
       "18834  0.0  2.281150  1.758347  1.848678 -1.0 -1.0 -2.247621  1.301779   \n",
       "18835  0.0  1.045402  0.798033  2.203451 -1.0 -1.0 -2.923493  1.751597   \n",
       "18836  0.0  1.934274  2.003761  1.398153 -1.0 -1.0 -2.825184  1.151840   \n",
       "18837  0.0  0.980362  1.751234  2.558224 -1.0 -1.0 -1.719212  2.951111   \n",
       "18838  0.0  2.346190  1.303087  2.371630 -1.0 -1.0 -1.780655  2.051475   \n",
       "\n",
       "             s9  s10  ...       s12       s13       s14       s15  s16  \\\n",
       "0     -1.116524 -1.0  ...  0.275787 -1.077861 -0.179095 -0.564983 -1.0   \n",
       "1     -1.269311 -1.0  ...  1.190602 -0.336848 -0.764734 -0.204311 -1.0   \n",
       "2     -0.630056 -1.0  ...  1.397173 -0.929658 -0.621815 -0.614832 -1.0   \n",
       "3     -0.879416 -1.0  ...  2.046396 -0.188646 -0.572533 -2.069247 -1.0   \n",
       "4     -0.470783 -1.0  ...  1.057806 -0.781456 -0.574997 -0.274686 -1.0   \n",
       "...         ...  ...  ...       ...       ...       ...       ...  ...   \n",
       "18834  0.577104 -1.0  ... -2.911311  2.182595 -0.083816  1.414312 -1.0   \n",
       "18835  0.220361 -1.0  ... -2.881800  2.479000  0.121528  2.270540 -1.0   \n",
       "18836 -0.088816 -1.0  ... -1.303007  1.737987  0.218450  1.478822 -1.0   \n",
       "18837  0.424318 -1.0  ... -2.011251  1.441582  0.100172  3.038799 -1.0   \n",
       "18838  0.516566 -1.0  ... -2.837535  1.886190 -0.092851  2.425951 -1.0   \n",
       "\n",
       "            s17  s18  s19       s20       s21  \n",
       "0     -0.755281  0.0  0.0  1.382218  1.209512  \n",
       "1     -0.755281  0.0  0.0  1.017736  1.256075  \n",
       "2     -2.173616  0.0  0.0  0.714000  0.452351  \n",
       "3     -0.755281  0.0  0.0  0.288770  0.752988  \n",
       "4     -0.046113  0.0  0.0  0.410265  1.061724  \n",
       "...         ...  ...  ...       ...       ...  \n",
       "18834  2.790557  0.0  0.0 -1.108413 -2.433566  \n",
       "18835  1.372222  0.0  0.0 -2.505597 -2.421419  \n",
       "18836  2.790557  0.0  0.0 -1.655137 -2.252374  \n",
       "18837  2.790557  0.0  0.0 -2.201861 -2.798987  \n",
       "18838  0.663054  0.0  0.0 -2.748585 -1.691589  \n",
       "\n",
       "[18839 rows x 21 columns]"
      ]
     },
     "execution_count": 436,
     "metadata": {},
     "output_type": "execute_result"
    }
   ],
   "source": [
    "df = pd.DataFrame(data_scaled, columns= [col_names])\n",
    "df"
   ]
  },
  {
   "cell_type": "code",
   "execution_count": null,
   "id": "filled-romance",
   "metadata": {},
   "outputs": [],
   "source": []
  },
  {
   "cell_type": "code",
   "execution_count": 437,
   "id": "cordless-control",
   "metadata": {},
   "outputs": [
    {
     "data": {
      "text/plain": [
       "<AxesSubplot:xlabel='None', ylabel='None'>"
      ]
     },
     "execution_count": 437,
     "metadata": {},
     "output_type": "execute_result"
    },
    {
     "data": {
      "image/png": "[encoded data removed]",
      "text/plain": [
       "<Figure size 720x432 with 2 Axes>"
      ]
     },
     "metadata": {
      "needs_background": "light"
     },
     "output_type": "display_data"
    }
   ],
   "source": [
    "plt.figure(figsize=(10,6))\n",
    "sns.heatmap(df[col_names].corr(),cmap= 'Accent')"
   ]
  },
  {
   "cell_type": "code",
   "execution_count": 438,
   "id": "finnish-bridge",
   "metadata": {},
   "outputs": [
    {
     "name": "stderr",
     "output_type": "stream",
     "text": [
      "c:\\users\\administrator\\appdata\\local\\programs\\python\\python37\\lib\\site-packages\\statsmodels\\regression\\linear_model.py:1715: RuntimeWarning: divide by zero encountered in double_scalars\n",
      "  return 1 - self.ssr/self.centered_tss\n"
     ]
    },
    {
     "data": {
      "text/html": [
       "<div>\n",
       "<style scoped>\n",
       "    .dataframe tbody tr th:only-of-type {\n",
       "        vertical-align: middle;\n",
       "    }\n",
       "\n",
       "    .dataframe tbody tr th {\n",
       "        vertical-align: top;\n",
       "    }\n",
       "\n",
       "    .dataframe thead th {\n",
       "        text-align: right;\n",
       "    }\n",
       "</style>\n",
       "<table border=\"1\" class=\"dataframe\">\n",
       "  <thead>\n",
       "    <tr style=\"text-align: right;\">\n",
       "      <th></th>\n",
       "      <th>Independent Features</th>\n",
       "      <th>VIF Scores</th>\n",
       "    </tr>\n",
       "  </thead>\n",
       "  <tbody>\n",
       "    <tr>\n",
       "      <th>0</th>\n",
       "      <td>s1</td>\n",
       "      <td>0.000000e+00</td>\n",
       "    </tr>\n",
       "    <tr>\n",
       "      <th>1</th>\n",
       "      <td>s2</td>\n",
       "      <td>2.260884e+00</td>\n",
       "    </tr>\n",
       "    <tr>\n",
       "      <th>2</th>\n",
       "      <td>s3</td>\n",
       "      <td>2.282864e+00</td>\n",
       "    </tr>\n",
       "    <tr>\n",
       "      <th>3</th>\n",
       "      <td>s4</td>\n",
       "      <td>4.578003e+00</td>\n",
       "    </tr>\n",
       "    <tr>\n",
       "      <th>4</th>\n",
       "      <td>s5</td>\n",
       "      <td>1.659149e-25</td>\n",
       "    </tr>\n",
       "    <tr>\n",
       "      <th>5</th>\n",
       "      <td>s6</td>\n",
       "      <td>4.349514e-02</td>\n",
       "    </tr>\n",
       "    <tr>\n",
       "      <th>6</th>\n",
       "      <td>s7</td>\n",
       "      <td>4.237020e+00</td>\n",
       "    </tr>\n",
       "    <tr>\n",
       "      <th>7</th>\n",
       "      <td>s8</td>\n",
       "      <td>9.080392e-03</td>\n",
       "    </tr>\n",
       "    <tr>\n",
       "      <th>8</th>\n",
       "      <td>s9</td>\n",
       "      <td>1.648244e+01</td>\n",
       "    </tr>\n",
       "    <tr>\n",
       "      <th>9</th>\n",
       "      <td>s10</td>\n",
       "      <td>0.000000e+00</td>\n",
       "    </tr>\n",
       "    <tr>\n",
       "      <th>10</th>\n",
       "      <td>s11</td>\n",
       "      <td>5.961884e+00</td>\n",
       "    </tr>\n",
       "    <tr>\n",
       "      <th>11</th>\n",
       "      <td>s12</td>\n",
       "      <td>4.830746e+00</td>\n",
       "    </tr>\n",
       "    <tr>\n",
       "      <th>12</th>\n",
       "      <td>s13</td>\n",
       "      <td>3.490787e-01</td>\n",
       "    </tr>\n",
       "    <tr>\n",
       "      <th>13</th>\n",
       "      <td>s14</td>\n",
       "      <td>1.181318e+01</td>\n",
       "    </tr>\n",
       "    <tr>\n",
       "      <th>14</th>\n",
       "      <td>s15</td>\n",
       "      <td>3.298410e+00</td>\n",
       "    </tr>\n",
       "    <tr>\n",
       "      <th>15</th>\n",
       "      <td>s16</td>\n",
       "      <td>2.454595e-24</td>\n",
       "    </tr>\n",
       "    <tr>\n",
       "      <th>16</th>\n",
       "      <td>s17</td>\n",
       "      <td>2.557713e+00</td>\n",
       "    </tr>\n",
       "    <tr>\n",
       "      <th>17</th>\n",
       "      <td>s18</td>\n",
       "      <td>0.000000e+00</td>\n",
       "    </tr>\n",
       "    <tr>\n",
       "      <th>18</th>\n",
       "      <td>s19</td>\n",
       "      <td>0.000000e+00</td>\n",
       "    </tr>\n",
       "    <tr>\n",
       "      <th>19</th>\n",
       "      <td>s20</td>\n",
       "      <td>3.059540e+00</td>\n",
       "    </tr>\n",
       "    <tr>\n",
       "      <th>20</th>\n",
       "      <td>s21</td>\n",
       "      <td>3.107019e+00</td>\n",
       "    </tr>\n",
       "  </tbody>\n",
       "</table>\n",
       "</div>"
      ],
      "text/plain": [
       "   Independent Features    VIF Scores\n",
       "0                    s1  0.000000e+00\n",
       "1                    s2  2.260884e+00\n",
       "2                    s3  2.282864e+00\n",
       "3                    s4  4.578003e+00\n",
       "4                    s5  1.659149e-25\n",
       "5                    s6  4.349514e-02\n",
       "6                    s7  4.237020e+00\n",
       "7                    s8  9.080392e-03\n",
       "8                    s9  1.648244e+01\n",
       "9                   s10  0.000000e+00\n",
       "10                  s11  5.961884e+00\n",
       "11                  s12  4.830746e+00\n",
       "12                  s13  3.490787e-01\n",
       "13                  s14  1.181318e+01\n",
       "14                  s15  3.298410e+00\n",
       "15                  s16  2.454595e-24\n",
       "16                  s17  2.557713e+00\n",
       "17                  s18  0.000000e+00\n",
       "18                  s19  0.000000e+00\n",
       "19                  s20  3.059540e+00\n",
       "20                  s21  3.107019e+00"
      ]
     },
     "execution_count": 438,
     "metadata": {},
     "output_type": "execute_result"
    }
   ],
   "source": [
    "from statsmodels.stats.outliers_influence import variance_inflation_factor \n",
    "def vif_scores(df):\n",
    "    VIF_Scores = pd.DataFrame()\n",
    "    VIF_Scores[\"Independent Features\"] = df.columns\n",
    "    VIF_Scores[\"VIF Scores\"] = [variance_inflation_factor(df.values,i) for i in range(df.shape[1])]\n",
    "    return VIF_Scores\n",
    "df1= data_train[features].iloc[:,:-2]\n",
    "vif_scores(df1)"
   ]
  },
  {
   "cell_type": "code",
   "execution_count": null,
   "id": "satisfactory-aircraft",
   "metadata": {},
   "outputs": [],
   "source": []
  },
  {
   "cell_type": "code",
   "execution_count": null,
   "id": "printable-latitude",
   "metadata": {},
   "outputs": [],
   "source": []
  },
  {
   "cell_type": "code",
   "execution_count": 442,
   "id": "fitted-aberdeen",
   "metadata": {},
   "outputs": [
    {
     "data": {
      "image/png": "[encoded data removed]",
      "text/plain": [
       "<Figure size 432x288 with 1 Axes>"
      ]
     },
     "metadata": {
      "needs_background": "light"
     },
     "output_type": "display_data"
    },
    {
     "data": {
      "text/plain": [
       "<AxesSubplot:title={'center':'Class Balance for 20,631 Instances'}, ylabel='support'>"
      ]
     },
     "execution_count": 442,
     "metadata": {},
     "output_type": "execute_result"
    }
   ],
   "source": [
    "from yellowbrick.target import ClassBalance\n",
    "visualizer = ClassBalance(labels=['0','1'])\n",
    "X = df[col_names]\n",
    "y= data_train['label_bnc']\n",
    "visualizer.fit(y1)        \n",
    "visualizer.show() \n"
   ]
  },
  {
   "cell_type": "code",
   "execution_count": null,
   "id": "strategic-civilian",
   "metadata": {},
   "outputs": [],
   "source": []
  },
  {
   "cell_type": "code",
   "execution_count": 444,
   "id": "passive-fever",
   "metadata": {},
   "outputs": [
    {
     "name": "stderr",
     "output_type": "stream",
     "text": [
      "c:\\users\\administrator\\appdata\\local\\programs\\python\\python37\\lib\\site-packages\\numpy\\lib\\function_base.py:2559: RuntimeWarning: invalid value encountered in true_divide\n",
      "  c /= stddev[:, None]\n",
      "c:\\users\\administrator\\appdata\\local\\programs\\python\\python37\\lib\\site-packages\\numpy\\lib\\function_base.py:2560: RuntimeWarning: invalid value encountered in true_divide\n",
      "  c /= stddev[None, :]\n"
     ]
    },
    {
     "data": {
      "image/png": "[encoded data removed]",
      "text/plain": [
       "<Figure size 432x288 with 2 Axes>"
      ]
     },
     "metadata": {
      "needs_background": "light"
     },
     "output_type": "display_data"
    },
    {
     "data": {
      "text/plain": [
       "<AxesSubplot:title={'center':'Pearson Ranking of 21 Features'}>"
      ]
     },
     "execution_count": 444,
     "metadata": {},
     "output_type": "execute_result"
    }
   ],
   "source": [
    "from yellowbrick.features import Rank2D\n",
    "\n",
    "# Instantiate the visualizer with the Covariance ranking algorithm\n",
    "visualizer = Rank2D(features=col_names, algorithm='pearson')\n",
    "visualizer.fit_transform(X=X.astype(float), y=data['ttf'])\n",
    "visualizer.poof() "
   ]
  },
  {
   "cell_type": "code",
   "execution_count": null,
   "id": "equipped-briefs",
   "metadata": {},
   "outputs": [],
   "source": []
  },
  {
   "cell_type": "code",
   "execution_count": null,
   "id": "present-april",
   "metadata": {},
   "outputs": [],
   "source": []
  },
  {
   "cell_type": "code",
   "execution_count": null,
   "id": "classified-aurora",
   "metadata": {},
   "outputs": [],
   "source": []
  },
  {
   "cell_type": "code",
   "execution_count": 488,
   "id": "practical-bones",
   "metadata": {},
   "outputs": [],
   "source": [
    "features1 = ['s2', 's3', 's4',  's7',   's11', 's12',  's14', 's15',  \n",
    "            's17',  's20', 's21']"
   ]
  },
  {
   "cell_type": "markdown",
   "id": "martial-winning",
   "metadata": {},
   "source": [
    "## ứng dụng"
   ]
  },
  {
   "cell_type": "code",
   "execution_count": 489,
   "id": "collectible-acrobat",
   "metadata": {},
   "outputs": [],
   "source": [
    "data_test = pd.read_csv('data/test.csv')\n",
    "data_scaled_test = scaler.fit_transform(data_test[features1])\n",
    "df1 = pd.DataFrame(data_scaled_test, columns= [features1])"
   ]
  },
  {
   "cell_type": "code",
   "execution_count": 490,
   "id": "injured-marker",
   "metadata": {},
   "outputs": [],
   "source": [
    "X_train =df[features1]\n",
    "y_train = data['ttf']\n",
    "X_test = df1\n",
    "y_test = data_test['ttf']"
   ]
  },
  {
   "cell_type": "code",
   "execution_count": 491,
   "id": "scenic-sheep",
   "metadata": {},
   "outputs": [
    {
     "data": {
      "text/plain": [
       "array([ -3.68370642,  -2.99021924,  -7.17575973,   6.11702225,\n",
       "       -10.4598733 ,   7.79636447, -14.65160669,  -4.68640919,\n",
       "        -3.22211498,   3.78152856,   4.7289184 ])"
      ]
     },
     "execution_count": 491,
     "metadata": {},
     "output_type": "execute_result"
    }
   ],
   "source": [
    "regression = LinearRegression()\n",
    "regression.fit(X_train, y_train)\n",
    "# hệ số hồi quy\n",
    "w1 = regression.coef_\n",
    "w1"
   ]
  },
  {
   "cell_type": "code",
   "execution_count": 492,
   "id": "covered-importance",
   "metadata": {},
   "outputs": [
    {
     "data": {
      "text/plain": [
       "113.358670842401"
      ]
     },
     "execution_count": 492,
     "metadata": {},
     "output_type": "execute_result"
    }
   ],
   "source": [
    "w0 =  regression.intercept_ \n",
    "w0"
   ]
  },
  {
   "cell_type": "code",
   "execution_count": 493,
   "id": "pharmaceutical-turkish",
   "metadata": {},
   "outputs": [
    {
     "data": {
      "text/plain": [
       "array([182.82466126, 141.31660349, 101.69747679, 113.56880827,\n",
       "       135.92810919, 140.68812633, 149.4824517 , 114.3533158 ,\n",
       "       135.34163916, 135.19368901, 119.95140822, 126.49373627,\n",
       "       116.71536769, 135.21490039, 184.42503887, 154.64053578,\n",
       "        92.85693236,  96.58053283, 139.81072811,  35.83555289,\n",
       "       134.01504355, 164.48943077, 175.9987268 ,  37.33026319,\n",
       "       156.79332694, 160.37633789, 150.94177135, 132.56148018,\n",
       "       144.0596522 , 117.92679918,  23.32871209, 120.57008426,\n",
       "       126.48728997,  21.21181309,  10.21193755,  49.43282159,\n",
       "       100.06753102,  82.39099628, 173.40010223,  51.17747093,\n",
       "       113.85059179,  54.85707911,  95.57485576, 141.18333501,\n",
       "       102.22092954,  80.84338185, 144.46974274, 138.38107942,\n",
       "        35.06462616, 145.83322275, 140.54528253,  57.66474001,\n",
       "        49.39926362, 189.41612073, 160.8598234 ,  53.44517656,\n",
       "       124.6279134 ,  89.66434822, 185.57374814, 135.76148277,\n",
       "        66.21614641, 102.79178705, 102.60498081,  82.43509311,\n",
       "       190.86578321,   1.02980943, 161.18297095,  24.96387475,\n",
       "       156.48025732, 127.30619412, 160.79306245, 114.23887048,\n",
       "       180.81236862, 121.02174489, 172.06267421,  -2.76838319,\n",
       "        78.62400104, 204.50938529, 137.87516811, 110.19717462,\n",
       "         7.85189339,  29.20267886, 149.08855014,  94.31713016,\n",
       "       137.909649  , 125.87755031, 167.69581889, 157.71413443,\n",
       "       133.41322492,  58.47366519,  71.23360465,  51.31710951,\n",
       "        75.13813921,  84.42357048, 165.93445858, 185.70800675,\n",
       "       121.74117603, 113.48831633, 180.44078846,   6.72670628])"
      ]
     },
     "execution_count": 493,
     "metadata": {},
     "output_type": "execute_result"
    }
   ],
   "source": [
    "y_pred = regression.predict(X_test)\n",
    "y_pred"
   ]
  },
  {
   "cell_type": "code",
   "execution_count": null,
   "id": "unlikely-force",
   "metadata": {},
   "outputs": [],
   "source": []
  },
  {
   "cell_type": "code",
   "execution_count": null,
   "id": "provincial-course",
   "metadata": {},
   "outputs": [],
   "source": []
  },
  {
   "cell_type": "code",
   "execution_count": 494,
   "id": "efficient-shield",
   "metadata": {},
   "outputs": [
    {
     "data": {
      "text/plain": [
       "-0.20870138100522295"
      ]
     },
     "execution_count": 494,
     "metadata": {},
     "output_type": "execute_result"
    }
   ],
   "source": [
    "# R bình % của dự đoán\n",
    "r_sq = regression.score(X_test, y_test)\n",
    "r_sq "
   ]
  },
  {
   "cell_type": "code",
   "execution_count": 495,
   "id": "failing-pittsburgh",
   "metadata": {},
   "outputs": [
    {
     "data": {
      "text/html": [
       "<div>\n",
       "<style scoped>\n",
       "    .dataframe tbody tr th:only-of-type {\n",
       "        vertical-align: middle;\n",
       "    }\n",
       "\n",
       "    .dataframe tbody tr th {\n",
       "        vertical-align: top;\n",
       "    }\n",
       "\n",
       "    .dataframe thead th {\n",
       "        text-align: right;\n",
       "    }\n",
       "</style>\n",
       "<table border=\"1\" class=\"dataframe\">\n",
       "  <thead>\n",
       "    <tr style=\"text-align: right;\">\n",
       "      <th></th>\n",
       "      <th>thực</th>\n",
       "      <th>dự đoán</th>\n",
       "    </tr>\n",
       "  </thead>\n",
       "  <tbody>\n",
       "    <tr>\n",
       "      <th>0</th>\n",
       "      <td>112</td>\n",
       "      <td>182.824661</td>\n",
       "    </tr>\n",
       "    <tr>\n",
       "      <th>1</th>\n",
       "      <td>98</td>\n",
       "      <td>141.316603</td>\n",
       "    </tr>\n",
       "    <tr>\n",
       "      <th>2</th>\n",
       "      <td>69</td>\n",
       "      <td>101.697477</td>\n",
       "    </tr>\n",
       "    <tr>\n",
       "      <th>3</th>\n",
       "      <td>82</td>\n",
       "      <td>113.568808</td>\n",
       "    </tr>\n",
       "    <tr>\n",
       "      <th>4</th>\n",
       "      <td>91</td>\n",
       "      <td>135.928109</td>\n",
       "    </tr>\n",
       "    <tr>\n",
       "      <th>...</th>\n",
       "      <td>...</td>\n",
       "      <td>...</td>\n",
       "    </tr>\n",
       "    <tr>\n",
       "      <th>95</th>\n",
       "      <td>137</td>\n",
       "      <td>185.708007</td>\n",
       "    </tr>\n",
       "    <tr>\n",
       "      <th>96</th>\n",
       "      <td>82</td>\n",
       "      <td>121.741176</td>\n",
       "    </tr>\n",
       "    <tr>\n",
       "      <th>97</th>\n",
       "      <td>59</td>\n",
       "      <td>113.488316</td>\n",
       "    </tr>\n",
       "    <tr>\n",
       "      <th>98</th>\n",
       "      <td>117</td>\n",
       "      <td>180.440788</td>\n",
       "    </tr>\n",
       "    <tr>\n",
       "      <th>99</th>\n",
       "      <td>20</td>\n",
       "      <td>6.726706</td>\n",
       "    </tr>\n",
       "  </tbody>\n",
       "</table>\n",
       "<p>100 rows × 2 columns</p>\n",
       "</div>"
      ],
      "text/plain": [
       "    thực     dự đoán\n",
       "0    112  182.824661\n",
       "1     98  141.316603\n",
       "2     69  101.697477\n",
       "3     82  113.568808\n",
       "4     91  135.928109\n",
       "..   ...         ...\n",
       "95   137  185.708007\n",
       "96    82  121.741176\n",
       "97    59  113.488316\n",
       "98   117  180.440788\n",
       "99    20    6.726706\n",
       "\n",
       "[100 rows x 2 columns]"
      ]
     },
     "execution_count": 495,
     "metadata": {},
     "output_type": "execute_result"
    }
   ],
   "source": [
    "df2 = pd.DataFrame({'thực': y_test, 'dự đoán': y_pred})\n",
    "df2"
   ]
  }
 ],
 "metadata": {
  "kernelspec": {
   "display_name": "Python 3",
   "language": "python",
   "name": "python3"
  },
  "language_info": {
   "codemirror_mode": {
    "name": "ipython",
    "version": 3
   },
   "file_extension": ".py",
   "mimetype": "text/x-python",
   "name": "python",
   "nbconvert_exporter": "python",
   "pygments_lexer": "ipython3",
   "version": "3.7.9"
  }
 },
 "nbformat": 4,
 "nbformat_minor": 5
}
