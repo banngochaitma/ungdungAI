{
 "cells": [
  {
   "cell_type": "code",
   "execution_count": 1,
   "id": "governing-dynamics",
   "metadata": {},
   "outputs": [],
   "source": [
    "import pandas as pd\n",
    "import numpy as np\n",
    "from sklearn.metrics import mean_squared_error\n",
    "from sklearn.linear_model import LinearRegression\n",
    "from sklearn import metrics"
   ]
  },
  {
   "cell_type": "code",
   "execution_count": 2,
   "id": "according-journalism",
   "metadata": {},
   "outputs": [],
   "source": [
    "col_names = ['s2', 's3', 's4', 's7', 's11', 's12', 's13', 's14', 's15', 's17', 's20', 's21']\n",
    "data_train = pd.read_csv('data/train.csv')\n",
    "data_test = pd.read_csv('data/test.csv')"
   ]
  },
  {
   "cell_type": "code",
   "execution_count": 3,
   "id": "hazardous-athens",
   "metadata": {},
   "outputs": [],
   "source": [
    "\n",
    "X_train =data_train[col_names]\n",
    "y_train = data_train['ttf']\n",
    "X_test = data_test[col_names]\n",
    "y_test = data_test['ttf']"
   ]
  },
  {
   "cell_type": "code",
   "execution_count": null,
   "id": "honest-queens",
   "metadata": {},
   "outputs": [],
   "source": []
  },
  {
   "cell_type": "code",
   "execution_count": 4,
   "id": "valuable-briefs",
   "metadata": {},
   "outputs": [],
   "source": [
    "one = np.ones((X_train.shape[0], 1))\n",
    "Xbar = np.concatenate((one, X_train), axis = 1)\n",
    "\n",
    "one1 = np.ones((X_test.shape[0], 1))\n",
    "Xbartest = np.concatenate((one1, X_test), axis = 1)"
   ]
  },
  {
   "cell_type": "markdown",
   "id": "olympic-magazine",
   "metadata": {},
   "source": [
    "## áp dụng công thức"
   ]
  },
  {
   "cell_type": "code",
   "execution_count": 5,
   "id": "inside-morris",
   "metadata": {},
   "outputs": [
    {
     "data": {
      "text/plain": [
       "array([ 1.04180698e-02, -7.17788010e+00, -4.66888675e-01, -8.10874740e-01,\n",
       "        7.27680847e+00, -3.92679746e+01,  1.12334451e+01,  1.53139461e+00,\n",
       "       -6.20516567e-01, -1.27246340e+02, -2.00137617e+00,  2.11916350e+01,\n",
       "        4.39509798e+01])"
      ]
     },
     "execution_count": 5,
     "metadata": {},
     "output_type": "execute_result"
    }
   ],
   "source": [
    "A = np.dot(Xbar.T, Xbar)\n",
    "b = np.dot(Xbar.T, y_train)\n",
    "w = np.dot(np.linalg.pinv(A), b)\n",
    "# hệ số hồi quy\n",
    "w"
   ]
  },
  {
   "cell_type": "code",
   "execution_count": 6,
   "id": "heard-flood",
   "metadata": {},
   "outputs": [
    {
     "data": {
      "text/plain": [
       "array([161.74478807, 121.21357856,  82.83013433,  96.17764469,\n",
       "       114.94633657, 122.61440735, 131.31407882,  95.48847583,\n",
       "       115.31566152, 117.29565118,  99.1407334 , 110.77350045,\n",
       "        99.97921818, 114.19307335, 163.25001496, 137.53723026,\n",
       "        80.88094533,  79.83648743, 122.03065741,  23.61989972,\n",
       "       119.60300844, 143.99027253, 154.8345947 ,  33.90347005,\n",
       "       136.89740772, 142.86302865, 130.0886211 , 113.98660033,\n",
       "       126.2524686 ,  99.55627684,  12.52796076, 108.40458767,\n",
       "       107.95709677,   6.2740615 ,  -0.56832364,  35.02654997,\n",
       "        81.06814247,  69.97911583, 154.1923938 ,  37.66442349,\n",
       "        93.11315726,  37.35593451,  78.11958066, 121.23522887,\n",
       "        85.6962999 ,  67.09000611, 124.10889789, 120.37906766,\n",
       "        20.6623091 , 127.79096635, 120.87558343,  50.60240878,\n",
       "        40.7110501 , 169.47918738, 140.4092481 ,  36.01826618,\n",
       "       105.33484358,  73.1810588 , 164.32407017, 117.18222134,\n",
       "        52.82905576,  89.52644358,  85.04052456,  65.62436288,\n",
       "       171.41703882,  -2.78712249, 141.9346477 ,  14.34701134,\n",
       "       135.86667526, 108.76946017, 142.19135952,  98.40199717,\n",
       "       160.86125013, 102.70795246, 149.96248965,  -8.68332283,\n",
       "        60.90060502, 184.38929804, 117.8120865 ,  93.17029457,\n",
       "        -3.25421235,  14.09791702, 130.7688102 ,  77.78675115,\n",
       "       117.63733121, 109.95816729, 149.6901001 , 136.85043838,\n",
       "       114.74380344,  46.80095907,  53.69320019,  34.76945831,\n",
       "        61.70925492,  67.81026231, 145.28637873, 165.5582227 ,\n",
       "       107.50720439,  96.5665253 , 161.23019826,   4.38277347])"
      ]
     },
     "execution_count": 6,
     "metadata": {},
     "output_type": "execute_result"
    }
   ],
   "source": [
    "y_pred = np.sum(w*Xbartest,axis = 1)\n",
    "y_pred"
   ]
  },
  {
   "cell_type": "markdown",
   "id": "legendary-shuttle",
   "metadata": {},
   "source": [
    "## áp dụng hàm có sẵn"
   ]
  },
  {
   "cell_type": "code",
   "execution_count": 7,
   "id": "acoustic-resource",
   "metadata": {},
   "outputs": [
    {
     "data": {
      "text/plain": [
       "array([  -7.08623508,   -0.4596332 ,   -0.79636225,    7.09689047,\n",
       "        -38.58435669,   10.95862007,  -13.49193377,   -0.63812921,\n",
       "       -125.07937558,   -1.96193866,   20.74912844,   43.1220217 ])"
      ]
     },
     "execution_count": 7,
     "metadata": {},
     "output_type": "execute_result"
    }
   ],
   "source": [
    "regression = LinearRegression()\n",
    "regression.fit(X_train, y_train)\n",
    "# hệ số hồi quy\n",
    "w1 = regression.coef_\n",
    "w1"
   ]
  },
  {
   "cell_type": "code",
   "execution_count": 8,
   "id": "intimate-termination",
   "metadata": {},
   "outputs": [
    {
     "data": {
      "text/plain": [
       "36142.750327205395"
      ]
     },
     "execution_count": 8,
     "metadata": {},
     "output_type": "execute_result"
    }
   ],
   "source": [
    "w0 =  regression.intercept_ \n",
    "w0"
   ]
  },
  {
   "cell_type": "code",
   "execution_count": 9,
   "id": "stupid-parent",
   "metadata": {},
   "outputs": [
    {
     "data": {
      "text/plain": [
       "0     161.654513\n",
       "1     121.517581\n",
       "2      83.044663\n",
       "3      96.480562\n",
       "4     114.582613\n",
       "         ...    \n",
       "95    165.591838\n",
       "96    107.704936\n",
       "97     96.765383\n",
       "98    161.148790\n",
       "99      4.949056\n",
       "Length: 100, dtype: float64"
      ]
     },
     "execution_count": 9,
     "metadata": {},
     "output_type": "execute_result"
    }
   ],
   "source": [
    "y_pred = w0 + np.sum(w1*X_test,axis = 1)\n",
    "y_pred"
   ]
  },
  {
   "cell_type": "code",
   "execution_count": 10,
   "id": "billion-purse",
   "metadata": {},
   "outputs": [
    {
     "data": {
      "text/plain": [
       "array([161.65451256, 121.51758119,  83.04466309,  96.48056154,\n",
       "       114.58261333, 121.6313789 , 131.08481981,  95.87029293,\n",
       "       114.51148866, 117.40683296,  98.90946703, 111.47288134,\n",
       "        99.70624192, 114.79500736, 162.06372836, 137.04400232,\n",
       "        81.52368755,  79.14452195, 122.38472551,  23.6640085 ,\n",
       "       118.99599033, 143.38694699, 154.4773464 ,  33.6899708 ,\n",
       "       137.06222127, 143.67465931, 129.58768515, 113.90708685,\n",
       "       126.21729615,  99.44993644,  12.19215283, 108.12518069,\n",
       "       108.0651611 ,   6.59709218,  -0.60986656,  34.81273722,\n",
       "        81.51539197,  69.39779056, 154.6695948 ,  37.93732071,\n",
       "        92.70554016,  36.91179697,  78.0359954 , 121.29685799,\n",
       "        85.43464068,  67.38759629, 123.7073496 , 119.45573644,\n",
       "        20.81957288, 127.99232267, 120.76360422,  50.63997706,\n",
       "        41.57263569, 170.131978  , 140.8790971 ,  36.25243425,\n",
       "       104.37003496,  72.69633097, 164.06834611, 117.60016632,\n",
       "        52.64111105,  89.85904457,  84.71594426,  66.27325767,\n",
       "       170.87913673,  -2.46378754, 141.10274416,  13.80332826,\n",
       "       134.81085652, 108.83141299, 141.68292805,  98.48032043,\n",
       "       160.731829  , 103.35800739, 149.43561746,  -8.21047401,\n",
       "        60.63434901, 184.80525394, 117.49748102,  94.66729469,\n",
       "        -3.04992598,  13.56050971, 130.47277159,  76.9214511 ,\n",
       "       118.04342351, 109.25088876, 149.91081829, 135.48877953,\n",
       "       114.64398465,  47.6618023 ,  53.5831632 ,  35.44239606,\n",
       "        61.59492094,  68.40006765, 144.78786571, 165.59183755,\n",
       "       107.70493609,  96.76538345, 161.14878993,   4.94905613])"
      ]
     },
     "execution_count": 10,
     "metadata": {},
     "output_type": "execute_result"
    }
   ],
   "source": [
    "y_pred = regression.predict(X_test)\n",
    "y_pred"
   ]
  },
  {
   "cell_type": "code",
   "execution_count": 11,
   "id": "spanish-smoke",
   "metadata": {},
   "outputs": [
    {
     "data": {
      "text/plain": [
       "0.41504559932988916"
      ]
     },
     "execution_count": 11,
     "metadata": {},
     "output_type": "execute_result"
    }
   ],
   "source": [
    "# R bình % của dự đoán\n",
    "r_sq = regression.score(X_test, y_test)\n",
    "r_sq "
   ]
  },
  {
   "cell_type": "code",
   "execution_count": 12,
   "id": "every-simon",
   "metadata": {},
   "outputs": [
    {
     "data": {
      "text/plain": [
       "25.44318539541935"
      ]
     },
     "execution_count": 12,
     "metadata": {},
     "output_type": "execute_result"
    }
   ],
   "source": [
    "metrics.mean_absolute_error(y_test, y_pred)"
   ]
  },
  {
   "cell_type": "code",
   "execution_count": 13,
   "id": "delayed-prior",
   "metadata": {},
   "outputs": [
    {
     "data": {
      "text/plain": [
       "31.78269925452264"
      ]
     },
     "execution_count": 13,
     "metadata": {},
     "output_type": "execute_result"
    }
   ],
   "source": [
    "np.sqrt(metrics.mean_squared_error(y_test, y_pred))"
   ]
  },
  {
   "cell_type": "code",
   "execution_count": 14,
   "id": "passive-microwave",
   "metadata": {},
   "outputs": [
    {
     "data": {
      "text/html": [
       "<div>\n",
       "<style scoped>\n",
       "    .dataframe tbody tr th:only-of-type {\n",
       "        vertical-align: middle;\n",
       "    }\n",
       "\n",
       "    .dataframe tbody tr th {\n",
       "        vertical-align: top;\n",
       "    }\n",
       "\n",
       "    .dataframe thead th {\n",
       "        text-align: right;\n",
       "    }\n",
       "</style>\n",
       "<table border=\"1\" class=\"dataframe\">\n",
       "  <thead>\n",
       "    <tr style=\"text-align: right;\">\n",
       "      <th></th>\n",
       "      <th>thực</th>\n",
       "      <th>dự đoán</th>\n",
       "    </tr>\n",
       "  </thead>\n",
       "  <tbody>\n",
       "    <tr>\n",
       "      <th>0</th>\n",
       "      <td>112</td>\n",
       "      <td>161.654513</td>\n",
       "    </tr>\n",
       "    <tr>\n",
       "      <th>1</th>\n",
       "      <td>98</td>\n",
       "      <td>121.517581</td>\n",
       "    </tr>\n",
       "    <tr>\n",
       "      <th>2</th>\n",
       "      <td>69</td>\n",
       "      <td>83.044663</td>\n",
       "    </tr>\n",
       "    <tr>\n",
       "      <th>3</th>\n",
       "      <td>82</td>\n",
       "      <td>96.480562</td>\n",
       "    </tr>\n",
       "    <tr>\n",
       "      <th>4</th>\n",
       "      <td>91</td>\n",
       "      <td>114.582613</td>\n",
       "    </tr>\n",
       "    <tr>\n",
       "      <th>...</th>\n",
       "      <td>...</td>\n",
       "      <td>...</td>\n",
       "    </tr>\n",
       "    <tr>\n",
       "      <th>95</th>\n",
       "      <td>137</td>\n",
       "      <td>165.591838</td>\n",
       "    </tr>\n",
       "    <tr>\n",
       "      <th>96</th>\n",
       "      <td>82</td>\n",
       "      <td>107.704936</td>\n",
       "    </tr>\n",
       "    <tr>\n",
       "      <th>97</th>\n",
       "      <td>59</td>\n",
       "      <td>96.765383</td>\n",
       "    </tr>\n",
       "    <tr>\n",
       "      <th>98</th>\n",
       "      <td>117</td>\n",
       "      <td>161.148790</td>\n",
       "    </tr>\n",
       "    <tr>\n",
       "      <th>99</th>\n",
       "      <td>20</td>\n",
       "      <td>4.949056</td>\n",
       "    </tr>\n",
       "  </tbody>\n",
       "</table>\n",
       "<p>100 rows × 2 columns</p>\n",
       "</div>"
      ],
      "text/plain": [
       "    thực     dự đoán\n",
       "0    112  161.654513\n",
       "1     98  121.517581\n",
       "2     69   83.044663\n",
       "3     82   96.480562\n",
       "4     91  114.582613\n",
       "..   ...         ...\n",
       "95   137  165.591838\n",
       "96    82  107.704936\n",
       "97    59   96.765383\n",
       "98   117  161.148790\n",
       "99    20    4.949056\n",
       "\n",
       "[100 rows x 2 columns]"
      ]
     },
     "execution_count": 14,
     "metadata": {},
     "output_type": "execute_result"
    }
   ],
   "source": [
    "df = pd.DataFrame({'thực': y_test, 'dự đoán': y_pred})\n",
    "df"
   ]
  },
  {
   "cell_type": "code",
   "execution_count": 25,
   "id": "geological-freeware",
   "metadata": {},
   "outputs": [
    {
     "data": {
      "text/plain": [
       "array([179.91, 153.67,  64.85, 111.95, 137.04, 124.22, 129.8 , 109.  ,\n",
       "       129.63, 132.56,  67.31,  78.65,  99.68, 134.4 , 176.97, 111.79,\n",
       "        55.8 ,  72.68, 133.82,  24.92,  65.95, 152.7 , 178.54,  23.38,\n",
       "       145.7 , 131.2 , 159.49, 128.06, 157.82, 112.92,  23.46,  57.02,\n",
       "       126.47,   7.  ,   7.65,  23.95,  49.19,  47.19, 146.21,  30.7 ,\n",
       "        72.1 ,  21.21,  70.73, 149.8 ,  87.8 ,  62.45, 136.41, 121.19,\n",
       "        14.65, 136.57, 147.26,  29.02,  32.75, 157.84, 143.19,  14.67,\n",
       "       108.07,  59.62, 164.05, 137.18,  43.75,  58.14,  66.3 ,  54.65,\n",
       "       175.28,  14.4 , 156.68,  18.27, 154.04, 120.44, 143.41,  67.37,\n",
       "       183.74, 119.26, 167.1 ,  13.86,  31.97, 211.78, 135.93, 104.27,\n",
       "         7.14,   8.87, 135.63,  50.64, 141.16,  86.85, 137.62, 155.72,\n",
       "       139.71,  40.91,  26.77,  22.77,  42.95,  50.75, 153.21, 172.49,\n",
       "        83.93,  85.18, 156.59,  16.84])"
      ]
     },
     "execution_count": 25,
     "metadata": {},
     "output_type": "execute_result"
    }
   ],
   "source": [
    "from sklearn.ensemble import RandomForestRegressor\n",
    "regr = RandomForestRegressor()\n",
    "regr.fit(X_train, y_train)\n",
    "RandomForestRegressor(...)\n",
    "y_pred = regr.predict(X_test)\n",
    "y_pred"
   ]
  },
  {
   "cell_type": "code",
   "execution_count": 23,
   "id": "designed-market",
   "metadata": {},
   "outputs": [
    {
     "data": {
      "text/plain": [
       "0.3318243415715928"
      ]
     },
     "execution_count": 23,
     "metadata": {},
     "output_type": "execute_result"
    }
   ],
   "source": [
    "r_sq = regr.score(X_test, y_test)\n",
    "r_sq "
   ]
  },
  {
   "cell_type": "code",
   "execution_count": null,
   "id": "powerful-outside",
   "metadata": {},
   "outputs": [],
   "source": []
  }
 ],
 "metadata": {
  "kernelspec": {
   "display_name": "Python 3",
   "language": "python",
   "name": "python3"
  },
  "language_info": {
   "codemirror_mode": {
    "name": "ipython",
    "version": 3
   },
   "file_extension": ".py",
   "mimetype": "text/x-python",
   "name": "python",
   "nbconvert_exporter": "python",
   "pygments_lexer": "ipython3",
   "version": "3.7.9"
  }
 },
 "nbformat": 4,
 "nbformat_minor": 5
}
