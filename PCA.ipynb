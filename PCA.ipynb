{
 "cells": [
  {
   "cell_type": "code",
   "execution_count": 566,
   "id": "boolean-clinic",
   "metadata": {},
   "outputs": [],
   "source": [
    "import pandas as pd\n",
    "import numpy as np\n",
    "import matplotlib.pyplot as plt\n",
    "from sklearn.preprocessing import StandardScaler\n",
    "import seaborn as sns"
   ]
  },
  {
   "cell_type": "code",
   "execution_count": 567,
   "id": "integrated-surprise",
   "metadata": {},
   "outputs": [
    {
     "data": {
      "text/plain": [
       "(20631, 16)"
      ]
     },
     "execution_count": 567,
     "metadata": {},
     "output_type": "execute_result"
    }
   ],
   "source": [
    "# load data\n",
    "data_train = pd.read_csv('data/train.csv')\n",
    "data_test = pd.read_csv('data/test.csv')\n",
    "features = ['s2', 's3', 's4', 's7', 's8', 's9', 's11', 's12', 's13', 's14', 's15',  's17',  's20', 's21','ttf','label_bnc']\n",
    "col_names = ['s2', 's3', 's4', 's7', 's8', 's9', 's11', 's12', 's13', 's14', 's15',  's17',  's20', 's21']\n",
    "data_train[features].shape"
   ]
  },
  {
   "cell_type": "code",
   "execution_count": 568,
   "id": "tough-transcript",
   "metadata": {},
   "outputs": [
    {
     "data": {
      "text/html": [
       "<div>\n",
       "<style scoped>\n",
       "    .dataframe tbody tr th:only-of-type {\n",
       "        vertical-align: middle;\n",
       "    }\n",
       "\n",
       "    .dataframe tbody tr th {\n",
       "        vertical-align: top;\n",
       "    }\n",
       "\n",
       "    .dataframe thead th {\n",
       "        text-align: right;\n",
       "    }\n",
       "</style>\n",
       "<table border=\"1\" class=\"dataframe\">\n",
       "  <thead>\n",
       "    <tr style=\"text-align: right;\">\n",
       "      <th></th>\n",
       "      <th>s2</th>\n",
       "      <th>s3</th>\n",
       "      <th>s4</th>\n",
       "      <th>s7</th>\n",
       "      <th>s8</th>\n",
       "      <th>s9</th>\n",
       "      <th>s11</th>\n",
       "      <th>s12</th>\n",
       "      <th>s13</th>\n",
       "      <th>s14</th>\n",
       "      <th>s15</th>\n",
       "      <th>s17</th>\n",
       "      <th>s20</th>\n",
       "      <th>s21</th>\n",
       "      <th>ttf</th>\n",
       "      <th>label_bnc</th>\n",
       "    </tr>\n",
       "  </thead>\n",
       "  <tbody>\n",
       "    <tr>\n",
       "      <th>0</th>\n",
       "      <td>641.82</td>\n",
       "      <td>1589.70</td>\n",
       "      <td>1400.60</td>\n",
       "      <td>554.36</td>\n",
       "      <td>2388.06</td>\n",
       "      <td>9046.19</td>\n",
       "      <td>47.47</td>\n",
       "      <td>521.66</td>\n",
       "      <td>2388.02</td>\n",
       "      <td>8138.62</td>\n",
       "      <td>8.4195</td>\n",
       "      <td>392</td>\n",
       "      <td>39.06</td>\n",
       "      <td>23.4190</td>\n",
       "      <td>191</td>\n",
       "      <td>0</td>\n",
       "    </tr>\n",
       "    <tr>\n",
       "      <th>1</th>\n",
       "      <td>642.15</td>\n",
       "      <td>1591.82</td>\n",
       "      <td>1403.14</td>\n",
       "      <td>553.75</td>\n",
       "      <td>2388.04</td>\n",
       "      <td>9044.07</td>\n",
       "      <td>47.49</td>\n",
       "      <td>522.28</td>\n",
       "      <td>2388.07</td>\n",
       "      <td>8131.49</td>\n",
       "      <td>8.4318</td>\n",
       "      <td>392</td>\n",
       "      <td>39.00</td>\n",
       "      <td>23.4236</td>\n",
       "      <td>190</td>\n",
       "      <td>0</td>\n",
       "    </tr>\n",
       "    <tr>\n",
       "      <th>2</th>\n",
       "      <td>642.35</td>\n",
       "      <td>1587.99</td>\n",
       "      <td>1404.20</td>\n",
       "      <td>554.26</td>\n",
       "      <td>2388.08</td>\n",
       "      <td>9052.94</td>\n",
       "      <td>47.27</td>\n",
       "      <td>522.42</td>\n",
       "      <td>2388.03</td>\n",
       "      <td>8133.23</td>\n",
       "      <td>8.4178</td>\n",
       "      <td>390</td>\n",
       "      <td>38.95</td>\n",
       "      <td>23.3442</td>\n",
       "      <td>189</td>\n",
       "      <td>0</td>\n",
       "    </tr>\n",
       "    <tr>\n",
       "      <th>3</th>\n",
       "      <td>642.35</td>\n",
       "      <td>1582.79</td>\n",
       "      <td>1401.87</td>\n",
       "      <td>554.45</td>\n",
       "      <td>2388.11</td>\n",
       "      <td>9049.48</td>\n",
       "      <td>47.13</td>\n",
       "      <td>522.86</td>\n",
       "      <td>2388.08</td>\n",
       "      <td>8133.83</td>\n",
       "      <td>8.3682</td>\n",
       "      <td>392</td>\n",
       "      <td>38.88</td>\n",
       "      <td>23.3739</td>\n",
       "      <td>188</td>\n",
       "      <td>0</td>\n",
       "    </tr>\n",
       "    <tr>\n",
       "      <th>4</th>\n",
       "      <td>642.37</td>\n",
       "      <td>1582.85</td>\n",
       "      <td>1406.22</td>\n",
       "      <td>554.00</td>\n",
       "      <td>2388.06</td>\n",
       "      <td>9055.15</td>\n",
       "      <td>47.28</td>\n",
       "      <td>522.19</td>\n",
       "      <td>2388.04</td>\n",
       "      <td>8133.80</td>\n",
       "      <td>8.4294</td>\n",
       "      <td>393</td>\n",
       "      <td>38.90</td>\n",
       "      <td>23.4044</td>\n",
       "      <td>187</td>\n",
       "      <td>0</td>\n",
       "    </tr>\n",
       "  </tbody>\n",
       "</table>\n",
       "</div>"
      ],
      "text/plain": [
       "       s2       s3       s4      s7       s8       s9    s11     s12      s13  \\\n",
       "0  641.82  1589.70  1400.60  554.36  2388.06  9046.19  47.47  521.66  2388.02   \n",
       "1  642.15  1591.82  1403.14  553.75  2388.04  9044.07  47.49  522.28  2388.07   \n",
       "2  642.35  1587.99  1404.20  554.26  2388.08  9052.94  47.27  522.42  2388.03   \n",
       "3  642.35  1582.79  1401.87  554.45  2388.11  9049.48  47.13  522.86  2388.08   \n",
       "4  642.37  1582.85  1406.22  554.00  2388.06  9055.15  47.28  522.19  2388.04   \n",
       "\n",
       "       s14     s15  s17    s20      s21  ttf  label_bnc  \n",
       "0  8138.62  8.4195  392  39.06  23.4190  191          0  \n",
       "1  8131.49  8.4318  392  39.00  23.4236  190          0  \n",
       "2  8133.23  8.4178  390  38.95  23.3442  189          0  \n",
       "3  8133.83  8.3682  392  38.88  23.3739  188          0  \n",
       "4  8133.80  8.4294  393  38.90  23.4044  187          0  "
      ]
     },
     "execution_count": 568,
     "metadata": {},
     "output_type": "execute_result"
    }
   ],
   "source": [
    "data_train[features].head()"
   ]
  },
  {
   "cell_type": "code",
   "execution_count": 569,
   "id": "vocal-standing",
   "metadata": {},
   "outputs": [
    {
     "data": {
      "text/html": [
       "<div>\n",
       "<style scoped>\n",
       "    .dataframe tbody tr th:only-of-type {\n",
       "        vertical-align: middle;\n",
       "    }\n",
       "\n",
       "    .dataframe tbody tr th {\n",
       "        vertical-align: top;\n",
       "    }\n",
       "\n",
       "    .dataframe thead th {\n",
       "        text-align: right;\n",
       "    }\n",
       "</style>\n",
       "<table border=\"1\" class=\"dataframe\">\n",
       "  <thead>\n",
       "    <tr style=\"text-align: right;\">\n",
       "      <th></th>\n",
       "      <th>s2</th>\n",
       "      <th>s3</th>\n",
       "      <th>s4</th>\n",
       "      <th>s7</th>\n",
       "      <th>s8</th>\n",
       "      <th>s9</th>\n",
       "      <th>s11</th>\n",
       "      <th>s12</th>\n",
       "      <th>s13</th>\n",
       "      <th>s14</th>\n",
       "      <th>s15</th>\n",
       "      <th>s17</th>\n",
       "      <th>s20</th>\n",
       "      <th>s21</th>\n",
       "      <th>ttf</th>\n",
       "      <th>label_bnc</th>\n",
       "    </tr>\n",
       "  </thead>\n",
       "  <tbody>\n",
       "    <tr>\n",
       "      <th>count</th>\n",
       "      <td>20631.000000</td>\n",
       "      <td>20631.000000</td>\n",
       "      <td>20631.000000</td>\n",
       "      <td>20631.000000</td>\n",
       "      <td>20631.000000</td>\n",
       "      <td>20631.000000</td>\n",
       "      <td>20631.000000</td>\n",
       "      <td>20631.000000</td>\n",
       "      <td>20631.000000</td>\n",
       "      <td>20631.000000</td>\n",
       "      <td>20631.000000</td>\n",
       "      <td>20631.000000</td>\n",
       "      <td>20631.000000</td>\n",
       "      <td>20631.000000</td>\n",
       "      <td>20631.000000</td>\n",
       "      <td>20631.000000</td>\n",
       "    </tr>\n",
       "    <tr>\n",
       "      <th>mean</th>\n",
       "      <td>642.680934</td>\n",
       "      <td>1590.523119</td>\n",
       "      <td>1408.933782</td>\n",
       "      <td>553.367711</td>\n",
       "      <td>2388.096652</td>\n",
       "      <td>9065.242941</td>\n",
       "      <td>47.541168</td>\n",
       "      <td>521.413470</td>\n",
       "      <td>2388.096152</td>\n",
       "      <td>8143.752722</td>\n",
       "      <td>8.442146</td>\n",
       "      <td>393.210654</td>\n",
       "      <td>38.816271</td>\n",
       "      <td>23.289705</td>\n",
       "      <td>107.807862</td>\n",
       "      <td>0.150259</td>\n",
       "    </tr>\n",
       "    <tr>\n",
       "      <th>std</th>\n",
       "      <td>0.500053</td>\n",
       "      <td>6.131150</td>\n",
       "      <td>9.000605</td>\n",
       "      <td>0.885092</td>\n",
       "      <td>0.070985</td>\n",
       "      <td>22.082880</td>\n",
       "      <td>0.267087</td>\n",
       "      <td>0.737553</td>\n",
       "      <td>0.071919</td>\n",
       "      <td>19.076176</td>\n",
       "      <td>0.037505</td>\n",
       "      <td>1.548763</td>\n",
       "      <td>0.180746</td>\n",
       "      <td>0.108251</td>\n",
       "      <td>68.880990</td>\n",
       "      <td>0.357334</td>\n",
       "    </tr>\n",
       "    <tr>\n",
       "      <th>min</th>\n",
       "      <td>641.210000</td>\n",
       "      <td>1571.040000</td>\n",
       "      <td>1382.250000</td>\n",
       "      <td>549.850000</td>\n",
       "      <td>2387.900000</td>\n",
       "      <td>9021.730000</td>\n",
       "      <td>46.850000</td>\n",
       "      <td>518.690000</td>\n",
       "      <td>2387.880000</td>\n",
       "      <td>8099.940000</td>\n",
       "      <td>8.324900</td>\n",
       "      <td>388.000000</td>\n",
       "      <td>38.140000</td>\n",
       "      <td>22.894200</td>\n",
       "      <td>0.000000</td>\n",
       "      <td>0.000000</td>\n",
       "    </tr>\n",
       "    <tr>\n",
       "      <th>25%</th>\n",
       "      <td>642.325000</td>\n",
       "      <td>1586.260000</td>\n",
       "      <td>1402.360000</td>\n",
       "      <td>552.810000</td>\n",
       "      <td>2388.050000</td>\n",
       "      <td>9053.100000</td>\n",
       "      <td>47.350000</td>\n",
       "      <td>520.960000</td>\n",
       "      <td>2388.040000</td>\n",
       "      <td>8133.245000</td>\n",
       "      <td>8.414900</td>\n",
       "      <td>392.000000</td>\n",
       "      <td>38.700000</td>\n",
       "      <td>23.221800</td>\n",
       "      <td>51.000000</td>\n",
       "      <td>0.000000</td>\n",
       "    </tr>\n",
       "    <tr>\n",
       "      <th>50%</th>\n",
       "      <td>642.640000</td>\n",
       "      <td>1590.100000</td>\n",
       "      <td>1408.040000</td>\n",
       "      <td>553.440000</td>\n",
       "      <td>2388.090000</td>\n",
       "      <td>9060.660000</td>\n",
       "      <td>47.510000</td>\n",
       "      <td>521.480000</td>\n",
       "      <td>2388.090000</td>\n",
       "      <td>8140.540000</td>\n",
       "      <td>8.438900</td>\n",
       "      <td>393.000000</td>\n",
       "      <td>38.830000</td>\n",
       "      <td>23.297900</td>\n",
       "      <td>103.000000</td>\n",
       "      <td>0.000000</td>\n",
       "    </tr>\n",
       "    <tr>\n",
       "      <th>75%</th>\n",
       "      <td>643.000000</td>\n",
       "      <td>1594.380000</td>\n",
       "      <td>1414.555000</td>\n",
       "      <td>554.010000</td>\n",
       "      <td>2388.140000</td>\n",
       "      <td>9069.420000</td>\n",
       "      <td>47.700000</td>\n",
       "      <td>521.950000</td>\n",
       "      <td>2388.140000</td>\n",
       "      <td>8148.310000</td>\n",
       "      <td>8.465600</td>\n",
       "      <td>394.000000</td>\n",
       "      <td>38.950000</td>\n",
       "      <td>23.366800</td>\n",
       "      <td>155.000000</td>\n",
       "      <td>0.000000</td>\n",
       "    </tr>\n",
       "    <tr>\n",
       "      <th>max</th>\n",
       "      <td>644.530000</td>\n",
       "      <td>1616.910000</td>\n",
       "      <td>1441.490000</td>\n",
       "      <td>556.060000</td>\n",
       "      <td>2388.560000</td>\n",
       "      <td>9244.590000</td>\n",
       "      <td>48.530000</td>\n",
       "      <td>523.380000</td>\n",
       "      <td>2388.560000</td>\n",
       "      <td>8293.720000</td>\n",
       "      <td>8.584800</td>\n",
       "      <td>400.000000</td>\n",
       "      <td>39.430000</td>\n",
       "      <td>23.618400</td>\n",
       "      <td>361.000000</td>\n",
       "      <td>1.000000</td>\n",
       "    </tr>\n",
       "  </tbody>\n",
       "</table>\n",
       "</div>"
      ],
      "text/plain": [
       "                 s2            s3            s4            s7            s8  \\\n",
       "count  20631.000000  20631.000000  20631.000000  20631.000000  20631.000000   \n",
       "mean     642.680934   1590.523119   1408.933782    553.367711   2388.096652   \n",
       "std        0.500053      6.131150      9.000605      0.885092      0.070985   \n",
       "min      641.210000   1571.040000   1382.250000    549.850000   2387.900000   \n",
       "25%      642.325000   1586.260000   1402.360000    552.810000   2388.050000   \n",
       "50%      642.640000   1590.100000   1408.040000    553.440000   2388.090000   \n",
       "75%      643.000000   1594.380000   1414.555000    554.010000   2388.140000   \n",
       "max      644.530000   1616.910000   1441.490000    556.060000   2388.560000   \n",
       "\n",
       "                 s9           s11           s12           s13           s14  \\\n",
       "count  20631.000000  20631.000000  20631.000000  20631.000000  20631.000000   \n",
       "mean    9065.242941     47.541168    521.413470   2388.096152   8143.752722   \n",
       "std       22.082880      0.267087      0.737553      0.071919     19.076176   \n",
       "min     9021.730000     46.850000    518.690000   2387.880000   8099.940000   \n",
       "25%     9053.100000     47.350000    520.960000   2388.040000   8133.245000   \n",
       "50%     9060.660000     47.510000    521.480000   2388.090000   8140.540000   \n",
       "75%     9069.420000     47.700000    521.950000   2388.140000   8148.310000   \n",
       "max     9244.590000     48.530000    523.380000   2388.560000   8293.720000   \n",
       "\n",
       "                s15           s17           s20           s21           ttf  \\\n",
       "count  20631.000000  20631.000000  20631.000000  20631.000000  20631.000000   \n",
       "mean       8.442146    393.210654     38.816271     23.289705    107.807862   \n",
       "std        0.037505      1.548763      0.180746      0.108251     68.880990   \n",
       "min        8.324900    388.000000     38.140000     22.894200      0.000000   \n",
       "25%        8.414900    392.000000     38.700000     23.221800     51.000000   \n",
       "50%        8.438900    393.000000     38.830000     23.297900    103.000000   \n",
       "75%        8.465600    394.000000     38.950000     23.366800    155.000000   \n",
       "max        8.584800    400.000000     39.430000     23.618400    361.000000   \n",
       "\n",
       "          label_bnc  \n",
       "count  20631.000000  \n",
       "mean       0.150259  \n",
       "std        0.357334  \n",
       "min        0.000000  \n",
       "25%        0.000000  \n",
       "50%        0.000000  \n",
       "75%        0.000000  \n",
       "max        1.000000  "
      ]
     },
     "execution_count": 569,
     "metadata": {},
     "output_type": "execute_result"
    }
   ],
   "source": [
    "data_train[features].describe()"
   ]
  },
  {
   "cell_type": "code",
   "execution_count": 570,
   "id": "hundred-velvet",
   "metadata": {},
   "outputs": [
    {
     "name": "stdout",
     "output_type": "stream",
     "text": [
      "<class 'pandas.core.frame.DataFrame'>\n",
      "RangeIndex: 20631 entries, 0 to 20630\n",
      "Data columns (total 16 columns):\n",
      " #   Column     Non-Null Count  Dtype  \n",
      "---  ------     --------------  -----  \n",
      " 0   s2         20631 non-null  float64\n",
      " 1   s3         20631 non-null  float64\n",
      " 2   s4         20631 non-null  float64\n",
      " 3   s7         20631 non-null  float64\n",
      " 4   s8         20631 non-null  float64\n",
      " 5   s9         20631 non-null  float64\n",
      " 6   s11        20631 non-null  float64\n",
      " 7   s12        20631 non-null  float64\n",
      " 8   s13        20631 non-null  float64\n",
      " 9   s14        20631 non-null  float64\n",
      " 10  s15        20631 non-null  float64\n",
      " 11  s17        20631 non-null  int64  \n",
      " 12  s20        20631 non-null  float64\n",
      " 13  s21        20631 non-null  float64\n",
      " 14  ttf        20631 non-null  int64  \n",
      " 15  label_bnc  20631 non-null  int64  \n",
      "dtypes: float64(13), int64(3)\n",
      "memory usage: 2.5 MB\n"
     ]
    }
   ],
   "source": [
    "data_train[features].info()"
   ]
  },
  {
   "cell_type": "code",
   "execution_count": 571,
   "id": "respected-closing",
   "metadata": {},
   "outputs": [
    {
     "data": {
      "text/plain": [
       "<AxesSubplot:>"
      ]
     },
     "execution_count": 571,
     "metadata": {},
     "output_type": "execute_result"
    },
    {
     "data": {
      "image/png": "[encoded data removed]",
      "text/plain": [
       "<Figure size 432x288 with 1 Axes>"
      ]
     },
     "metadata": {
      "needs_background": "light"
     },
     "output_type": "display_data"
    }
   ],
   "source": [
    "# xem dữ liệu thiếu khuyết\n",
    "%matplotlib inline\n",
    "sns.heatmap(data=data_train[features].isnull(), yticklabels=False, cbar =False, cmap = 'viridis')"
   ]
  },
  {
   "cell_type": "code",
   "execution_count": 572,
   "id": "surface-procedure",
   "metadata": {},
   "outputs": [],
   "source": [
    "# gán feature\n",
    "X_train =data_train[col_names]\n",
    "y_train = data_train['ttf']\n",
    "X_test = data_test[col_names]\n",
    "y_test = data_test['ttf']"
   ]
  },
  {
   "cell_type": "markdown",
   "id": "spanish-utilization",
   "metadata": {},
   "source": [
    "## PCA"
   ]
  },
  {
   "cell_type": "code",
   "execution_count": 573,
   "id": "reduced-interview",
   "metadata": {},
   "outputs": [],
   "source": [
    "#chuẩn hóa\n",
    "sc = StandardScaler()\n",
    "X_train_std = sc.fit_transform(X_train)\n",
    "X_test_std = sc.transform(X_test)"
   ]
  },
  {
   "cell_type": "code",
   "execution_count": 574,
   "id": "clear-complaint",
   "metadata": {},
   "outputs": [
    {
     "name": "stdout",
     "output_type": "stream",
     "text": [
      "\n",
      "Eigenvalues \n",
      "[8.99551452 2.09603806 0.02927525 0.41411665 0.36830335 0.34838968\n",
      " 0.30613816 0.28987223 0.25542195 0.14620716 0.17257113 0.17659941\n",
      " 0.20620109 0.19602997]\n"
     ]
    }
   ],
   "source": [
    "#tính hiệp phương sai và giá trị riêng\n",
    "cov_mat = np.cov(X_train_std.T)\n",
    "eigen_vals, eigen_vecs = np.linalg.eig(cov_mat)\n",
    "print('\\nEigenvalues \\n%s' % eigen_vals)"
   ]
  },
  {
   "cell_type": "code",
   "execution_count": 575,
   "id": "nuclear-greece",
   "metadata": {},
   "outputs": [
    {
     "data": {
      "image/png": "[encoded data removed]",
      "text/plain": [
       "<Figure size 432x288 with 1 Axes>"
      ]
     },
     "metadata": {
      "needs_background": "light"
     },
     "output_type": "display_data"
    }
   ],
   "source": [
    "#vẽ biểu đồ hiện thị tỉ lệ phương sai\n",
    "tot = np.sum(eigen_vals)\n",
    "var_exp = [(i / tot) for i in sorted(eigen_vals, reverse=True)]\n",
    "cum_var_exp = np.cumsum(var_exp)\n",
    "\n",
    "plt.bar(range(0,14), var_exp, alpha=0.5, align='center',\n",
    "label='Individual explained variance')\n",
    "plt.step(range(0,14), cum_var_exp, where='mid',\n",
    "label='Cumulative explained variance')\n",
    "plt.ylabel('Explained variance ratio')\n",
    "plt.xlabel('Principal component index')\n",
    "plt.legend(loc='best')\n",
    "plt.tight_layout()\n",
    "plt.show()"
   ]
  },
  {
   "cell_type": "code",
   "execution_count": 576,
   "id": "willing-institute",
   "metadata": {},
   "outputs": [],
   "source": [
    "# Lập danh sách các bộ giá trị\n",
    "eigen_pairs = [(np.abs(eigen_vals[i]), eigen_vecs[:, i]) for i in range(len(eigen_vals))]\n",
    "# Sắp xếp các bộ giá trị từ cao đến thấp\n",
    "eigen_pairs.sort(key=lambda k: k[0], reverse=True)"
   ]
  },
  {
   "cell_type": "code",
   "execution_count": 577,
   "id": "asian-bunny",
   "metadata": {},
   "outputs": [
    {
     "name": "stdout",
     "output_type": "stream",
     "text": [
      "Matrix U:\n",
      " [[-0.27331249 -0.01725161]\n",
      " [-0.26022579 -0.07625471]\n",
      " [-0.30118    -0.00943805]\n",
      " [ 0.29838831 -0.05261376]\n",
      " [-0.28172107  0.24449708]\n",
      " [-0.10586015 -0.64377681]\n",
      " [-0.30927369  0.01608717]\n",
      " [ 0.30441909 -0.06315447]\n",
      " [-0.28133996  0.24628416]\n",
      " [-0.06640968 -0.66683749]\n",
      " [-0.28706708 -0.02076207]\n",
      " [-0.26928992 -0.07724396]\n",
      " [ 0.28276361  0.01803297]\n",
      " [ 0.28372745  0.02246382]]\n"
     ]
    }
   ],
   "source": [
    "U = np.hstack((eigen_pairs[0][1][:, np.newaxis], eigen_pairs[1][1][:, np.newaxis]))\n",
    "print('Matrix U:\\n', U)"
   ]
  },
  {
   "cell_type": "code",
   "execution_count": 578,
   "id": "tropical-sacramento",
   "metadata": {},
   "outputs": [
    {
     "name": "stdout",
     "output_type": "stream",
     "text": [
      "(20631, 14) (20631, 2)\n"
     ]
    }
   ],
   "source": [
    "X_train_pca = X_train_std.dot(U)\n",
    "print(X_train_std.shape, X_train_pca.shape)"
   ]
  },
  {
   "cell_type": "markdown",
   "id": "documented-distinction",
   "metadata": {},
   "source": [
    "## dự đoán"
   ]
  },
  {
   "cell_type": "code",
   "execution_count": 579,
   "id": "metropolitan-jacob",
   "metadata": {},
   "outputs": [
    {
     "data": {
      "text/plain": [
       "LinearRegression()"
      ]
     },
     "execution_count": 579,
     "metadata": {},
     "output_type": "execute_result"
    }
   ],
   "source": [
    "from sklearn.linear_model import LinearRegression\n",
    "from sklearn.decomposition import PCA\n",
    "pca = PCA(n_components=6)\n",
    "regression = LinearRegression()\n",
    "# giảm chiều dữ liệu\n",
    "X_train_pca = pca.fit_transform(X_train_std)\n",
    "X_test_pca = pca.transform(X_test_std)\n",
    "# fitting the model\n",
    "regression.fit(X_train_pca, y_train)"
   ]
  },
  {
   "cell_type": "code",
   "execution_count": 580,
   "id": "official-classic",
   "metadata": {},
   "outputs": [
    {
     "data": {
      "text/plain": [
       "array([-17.02423881,  -7.83074978,   1.36609107,   1.39576368,\n",
       "         2.18495224,  -0.81504365])"
      ]
     },
     "execution_count": 580,
     "metadata": {},
     "output_type": "execute_result"
    }
   ],
   "source": [
    "w1 = regression.coef_\n",
    "w1"
   ]
  },
  {
   "cell_type": "code",
   "execution_count": 581,
   "id": "suited-thanks",
   "metadata": {},
   "outputs": [
    {
     "data": {
      "text/plain": [
       "107.80786195530996"
      ]
     },
     "execution_count": 581,
     "metadata": {},
     "output_type": "execute_result"
    }
   ],
   "source": [
    "w0 =  regression.intercept_ \n",
    "w0"
   ]
  },
  {
   "cell_type": "code",
   "execution_count": 582,
   "id": "dominican-positive",
   "metadata": {},
   "outputs": [
    {
     "data": {
      "text/plain": [
       "array([153.94139014, 124.66715729,  93.43095237,  92.6125707 ,\n",
       "       115.17983137, 118.65004341, 129.24855257,  96.85024107,\n",
       "       113.74514087, 116.24818979,  98.23286677, 110.51688978,\n",
       "       101.93067504, 114.46955702, 159.15400288, 133.84735171,\n",
       "        81.90778655,  78.88837094, 120.27890712,  23.24994927,\n",
       "       118.16722265, 141.15199596, 151.58458871,  30.77435829,\n",
       "       137.70069463, 145.49509747, 126.31999878, 109.82879596,\n",
       "       120.94532308,  98.43907191,   9.83091302, 102.0375811 ,\n",
       "       109.61364483,  12.32118962,   2.32103324,  38.55084503,\n",
       "        80.7037274 ,  69.10685732, 155.65906484,  37.06989306,\n",
       "        91.73241206,  37.7679455 ,  79.94698063, 120.41705484,\n",
       "        80.30926551,  66.91677309, 120.56331515, 117.87671835,\n",
       "        22.60000926, 126.98674649, 118.0002292 ,  43.05638844,\n",
       "        44.85647619, 170.09031715, 141.88070192,  39.33165319,\n",
       "       106.16623781,  62.0283918 , 165.20785954, 116.29116824,\n",
       "        50.65325697,  86.66401511,  83.97383176,  63.1510142 ,\n",
       "       168.42661754,   0.81231812, 138.87682455,  16.24312712,\n",
       "       126.88585321, 109.61105121, 139.2980517 , 100.67932758,\n",
       "       157.03156046, 102.98885849, 149.84675553,  -9.12321304,\n",
       "        62.79608084, 183.64281798, 116.62079308,  95.50911578,\n",
       "         2.01695477,  15.05929075, 124.58009834,  71.72542727,\n",
       "       126.36776356, 106.642659  , 149.08224556, 129.11877225,\n",
       "       107.98864913,  47.01669141,  53.68829509,  35.7944858 ,\n",
       "        62.11049781,  73.81750991, 143.78622413, 164.61237548,\n",
       "       103.61628195, 100.05668292, 162.3394659 ,   4.63947954])"
      ]
     },
     "execution_count": 582,
     "metadata": {},
     "output_type": "execute_result"
    }
   ],
   "source": [
    "y_pred = regression.predict(X_test_pca)\n",
    "y_pred"
   ]
  },
  {
   "cell_type": "code",
   "execution_count": 583,
   "id": "outside-horizon",
   "metadata": {},
   "outputs": [
    {
     "name": "stdout",
     "output_type": "stream",
     "text": [
      "Accuracy on train set: 57.7 %\n",
      "Accuracy on test set: 44.5 %\n"
     ]
    }
   ],
   "source": [
    "# R bình % của dự đoán\n",
    "train_acc = regression.score(X=X_train_pca, y=y_train)\n",
    "test_acc = regression.score(X_test_pca, y_test)\n",
    "print(\"Accuracy on train set:\", round(train_acc*100,1), '%')\n",
    "print(\"Accuracy on test set:\", round(test_acc*100,1), '%')"
   ]
  },
  {
   "cell_type": "code",
   "execution_count": 584,
   "id": "union-exhibit",
   "metadata": {},
   "outputs": [
    {
     "data": {
      "text/html": [
       "<div>\n",
       "<style scoped>\n",
       "    .dataframe tbody tr th:only-of-type {\n",
       "        vertical-align: middle;\n",
       "    }\n",
       "\n",
       "    .dataframe tbody tr th {\n",
       "        vertical-align: top;\n",
       "    }\n",
       "\n",
       "    .dataframe thead th {\n",
       "        text-align: right;\n",
       "    }\n",
       "</style>\n",
       "<table border=\"1\" class=\"dataframe\">\n",
       "  <thead>\n",
       "    <tr style=\"text-align: right;\">\n",
       "      <th></th>\n",
       "      <th>thực</th>\n",
       "      <th>dự đoán</th>\n",
       "    </tr>\n",
       "  </thead>\n",
       "  <tbody>\n",
       "    <tr>\n",
       "      <th>0</th>\n",
       "      <td>112</td>\n",
       "      <td>153.941390</td>\n",
       "    </tr>\n",
       "    <tr>\n",
       "      <th>1</th>\n",
       "      <td>98</td>\n",
       "      <td>124.667157</td>\n",
       "    </tr>\n",
       "    <tr>\n",
       "      <th>2</th>\n",
       "      <td>69</td>\n",
       "      <td>93.430952</td>\n",
       "    </tr>\n",
       "    <tr>\n",
       "      <th>3</th>\n",
       "      <td>82</td>\n",
       "      <td>92.612571</td>\n",
       "    </tr>\n",
       "    <tr>\n",
       "      <th>4</th>\n",
       "      <td>91</td>\n",
       "      <td>115.179831</td>\n",
       "    </tr>\n",
       "  </tbody>\n",
       "</table>\n",
       "</div>"
      ],
      "text/plain": [
       "   thực     dự đoán\n",
       "0   112  153.941390\n",
       "1    98  124.667157\n",
       "2    69   93.430952\n",
       "3    82   92.612571\n",
       "4    91  115.179831"
      ]
     },
     "execution_count": 584,
     "metadata": {},
     "output_type": "execute_result"
    }
   ],
   "source": [
    "df2 = pd.DataFrame({'thực': y_test, 'dự đoán': y_pred})\n",
    "df2.head()"
   ]
  },
  {
   "cell_type": "markdown",
   "id": "lined-force",
   "metadata": {},
   "source": [
    "## phân loại"
   ]
  },
  {
   "cell_type": "code",
   "execution_count": 585,
   "id": "hourly-religious",
   "metadata": {},
   "outputs": [],
   "source": [
    "y1_train = data_train['label_bnc']\n",
    "y1_test = data_test['label_bnc']"
   ]
  },
  {
   "cell_type": "code",
   "execution_count": 586,
   "id": "entertaining-buyer",
   "metadata": {},
   "outputs": [
    {
     "data": {
      "text/plain": [
       "LogisticRegression()"
      ]
     },
     "execution_count": 586,
     "metadata": {},
     "output_type": "execute_result"
    }
   ],
   "source": [
    "from sklearn.linear_model import LogisticRegression\n",
    "lrClass = LogisticRegression()\n",
    "lrClass.fit(X_train_pca,y1_train)"
   ]
  },
  {
   "cell_type": "code",
   "execution_count": 587,
   "id": "indirect-paper",
   "metadata": {},
   "outputs": [
    {
     "data": {
      "text/plain": [
       "array([[ 1.68492831,  0.48169538, -0.23038382, -0.16809135, -0.23207343,\n",
       "         0.06591215]])"
      ]
     },
     "execution_count": 587,
     "metadata": {},
     "output_type": "execute_result"
    }
   ],
   "source": [
    "ww1 = lrClass.coef_\n",
    "ww1"
   ]
  },
  {
   "cell_type": "code",
   "execution_count": 588,
   "id": "combined-mustang",
   "metadata": {},
   "outputs": [
    {
     "data": {
      "text/plain": [
       "array([-5.87195337])"
      ]
     },
     "execution_count": 588,
     "metadata": {},
     "output_type": "execute_result"
    }
   ],
   "source": [
    "ww0 = lrClass.intercept_ \n",
    "ww0"
   ]
  },
  {
   "cell_type": "code",
   "execution_count": 589,
   "id": "expected-conditions",
   "metadata": {},
   "outputs": [
    {
     "data": {
      "text/plain": [
       "array([0, 0, 0, 0, 0, 0, 0, 0, 0, 0, 0, 0, 0, 0, 0, 0, 0, 0, 0, 1, 0, 0,\n",
       "       0, 1, 0, 0, 0, 0, 0, 0, 1, 0, 0, 1, 1, 1, 0, 0, 0, 1, 0, 1, 0, 0,\n",
       "       0, 0, 0, 0, 1, 0, 0, 0, 0, 0, 0, 1, 0, 0, 0, 0, 0, 0, 0, 0, 0, 1,\n",
       "       0, 1, 0, 0, 0, 0, 0, 0, 0, 1, 0, 0, 0, 0, 1, 1, 0, 0, 0, 0, 0, 0,\n",
       "       0, 1, 0, 1, 0, 0, 0, 0, 0, 0, 0, 1], dtype=int64)"
      ]
     },
     "execution_count": 589,
     "metadata": {},
     "output_type": "execute_result"
    }
   ],
   "source": [
    "y1_pred = lrClass.predict(X_test_pca)\n",
    "y1_pred"
   ]
  },
  {
   "cell_type": "code",
   "execution_count": 590,
   "id": "piano-thursday",
   "metadata": {},
   "outputs": [
    {
     "data": {
      "text/html": [
       "<div>\n",
       "<style scoped>\n",
       "    .dataframe tbody tr th:only-of-type {\n",
       "        vertical-align: middle;\n",
       "    }\n",
       "\n",
       "    .dataframe tbody tr th {\n",
       "        vertical-align: top;\n",
       "    }\n",
       "\n",
       "    .dataframe thead th {\n",
       "        text-align: right;\n",
       "    }\n",
       "</style>\n",
       "<table border=\"1\" class=\"dataframe\">\n",
       "  <thead>\n",
       "    <tr style=\"text-align: right;\">\n",
       "      <th></th>\n",
       "      <th>thực</th>\n",
       "      <th>dự đoán</th>\n",
       "    </tr>\n",
       "  </thead>\n",
       "  <tbody>\n",
       "    <tr>\n",
       "      <th>0</th>\n",
       "      <td>0</td>\n",
       "      <td>0</td>\n",
       "    </tr>\n",
       "    <tr>\n",
       "      <th>1</th>\n",
       "      <td>0</td>\n",
       "      <td>0</td>\n",
       "    </tr>\n",
       "    <tr>\n",
       "      <th>2</th>\n",
       "      <td>0</td>\n",
       "      <td>0</td>\n",
       "    </tr>\n",
       "    <tr>\n",
       "      <th>3</th>\n",
       "      <td>0</td>\n",
       "      <td>0</td>\n",
       "    </tr>\n",
       "    <tr>\n",
       "      <th>4</th>\n",
       "      <td>0</td>\n",
       "      <td>0</td>\n",
       "    </tr>\n",
       "  </tbody>\n",
       "</table>\n",
       "</div>"
      ],
      "text/plain": [
       "   thực  dự đoán\n",
       "0     0        0\n",
       "1     0        0\n",
       "2     0        0\n",
       "3     0        0\n",
       "4     0        0"
      ]
     },
     "execution_count": 590,
     "metadata": {},
     "output_type": "execute_result"
    }
   ],
   "source": [
    "df2 = pd.DataFrame({'thực': y1_test, 'dự đoán': y1_pred})\n",
    "df2.head(5)"
   ]
  },
  {
   "cell_type": "code",
   "execution_count": 591,
   "id": "seventh-springer",
   "metadata": {},
   "outputs": [
    {
     "name": "stdout",
     "output_type": "stream",
     "text": [
      "Accuracy on train set: 95.8 %\n",
      "Accuracy on test set: 93.0 %\n"
     ]
    }
   ],
   "source": [
    "train_acc = lrClass.score(X=X_train_pca, y=y1_train)\n",
    "test_acc = lrClass.score(X_test_pca, y1_test)\n",
    "print(\"Accuracy on train set:\", round(train_acc*100,1), '%')\n",
    "print(\"Accuracy on test set:\", round(test_acc*100,1), '%')"
   ]
  },
  {
   "cell_type": "code",
   "execution_count": null,
   "id": "corrected-reservation",
   "metadata": {},
   "outputs": [],
   "source": []
  }
 ],
 "metadata": {
  "kernelspec": {
   "display_name": "Python 3",
   "language": "python",
   "name": "python3"
  },
  "language_info": {
   "codemirror_mode": {
    "name": "ipython",
    "version": 3
   },
   "file_extension": ".py",
   "mimetype": "text/x-python",
   "name": "python",
   "nbconvert_exporter": "python",
   "pygments_lexer": "ipython3",
   "version": "3.7.9"
  }
 },
 "nbformat": 4,
 "nbformat_minor": 5
}
