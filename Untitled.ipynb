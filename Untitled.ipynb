{
 "cells": [
  {
   "cell_type": "code",
   "execution_count": 2,
   "id": "solid-solution",
   "metadata": {},
   "outputs": [],
   "source": [
    "import pandas as pd\n",
    "import numpy as np\n",
    "import matplotlib.pyplot as plt\n",
    "import seaborn as sns\n",
    "import os\n",
    "features = ['id','cycle','setting1','setting2','setting3','s1','s2', \n",
    "            's3', 's4','s5', 's6',  's7', 's8', 's9','s10', \n",
    "            's11', 's12', 's13', 's14', 's15',  's16',\n",
    "            's17', 's18', 's19',  's20', 's21']\n",
    "datatrain = pd.read_csv('data/train.csv')\n",
    "\n",
    "RUL = datatest['ttf']"
   ]
  },
  {
   "cell_type": "code",
   "execution_count": 8,
   "id": "supreme-premiere",
   "metadata": {},
   "outputs": [],
   "source": [
    "col_names = ['id','cycle','setting1','setting2','s2', 's3', 's4', 's6',  's7', 's8', 's9',\n",
    "            's11', 's12', 's13', 's14', 's15',  's17',   's20', 's21']\n",
    "data_train = datatrain[col_names]\n",
    "\n",
    "\n",
    "data_train.columns = col_names\n"
   ]
  },
  {
   "cell_type": "code",
   "execution_count": 9,
   "id": "hybrid-chest",
   "metadata": {},
   "outputs": [],
   "source": [
    "data_train = pd.merge(data_train, data_train.groupby('id', as_index=False)['cycle'].max(), how='left', on='id')\n"
   ]
  },
  {
   "cell_type": "code",
   "execution_count": 10,
   "id": "liable-beauty",
   "metadata": {},
   "outputs": [],
   "source": [
    "data_train.rename(columns={\"cycles_x\": \"cycle\", \"cycles_y\": \"maxcycles\"}, inplace=True)"
   ]
  },
  {
   "cell_type": "code",
   "execution_count": 11,
   "id": "characteristic-football",
   "metadata": {},
   "outputs": [],
   "source": [
    "data_train['TTF'] = data_train['cycle_y'] - data_train['cycle_x']"
   ]
  },
  {
   "cell_type": "code",
   "execution_count": 12,
   "id": "seasonal-electric",
   "metadata": {},
   "outputs": [],
   "source": [
    "from sklearn.preprocessing import MinMaxScaler\n",
    "scaler = MinMaxScaler()"
   ]
  },
  {
   "cell_type": "code",
   "execution_count": 13,
   "id": "favorite-needle",
   "metadata": {},
   "outputs": [],
   "source": [
    "ntrain = data_train.copy()"
   ]
  },
  {
   "cell_type": "code",
   "execution_count": 14,
   "id": "french-moses",
   "metadata": {},
   "outputs": [],
   "source": [
    "ntrain.iloc[:,2:19] = scaler.fit_transform(ntrain.iloc[:,2:19])"
   ]
  },
  {
   "cell_type": "code",
   "execution_count": 15,
   "id": "strange-attribute",
   "metadata": {},
   "outputs": [],
   "source": [
    "def fractionTTF(dat,q):\n",
    "    return(dat.TTF[q]-dat.TTF.min()) / float(dat.TTF.max()-dat.TTF.min())"
   ]
  },
  {
   "cell_type": "code",
   "execution_count": 16,
   "id": "shaped-military",
   "metadata": {},
   "outputs": [],
   "source": [
    "fTTFz = []\n",
    "fTTF = []\n",
    "\n",
    "for i in range(data_train['id'].min(),data_train['id'].max()+1):\n",
    "    dat=data_train[data_train.id==i]\n",
    "    dat = dat.reset_index(drop=True)\n",
    "    for q in range(len(dat)):\n",
    "        fTTFz = fractionTTF(dat, q)\n",
    "        fTTF.append(fTTFz)\n",
    "ntrain['fTTF'] = fTTF"
   ]
  },
  {
   "cell_type": "code",
   "execution_count": 17,
   "id": "juvenile-blend",
   "metadata": {},
   "outputs": [],
   "source": [
    "col_names_train = ['cycle_x','s2', 's3', 's4',   's7', 's8', 's9',\n",
    "            's11', 's12', 's13',  's15',  's17',   's20', 's21']"
   ]
  },
  {
   "cell_type": "code",
   "execution_count": 26,
   "id": "consolidated-drinking",
   "metadata": {},
   "outputs": [],
   "source": [
    "from sklearn.model_selection import train_test_split\n",
    "# create train/test datasets\n",
    "X_train, X_test, Y_train, Y_test = \\\n",
    "train_test_split(\n",
    "    ntrain[col_names_train], ntrain.fTTF,\n",
    "    test_size=0.2,\n",
    "    random_state=5\n",
    ")"
   ]
  },
  {
   "cell_type": "code",
   "execution_count": 28,
   "id": "grand-gilbert",
   "metadata": {},
   "outputs": [
    {
     "data": {
      "text/plain": [
       "array([ 0.58820983, -0.03279982,  0.29960232, ...,  0.78409618,\n",
       "        0.61443977,  0.61554797])"
      ]
     },
     "execution_count": 28,
     "metadata": {},
     "output_type": "execute_result"
    }
   ],
   "source": [
    "from sklearn.linear_model import LinearRegression\n",
    "regression = LinearRegression()\n",
    "regression.fit(X_train, Y_train)\n",
    "y_pred = regression.predict(X_test)\n",
    "y_pred"
   ]
  },
  {
   "cell_type": "code",
   "execution_count": 29,
   "id": "greatest-psychiatry",
   "metadata": {},
   "outputs": [
    {
     "name": "stdout",
     "output_type": "stream",
     "text": [
      "-0.41711344745952106 0.9701150211232815\n"
     ]
    }
   ],
   "source": [
    "print(y_pred.min(), y_pred.max())"
   ]
  },
  {
   "cell_type": "code",
   "execution_count": 30,
   "id": "robust-works",
   "metadata": {},
   "outputs": [],
   "source": [
    "data_test = pd.merge(data_test, data_test.groupby('id', as_index=False)['cycle'].max(), how='left', on='id')"
   ]
  },
  {
   "cell_type": "code",
   "execution_count": 31,
   "id": "ordinary-cable",
   "metadata": {},
   "outputs": [],
   "source": [
    "data_test.rename(columns={\"cycles_x\": \"cycle\", \"cycle_y\": \"maxcycles\"}, inplace=True)"
   ]
  },
  {
   "cell_type": "code",
   "execution_count": 33,
   "id": "bearing-stamp",
   "metadata": {},
   "outputs": [
    {
     "data": {
      "text/html": [
       "<div>\n",
       "<style scoped>\n",
       "    .dataframe tbody tr th:only-of-type {\n",
       "        vertical-align: middle;\n",
       "    }\n",
       "\n",
       "    .dataframe tbody tr th {\n",
       "        vertical-align: top;\n",
       "    }\n",
       "\n",
       "    .dataframe thead th {\n",
       "        text-align: right;\n",
       "    }\n",
       "</style>\n",
       "<table border=\"1\" class=\"dataframe\">\n",
       "  <thead>\n",
       "    <tr style=\"text-align: right;\">\n",
       "      <th></th>\n",
       "      <th>cycle_x</th>\n",
       "      <th>s2</th>\n",
       "      <th>s3</th>\n",
       "      <th>s4</th>\n",
       "      <th>s7</th>\n",
       "      <th>s8</th>\n",
       "      <th>s9</th>\n",
       "      <th>s11</th>\n",
       "      <th>s12</th>\n",
       "      <th>s13</th>\n",
       "      <th>s15</th>\n",
       "      <th>s17</th>\n",
       "      <th>s20</th>\n",
       "      <th>s21</th>\n",
       "    </tr>\n",
       "  </thead>\n",
       "  <tbody>\n",
       "    <tr>\n",
       "      <th>93</th>\n",
       "      <td>94</td>\n",
       "      <td>0.373494</td>\n",
       "      <td>0.266623</td>\n",
       "      <td>0.383018</td>\n",
       "      <td>0.645733</td>\n",
       "      <td>0.378788</td>\n",
       "      <td>0.108140</td>\n",
       "      <td>0.375000</td>\n",
       "      <td>0.622601</td>\n",
       "      <td>0.279412</td>\n",
       "      <td>0.490573</td>\n",
       "      <td>0.416667</td>\n",
       "      <td>0.550388</td>\n",
       "      <td>0.665010</td>\n",
       "    </tr>\n",
       "    <tr>\n",
       "      <th>447</th>\n",
       "      <td>256</td>\n",
       "      <td>0.515060</td>\n",
       "      <td>0.605843</td>\n",
       "      <td>0.661884</td>\n",
       "      <td>0.455717</td>\n",
       "      <td>0.333333</td>\n",
       "      <td>0.277753</td>\n",
       "      <td>0.547619</td>\n",
       "      <td>0.422175</td>\n",
       "      <td>0.352941</td>\n",
       "      <td>0.787995</td>\n",
       "      <td>0.583333</td>\n",
       "      <td>0.372093</td>\n",
       "      <td>0.493786</td>\n",
       "    </tr>\n",
       "    <tr>\n",
       "      <th>19461</th>\n",
       "      <td>193</td>\n",
       "      <td>0.367470</td>\n",
       "      <td>0.295400</td>\n",
       "      <td>0.362930</td>\n",
       "      <td>0.610306</td>\n",
       "      <td>0.242424</td>\n",
       "      <td>0.251638</td>\n",
       "      <td>0.386905</td>\n",
       "      <td>0.695096</td>\n",
       "      <td>0.191176</td>\n",
       "      <td>0.382070</td>\n",
       "      <td>0.500000</td>\n",
       "      <td>0.434109</td>\n",
       "      <td>0.800193</td>\n",
       "    </tr>\n",
       "    <tr>\n",
       "      <th>17145</th>\n",
       "      <td>261</td>\n",
       "      <td>0.837349</td>\n",
       "      <td>0.578374</td>\n",
       "      <td>0.676401</td>\n",
       "      <td>0.333333</td>\n",
       "      <td>0.545455</td>\n",
       "      <td>0.221036</td>\n",
       "      <td>0.773810</td>\n",
       "      <td>0.270789</td>\n",
       "      <td>0.441176</td>\n",
       "      <td>0.746826</td>\n",
       "      <td>0.750000</td>\n",
       "      <td>0.124031</td>\n",
       "      <td>0.302679</td>\n",
       "    </tr>\n",
       "    <tr>\n",
       "      <th>16573</th>\n",
       "      <td>196</td>\n",
       "      <td>0.656627</td>\n",
       "      <td>0.477654</td>\n",
       "      <td>0.627785</td>\n",
       "      <td>0.407407</td>\n",
       "      <td>0.318182</td>\n",
       "      <td>0.590416</td>\n",
       "      <td>0.523810</td>\n",
       "      <td>0.473348</td>\n",
       "      <td>0.323529</td>\n",
       "      <td>0.656022</td>\n",
       "      <td>0.666667</td>\n",
       "      <td>0.379845</td>\n",
       "      <td>0.414664</td>\n",
       "    </tr>\n",
       "    <tr>\n",
       "      <th>...</th>\n",
       "      <td>...</td>\n",
       "      <td>...</td>\n",
       "      <td>...</td>\n",
       "      <td>...</td>\n",
       "      <td>...</td>\n",
       "      <td>...</td>\n",
       "      <td>...</td>\n",
       "      <td>...</td>\n",
       "      <td>...</td>\n",
       "      <td>...</td>\n",
       "      <td>...</td>\n",
       "      <td>...</td>\n",
       "      <td>...</td>\n",
       "      <td>...</td>\n",
       "    </tr>\n",
       "    <tr>\n",
       "      <th>19021</th>\n",
       "      <td>11</td>\n",
       "      <td>0.409639</td>\n",
       "      <td>0.389797</td>\n",
       "      <td>0.434673</td>\n",
       "      <td>0.499195</td>\n",
       "      <td>0.348485</td>\n",
       "      <td>0.110877</td>\n",
       "      <td>0.422619</td>\n",
       "      <td>0.498934</td>\n",
       "      <td>0.338235</td>\n",
       "      <td>0.362832</td>\n",
       "      <td>0.250000</td>\n",
       "      <td>0.519380</td>\n",
       "      <td>0.482601</td>\n",
       "    </tr>\n",
       "    <tr>\n",
       "      <th>13665</th>\n",
       "      <td>35</td>\n",
       "      <td>0.388554</td>\n",
       "      <td>0.372357</td>\n",
       "      <td>0.410027</td>\n",
       "      <td>0.655395</td>\n",
       "      <td>0.227273</td>\n",
       "      <td>0.190972</td>\n",
       "      <td>0.208333</td>\n",
       "      <td>0.759062</td>\n",
       "      <td>0.279412</td>\n",
       "      <td>0.338207</td>\n",
       "      <td>0.333333</td>\n",
       "      <td>0.674419</td>\n",
       "      <td>0.698978</td>\n",
       "    </tr>\n",
       "    <tr>\n",
       "      <th>18271</th>\n",
       "      <td>46</td>\n",
       "      <td>0.295181</td>\n",
       "      <td>0.349902</td>\n",
       "      <td>0.257765</td>\n",
       "      <td>0.695652</td>\n",
       "      <td>0.181818</td>\n",
       "      <td>0.178946</td>\n",
       "      <td>0.226190</td>\n",
       "      <td>0.799574</td>\n",
       "      <td>0.205882</td>\n",
       "      <td>0.262024</td>\n",
       "      <td>0.333333</td>\n",
       "      <td>0.689922</td>\n",
       "      <td>0.549296</td>\n",
       "    </tr>\n",
       "    <tr>\n",
       "      <th>13509</th>\n",
       "      <td>78</td>\n",
       "      <td>0.439759</td>\n",
       "      <td>0.563985</td>\n",
       "      <td>0.372552</td>\n",
       "      <td>0.590982</td>\n",
       "      <td>0.303030</td>\n",
       "      <td>0.192857</td>\n",
       "      <td>0.357143</td>\n",
       "      <td>0.660981</td>\n",
       "      <td>0.220588</td>\n",
       "      <td>0.303578</td>\n",
       "      <td>0.500000</td>\n",
       "      <td>0.527132</td>\n",
       "      <td>0.530655</td>\n",
       "    </tr>\n",
       "    <tr>\n",
       "      <th>12566</th>\n",
       "      <td>86</td>\n",
       "      <td>0.346386</td>\n",
       "      <td>0.383911</td>\n",
       "      <td>0.537475</td>\n",
       "      <td>0.632850</td>\n",
       "      <td>0.257576</td>\n",
       "      <td>0.153684</td>\n",
       "      <td>0.273810</td>\n",
       "      <td>0.665245</td>\n",
       "      <td>0.323529</td>\n",
       "      <td>0.371297</td>\n",
       "      <td>0.416667</td>\n",
       "      <td>0.527132</td>\n",
       "      <td>0.722590</td>\n",
       "    </tr>\n",
       "  </tbody>\n",
       "</table>\n",
       "<p>4127 rows × 14 columns</p>\n",
       "</div>"
      ],
      "text/plain": [
       "       cycle_x        s2        s3        s4        s7        s8        s9  \\\n",
       "93          94  0.373494  0.266623  0.383018  0.645733  0.378788  0.108140   \n",
       "447        256  0.515060  0.605843  0.661884  0.455717  0.333333  0.277753   \n",
       "19461      193  0.367470  0.295400  0.362930  0.610306  0.242424  0.251638   \n",
       "17145      261  0.837349  0.578374  0.676401  0.333333  0.545455  0.221036   \n",
       "16573      196  0.656627  0.477654  0.627785  0.407407  0.318182  0.590416   \n",
       "...        ...       ...       ...       ...       ...       ...       ...   \n",
       "19021       11  0.409639  0.389797  0.434673  0.499195  0.348485  0.110877   \n",
       "13665       35  0.388554  0.372357  0.410027  0.655395  0.227273  0.190972   \n",
       "18271       46  0.295181  0.349902  0.257765  0.695652  0.181818  0.178946   \n",
       "13509       78  0.439759  0.563985  0.372552  0.590982  0.303030  0.192857   \n",
       "12566       86  0.346386  0.383911  0.537475  0.632850  0.257576  0.153684   \n",
       "\n",
       "            s11       s12       s13       s15       s17       s20       s21  \n",
       "93     0.375000  0.622601  0.279412  0.490573  0.416667  0.550388  0.665010  \n",
       "447    0.547619  0.422175  0.352941  0.787995  0.583333  0.372093  0.493786  \n",
       "19461  0.386905  0.695096  0.191176  0.382070  0.500000  0.434109  0.800193  \n",
       "17145  0.773810  0.270789  0.441176  0.746826  0.750000  0.124031  0.302679  \n",
       "16573  0.523810  0.473348  0.323529  0.656022  0.666667  0.379845  0.414664  \n",
       "...         ...       ...       ...       ...       ...       ...       ...  \n",
       "19021  0.422619  0.498934  0.338235  0.362832  0.250000  0.519380  0.482601  \n",
       "13665  0.208333  0.759062  0.279412  0.338207  0.333333  0.674419  0.698978  \n",
       "18271  0.226190  0.799574  0.205882  0.262024  0.333333  0.689922  0.549296  \n",
       "13509  0.357143  0.660981  0.220588  0.303578  0.500000  0.527132  0.530655  \n",
       "12566  0.273810  0.665245  0.323529  0.371297  0.416667  0.527132  0.722590  \n",
       "\n",
       "[4127 rows x 14 columns]"
      ]
     },
     "execution_count": 33,
     "metadata": {},
     "output_type": "execute_result"
    }
   ],
   "source": [
    "X_test"
   ]
  },
  {
   "cell_type": "code",
   "execution_count": null,
   "id": "accessory-secondary",
   "metadata": {},
   "outputs": [],
   "source": []
  }
 ],
 "metadata": {
  "kernelspec": {
   "display_name": "Python 3",
   "language": "python",
   "name": "python3"
  },
  "language_info": {
   "codemirror_mode": {
    "name": "ipython",
    "version": 3
   },
   "file_extension": ".py",
   "mimetype": "text/x-python",
   "name": "python",
   "nbconvert_exporter": "python",
   "pygments_lexer": "ipython3",
   "version": "3.7.9"
  }
 },
 "nbformat": 4,
 "nbformat_minor": 5
}
