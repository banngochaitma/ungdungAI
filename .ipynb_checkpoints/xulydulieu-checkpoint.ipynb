{
 "cells": [
  {
   "cell_type": "code",
   "execution_count": 1,
   "id": "amended-greene",
   "metadata": {},
   "outputs": [],
   "source": [
    "import pandas as pd\n",
    "import numpy as np\n",
    "import matplotlib.pyplot as plt\n",
    "import seaborn as sns\n"
   ]
  },
  {
   "cell_type": "code",
   "execution_count": 29,
   "id": "fabulous-plain",
   "metadata": {},
   "outputs": [],
   "source": [
    "data_train = pd.read_csv('data/train.csv')"
   ]
  },
  {
   "cell_type": "markdown",
   "id": "sixth-click",
   "metadata": {},
   "source": [
    "## Số liệu thống kê mô tả"
   ]
  },
  {
   "cell_type": "code",
   "execution_count": 28,
   "id": "unnecessary-capacity",
   "metadata": {
    "scrolled": true
   },
   "outputs": [
    {
     "data": {
      "text/plain": [
       "(20631, 21)"
      ]
     },
     "execution_count": 28,
     "metadata": {},
     "output_type": "execute_result"
    }
   ],
   "source": [
    "features = ['s1','s2', 's3', 's4','s5', 's6',  's7', 's8', 's9','s10',  's11', 's12', 's13', 's14', 's15',  's16',\n",
    "            's17', 's18', 's19',  's20', 's21']\n",
    "data_train[features].shape"
   ]
  },
  {
   "cell_type": "code",
   "execution_count": 31,
   "id": "radical-advertising",
   "metadata": {},
   "outputs": [
    {
     "data": {
      "text/html": [
       "<div>\n",
       "<style scoped>\n",
       "    .dataframe tbody tr th:only-of-type {\n",
       "        vertical-align: middle;\n",
       "    }\n",
       "\n",
       "    .dataframe tbody tr th {\n",
       "        vertical-align: top;\n",
       "    }\n",
       "\n",
       "    .dataframe thead th {\n",
       "        text-align: right;\n",
       "    }\n",
       "</style>\n",
       "<table border=\"1\" class=\"dataframe\">\n",
       "  <thead>\n",
       "    <tr style=\"text-align: right;\">\n",
       "      <th></th>\n",
       "      <th>s1</th>\n",
       "      <th>s2</th>\n",
       "      <th>s3</th>\n",
       "      <th>s4</th>\n",
       "      <th>s5</th>\n",
       "      <th>s6</th>\n",
       "      <th>s7</th>\n",
       "      <th>s8</th>\n",
       "      <th>s9</th>\n",
       "      <th>s10</th>\n",
       "      <th>...</th>\n",
       "      <th>s12</th>\n",
       "      <th>s13</th>\n",
       "      <th>s14</th>\n",
       "      <th>s15</th>\n",
       "      <th>s16</th>\n",
       "      <th>s17</th>\n",
       "      <th>s18</th>\n",
       "      <th>s19</th>\n",
       "      <th>s20</th>\n",
       "      <th>s21</th>\n",
       "    </tr>\n",
       "  </thead>\n",
       "  <tbody>\n",
       "    <tr>\n",
       "      <th>0</th>\n",
       "      <td>518.67</td>\n",
       "      <td>641.82</td>\n",
       "      <td>1589.70</td>\n",
       "      <td>1400.60</td>\n",
       "      <td>14.62</td>\n",
       "      <td>21.61</td>\n",
       "      <td>554.36</td>\n",
       "      <td>2388.06</td>\n",
       "      <td>9046.19</td>\n",
       "      <td>1.3</td>\n",
       "      <td>...</td>\n",
       "      <td>521.66</td>\n",
       "      <td>2388.02</td>\n",
       "      <td>8138.62</td>\n",
       "      <td>8.4195</td>\n",
       "      <td>0.03</td>\n",
       "      <td>392</td>\n",
       "      <td>2388</td>\n",
       "      <td>100.0</td>\n",
       "      <td>39.06</td>\n",
       "      <td>23.4190</td>\n",
       "    </tr>\n",
       "    <tr>\n",
       "      <th>1</th>\n",
       "      <td>518.67</td>\n",
       "      <td>642.15</td>\n",
       "      <td>1591.82</td>\n",
       "      <td>1403.14</td>\n",
       "      <td>14.62</td>\n",
       "      <td>21.61</td>\n",
       "      <td>553.75</td>\n",
       "      <td>2388.04</td>\n",
       "      <td>9044.07</td>\n",
       "      <td>1.3</td>\n",
       "      <td>...</td>\n",
       "      <td>522.28</td>\n",
       "      <td>2388.07</td>\n",
       "      <td>8131.49</td>\n",
       "      <td>8.4318</td>\n",
       "      <td>0.03</td>\n",
       "      <td>392</td>\n",
       "      <td>2388</td>\n",
       "      <td>100.0</td>\n",
       "      <td>39.00</td>\n",
       "      <td>23.4236</td>\n",
       "    </tr>\n",
       "    <tr>\n",
       "      <th>2</th>\n",
       "      <td>518.67</td>\n",
       "      <td>642.35</td>\n",
       "      <td>1587.99</td>\n",
       "      <td>1404.20</td>\n",
       "      <td>14.62</td>\n",
       "      <td>21.61</td>\n",
       "      <td>554.26</td>\n",
       "      <td>2388.08</td>\n",
       "      <td>9052.94</td>\n",
       "      <td>1.3</td>\n",
       "      <td>...</td>\n",
       "      <td>522.42</td>\n",
       "      <td>2388.03</td>\n",
       "      <td>8133.23</td>\n",
       "      <td>8.4178</td>\n",
       "      <td>0.03</td>\n",
       "      <td>390</td>\n",
       "      <td>2388</td>\n",
       "      <td>100.0</td>\n",
       "      <td>38.95</td>\n",
       "      <td>23.3442</td>\n",
       "    </tr>\n",
       "    <tr>\n",
       "      <th>3</th>\n",
       "      <td>518.67</td>\n",
       "      <td>642.35</td>\n",
       "      <td>1582.79</td>\n",
       "      <td>1401.87</td>\n",
       "      <td>14.62</td>\n",
       "      <td>21.61</td>\n",
       "      <td>554.45</td>\n",
       "      <td>2388.11</td>\n",
       "      <td>9049.48</td>\n",
       "      <td>1.3</td>\n",
       "      <td>...</td>\n",
       "      <td>522.86</td>\n",
       "      <td>2388.08</td>\n",
       "      <td>8133.83</td>\n",
       "      <td>8.3682</td>\n",
       "      <td>0.03</td>\n",
       "      <td>392</td>\n",
       "      <td>2388</td>\n",
       "      <td>100.0</td>\n",
       "      <td>38.88</td>\n",
       "      <td>23.3739</td>\n",
       "    </tr>\n",
       "    <tr>\n",
       "      <th>4</th>\n",
       "      <td>518.67</td>\n",
       "      <td>642.37</td>\n",
       "      <td>1582.85</td>\n",
       "      <td>1406.22</td>\n",
       "      <td>14.62</td>\n",
       "      <td>21.61</td>\n",
       "      <td>554.00</td>\n",
       "      <td>2388.06</td>\n",
       "      <td>9055.15</td>\n",
       "      <td>1.3</td>\n",
       "      <td>...</td>\n",
       "      <td>522.19</td>\n",
       "      <td>2388.04</td>\n",
       "      <td>8133.80</td>\n",
       "      <td>8.4294</td>\n",
       "      <td>0.03</td>\n",
       "      <td>393</td>\n",
       "      <td>2388</td>\n",
       "      <td>100.0</td>\n",
       "      <td>38.90</td>\n",
       "      <td>23.4044</td>\n",
       "    </tr>\n",
       "  </tbody>\n",
       "</table>\n",
       "<p>5 rows × 21 columns</p>\n",
       "</div>"
      ],
      "text/plain": [
       "       s1      s2       s3       s4     s5     s6      s7       s8       s9  \\\n",
       "0  518.67  641.82  1589.70  1400.60  14.62  21.61  554.36  2388.06  9046.19   \n",
       "1  518.67  642.15  1591.82  1403.14  14.62  21.61  553.75  2388.04  9044.07   \n",
       "2  518.67  642.35  1587.99  1404.20  14.62  21.61  554.26  2388.08  9052.94   \n",
       "3  518.67  642.35  1582.79  1401.87  14.62  21.61  554.45  2388.11  9049.48   \n",
       "4  518.67  642.37  1582.85  1406.22  14.62  21.61  554.00  2388.06  9055.15   \n",
       "\n",
       "   s10  ...     s12      s13      s14     s15   s16  s17   s18    s19    s20  \\\n",
       "0  1.3  ...  521.66  2388.02  8138.62  8.4195  0.03  392  2388  100.0  39.06   \n",
       "1  1.3  ...  522.28  2388.07  8131.49  8.4318  0.03  392  2388  100.0  39.00   \n",
       "2  1.3  ...  522.42  2388.03  8133.23  8.4178  0.03  390  2388  100.0  38.95   \n",
       "3  1.3  ...  522.86  2388.08  8133.83  8.3682  0.03  392  2388  100.0  38.88   \n",
       "4  1.3  ...  522.19  2388.04  8133.80  8.4294  0.03  393  2388  100.0  38.90   \n",
       "\n",
       "       s21  \n",
       "0  23.4190  \n",
       "1  23.4236  \n",
       "2  23.3442  \n",
       "3  23.3739  \n",
       "4  23.4044  \n",
       "\n",
       "[5 rows x 21 columns]"
      ]
     },
     "execution_count": 31,
     "metadata": {},
     "output_type": "execute_result"
    }
   ],
   "source": [
    "data_train[features].head()"
   ]
  },
  {
   "cell_type": "code",
   "execution_count": 54,
   "id": "biological-violation",
   "metadata": {},
   "outputs": [
    {
     "data": {
      "text/html": [
       "<div>\n",
       "<style scoped>\n",
       "    .dataframe tbody tr th:only-of-type {\n",
       "        vertical-align: middle;\n",
       "    }\n",
       "\n",
       "    .dataframe tbody tr th {\n",
       "        vertical-align: top;\n",
       "    }\n",
       "\n",
       "    .dataframe thead th {\n",
       "        text-align: right;\n",
       "    }\n",
       "</style>\n",
       "<table border=\"1\" class=\"dataframe\">\n",
       "  <thead>\n",
       "    <tr style=\"text-align: right;\">\n",
       "      <th></th>\n",
       "      <th>s1</th>\n",
       "      <th>s2</th>\n",
       "      <th>s3</th>\n",
       "      <th>s4</th>\n",
       "      <th>s5</th>\n",
       "      <th>s6</th>\n",
       "      <th>s7</th>\n",
       "      <th>s8</th>\n",
       "      <th>s9</th>\n",
       "      <th>s10</th>\n",
       "      <th>...</th>\n",
       "      <th>s12</th>\n",
       "      <th>s13</th>\n",
       "      <th>s14</th>\n",
       "      <th>s15</th>\n",
       "      <th>s16</th>\n",
       "      <th>s17</th>\n",
       "      <th>s18</th>\n",
       "      <th>s19</th>\n",
       "      <th>s20</th>\n",
       "      <th>s21</th>\n",
       "    </tr>\n",
       "  </thead>\n",
       "  <tbody>\n",
       "    <tr>\n",
       "      <th>count</th>\n",
       "      <td>20631.00</td>\n",
       "      <td>20631.000000</td>\n",
       "      <td>20631.000000</td>\n",
       "      <td>20631.000000</td>\n",
       "      <td>2.063100e+04</td>\n",
       "      <td>20631.000000</td>\n",
       "      <td>20631.000000</td>\n",
       "      <td>20631.000000</td>\n",
       "      <td>20631.000000</td>\n",
       "      <td>20631.0</td>\n",
       "      <td>...</td>\n",
       "      <td>20631.000000</td>\n",
       "      <td>20631.000000</td>\n",
       "      <td>20631.000000</td>\n",
       "      <td>20631.000000</td>\n",
       "      <td>2.063100e+04</td>\n",
       "      <td>20631.000000</td>\n",
       "      <td>20631.0</td>\n",
       "      <td>20631.0</td>\n",
       "      <td>20631.000000</td>\n",
       "      <td>20631.000000</td>\n",
       "    </tr>\n",
       "    <tr>\n",
       "      <th>mean</th>\n",
       "      <td>518.67</td>\n",
       "      <td>642.680934</td>\n",
       "      <td>1590.523119</td>\n",
       "      <td>1408.933782</td>\n",
       "      <td>1.462000e+01</td>\n",
       "      <td>21.609803</td>\n",
       "      <td>553.367711</td>\n",
       "      <td>2388.096652</td>\n",
       "      <td>9065.242941</td>\n",
       "      <td>1.3</td>\n",
       "      <td>...</td>\n",
       "      <td>521.413470</td>\n",
       "      <td>2388.096152</td>\n",
       "      <td>8143.752722</td>\n",
       "      <td>8.442146</td>\n",
       "      <td>3.000000e-02</td>\n",
       "      <td>393.210654</td>\n",
       "      <td>2388.0</td>\n",
       "      <td>100.0</td>\n",
       "      <td>38.816271</td>\n",
       "      <td>23.289705</td>\n",
       "    </tr>\n",
       "    <tr>\n",
       "      <th>std</th>\n",
       "      <td>0.00</td>\n",
       "      <td>0.500053</td>\n",
       "      <td>6.131150</td>\n",
       "      <td>9.000605</td>\n",
       "      <td>1.776400e-15</td>\n",
       "      <td>0.001389</td>\n",
       "      <td>0.885092</td>\n",
       "      <td>0.070985</td>\n",
       "      <td>22.082880</td>\n",
       "      <td>0.0</td>\n",
       "      <td>...</td>\n",
       "      <td>0.737553</td>\n",
       "      <td>0.071919</td>\n",
       "      <td>19.076176</td>\n",
       "      <td>0.037505</td>\n",
       "      <td>1.387812e-17</td>\n",
       "      <td>1.548763</td>\n",
       "      <td>0.0</td>\n",
       "      <td>0.0</td>\n",
       "      <td>0.180746</td>\n",
       "      <td>0.108251</td>\n",
       "    </tr>\n",
       "    <tr>\n",
       "      <th>min</th>\n",
       "      <td>518.67</td>\n",
       "      <td>641.210000</td>\n",
       "      <td>1571.040000</td>\n",
       "      <td>1382.250000</td>\n",
       "      <td>1.462000e+01</td>\n",
       "      <td>21.600000</td>\n",
       "      <td>549.850000</td>\n",
       "      <td>2387.900000</td>\n",
       "      <td>9021.730000</td>\n",
       "      <td>1.3</td>\n",
       "      <td>...</td>\n",
       "      <td>518.690000</td>\n",
       "      <td>2387.880000</td>\n",
       "      <td>8099.940000</td>\n",
       "      <td>8.324900</td>\n",
       "      <td>3.000000e-02</td>\n",
       "      <td>388.000000</td>\n",
       "      <td>2388.0</td>\n",
       "      <td>100.0</td>\n",
       "      <td>38.140000</td>\n",
       "      <td>22.894200</td>\n",
       "    </tr>\n",
       "    <tr>\n",
       "      <th>25%</th>\n",
       "      <td>518.67</td>\n",
       "      <td>642.325000</td>\n",
       "      <td>1586.260000</td>\n",
       "      <td>1402.360000</td>\n",
       "      <td>1.462000e+01</td>\n",
       "      <td>21.610000</td>\n",
       "      <td>552.810000</td>\n",
       "      <td>2388.050000</td>\n",
       "      <td>9053.100000</td>\n",
       "      <td>1.3</td>\n",
       "      <td>...</td>\n",
       "      <td>520.960000</td>\n",
       "      <td>2388.040000</td>\n",
       "      <td>8133.245000</td>\n",
       "      <td>8.414900</td>\n",
       "      <td>3.000000e-02</td>\n",
       "      <td>392.000000</td>\n",
       "      <td>2388.0</td>\n",
       "      <td>100.0</td>\n",
       "      <td>38.700000</td>\n",
       "      <td>23.221800</td>\n",
       "    </tr>\n",
       "    <tr>\n",
       "      <th>50%</th>\n",
       "      <td>518.67</td>\n",
       "      <td>642.640000</td>\n",
       "      <td>1590.100000</td>\n",
       "      <td>1408.040000</td>\n",
       "      <td>1.462000e+01</td>\n",
       "      <td>21.610000</td>\n",
       "      <td>553.440000</td>\n",
       "      <td>2388.090000</td>\n",
       "      <td>9060.660000</td>\n",
       "      <td>1.3</td>\n",
       "      <td>...</td>\n",
       "      <td>521.480000</td>\n",
       "      <td>2388.090000</td>\n",
       "      <td>8140.540000</td>\n",
       "      <td>8.438900</td>\n",
       "      <td>3.000000e-02</td>\n",
       "      <td>393.000000</td>\n",
       "      <td>2388.0</td>\n",
       "      <td>100.0</td>\n",
       "      <td>38.830000</td>\n",
       "      <td>23.297900</td>\n",
       "    </tr>\n",
       "    <tr>\n",
       "      <th>75%</th>\n",
       "      <td>518.67</td>\n",
       "      <td>643.000000</td>\n",
       "      <td>1594.380000</td>\n",
       "      <td>1414.555000</td>\n",
       "      <td>1.462000e+01</td>\n",
       "      <td>21.610000</td>\n",
       "      <td>554.010000</td>\n",
       "      <td>2388.140000</td>\n",
       "      <td>9069.420000</td>\n",
       "      <td>1.3</td>\n",
       "      <td>...</td>\n",
       "      <td>521.950000</td>\n",
       "      <td>2388.140000</td>\n",
       "      <td>8148.310000</td>\n",
       "      <td>8.465600</td>\n",
       "      <td>3.000000e-02</td>\n",
       "      <td>394.000000</td>\n",
       "      <td>2388.0</td>\n",
       "      <td>100.0</td>\n",
       "      <td>38.950000</td>\n",
       "      <td>23.366800</td>\n",
       "    </tr>\n",
       "    <tr>\n",
       "      <th>max</th>\n",
       "      <td>518.67</td>\n",
       "      <td>644.530000</td>\n",
       "      <td>1616.910000</td>\n",
       "      <td>1441.490000</td>\n",
       "      <td>1.462000e+01</td>\n",
       "      <td>21.610000</td>\n",
       "      <td>556.060000</td>\n",
       "      <td>2388.560000</td>\n",
       "      <td>9244.590000</td>\n",
       "      <td>1.3</td>\n",
       "      <td>...</td>\n",
       "      <td>523.380000</td>\n",
       "      <td>2388.560000</td>\n",
       "      <td>8293.720000</td>\n",
       "      <td>8.584800</td>\n",
       "      <td>3.000000e-02</td>\n",
       "      <td>400.000000</td>\n",
       "      <td>2388.0</td>\n",
       "      <td>100.0</td>\n",
       "      <td>39.430000</td>\n",
       "      <td>23.618400</td>\n",
       "    </tr>\n",
       "  </tbody>\n",
       "</table>\n",
       "<p>8 rows × 21 columns</p>\n",
       "</div>"
      ],
      "text/plain": [
       "             s1            s2            s3            s4            s5  \\\n",
       "count  20631.00  20631.000000  20631.000000  20631.000000  2.063100e+04   \n",
       "mean     518.67    642.680934   1590.523119   1408.933782  1.462000e+01   \n",
       "std        0.00      0.500053      6.131150      9.000605  1.776400e-15   \n",
       "min      518.67    641.210000   1571.040000   1382.250000  1.462000e+01   \n",
       "25%      518.67    642.325000   1586.260000   1402.360000  1.462000e+01   \n",
       "50%      518.67    642.640000   1590.100000   1408.040000  1.462000e+01   \n",
       "75%      518.67    643.000000   1594.380000   1414.555000  1.462000e+01   \n",
       "max      518.67    644.530000   1616.910000   1441.490000  1.462000e+01   \n",
       "\n",
       "                 s6            s7            s8            s9      s10  ...  \\\n",
       "count  20631.000000  20631.000000  20631.000000  20631.000000  20631.0  ...   \n",
       "mean      21.609803    553.367711   2388.096652   9065.242941      1.3  ...   \n",
       "std        0.001389      0.885092      0.070985     22.082880      0.0  ...   \n",
       "min       21.600000    549.850000   2387.900000   9021.730000      1.3  ...   \n",
       "25%       21.610000    552.810000   2388.050000   9053.100000      1.3  ...   \n",
       "50%       21.610000    553.440000   2388.090000   9060.660000      1.3  ...   \n",
       "75%       21.610000    554.010000   2388.140000   9069.420000      1.3  ...   \n",
       "max       21.610000    556.060000   2388.560000   9244.590000      1.3  ...   \n",
       "\n",
       "                s12           s13           s14           s15           s16  \\\n",
       "count  20631.000000  20631.000000  20631.000000  20631.000000  2.063100e+04   \n",
       "mean     521.413470   2388.096152   8143.752722      8.442146  3.000000e-02   \n",
       "std        0.737553      0.071919     19.076176      0.037505  1.387812e-17   \n",
       "min      518.690000   2387.880000   8099.940000      8.324900  3.000000e-02   \n",
       "25%      520.960000   2388.040000   8133.245000      8.414900  3.000000e-02   \n",
       "50%      521.480000   2388.090000   8140.540000      8.438900  3.000000e-02   \n",
       "75%      521.950000   2388.140000   8148.310000      8.465600  3.000000e-02   \n",
       "max      523.380000   2388.560000   8293.720000      8.584800  3.000000e-02   \n",
       "\n",
       "                s17      s18      s19           s20           s21  \n",
       "count  20631.000000  20631.0  20631.0  20631.000000  20631.000000  \n",
       "mean     393.210654   2388.0    100.0     38.816271     23.289705  \n",
       "std        1.548763      0.0      0.0      0.180746      0.108251  \n",
       "min      388.000000   2388.0    100.0     38.140000     22.894200  \n",
       "25%      392.000000   2388.0    100.0     38.700000     23.221800  \n",
       "50%      393.000000   2388.0    100.0     38.830000     23.297900  \n",
       "75%      394.000000   2388.0    100.0     38.950000     23.366800  \n",
       "max      400.000000   2388.0    100.0     39.430000     23.618400  \n",
       "\n",
       "[8 rows x 21 columns]"
      ]
     },
     "execution_count": 54,
     "metadata": {},
     "output_type": "execute_result"
    }
   ],
   "source": [
    "data_train[features].describe()"
   ]
  },
  {
   "cell_type": "code",
   "execution_count": 55,
   "id": "attached-replication",
   "metadata": {},
   "outputs": [
    {
     "name": "stdout",
     "output_type": "stream",
     "text": [
      "<class 'pandas.core.frame.DataFrame'>\n",
      "RangeIndex: 20631 entries, 0 to 20630\n",
      "Data columns (total 21 columns):\n",
      " #   Column  Non-Null Count  Dtype  \n",
      "---  ------  --------------  -----  \n",
      " 0   s1      20631 non-null  float64\n",
      " 1   s2      20631 non-null  float64\n",
      " 2   s3      20631 non-null  float64\n",
      " 3   s4      20631 non-null  float64\n",
      " 4   s5      20631 non-null  float64\n",
      " 5   s6      20631 non-null  float64\n",
      " 6   s7      20631 non-null  float64\n",
      " 7   s8      20631 non-null  float64\n",
      " 8   s9      20631 non-null  float64\n",
      " 9   s10     20631 non-null  float64\n",
      " 10  s11     20631 non-null  float64\n",
      " 11  s12     20631 non-null  float64\n",
      " 12  s13     20631 non-null  float64\n",
      " 13  s14     20631 non-null  float64\n",
      " 14  s15     20631 non-null  float64\n",
      " 15  s16     20631 non-null  float64\n",
      " 16  s17     20631 non-null  int64  \n",
      " 17  s18     20631 non-null  int64  \n",
      " 18  s19     20631 non-null  float64\n",
      " 19  s20     20631 non-null  float64\n",
      " 20  s21     20631 non-null  float64\n",
      "dtypes: float64(19), int64(2)\n",
      "memory usage: 3.3 MB\n"
     ]
    }
   ],
   "source": [
    "data_train[features].info()"
   ]
  },
  {
   "cell_type": "markdown",
   "id": "threaded-attendance",
   "metadata": {},
   "source": [
    "## Phân tích sự tương quan"
   ]
  },
  {
   "cell_type": "code",
   "execution_count": 60,
   "id": "southern-minimum",
   "metadata": {},
   "outputs": [
    {
     "data": {
      "text/plain": [
       "<AxesSubplot:>"
      ]
     },
     "execution_count": 60,
     "metadata": {},
     "output_type": "execute_result"
    },
    {
     "data": {
      "image/png": "[encoded data removed]",
      "text/plain": [
       "<Figure size 720x432 with 2 Axes>"
      ]
     },
     "metadata": {},
     "output_type": "display_data"
    }
   ],
   "source": [
    "plt.figure(figsize=(10,6))\n",
    "sns.heatmap(data_train[features].corr(),cmap= 'Accent')"
   ]
  },
  {
   "cell_type": "markdown",
   "id": "curious-night",
   "metadata": {},
   "source": [
    "## VIF xem sự tương quan có bị đa cộng tuyến hay ko"
   ]
  },
  {
   "cell_type": "code",
   "execution_count": 62,
   "id": "removed-timber",
   "metadata": {},
   "outputs": [
    {
     "name": "stderr",
     "output_type": "stream",
     "text": [
      "c:\\users\\administrator\\appdata\\local\\programs\\python\\python37\\lib\\site-packages\\statsmodels\\regression\\linear_model.py:1715: RuntimeWarning: divide by zero encountered in double_scalars\n",
      "  return 1 - self.ssr/self.centered_tss\n"
     ]
    },
    {
     "data": {
      "text/html": [
       "<div>\n",
       "<style scoped>\n",
       "    .dataframe tbody tr th:only-of-type {\n",
       "        vertical-align: middle;\n",
       "    }\n",
       "\n",
       "    .dataframe tbody tr th {\n",
       "        vertical-align: top;\n",
       "    }\n",
       "\n",
       "    .dataframe thead th {\n",
       "        text-align: right;\n",
       "    }\n",
       "</style>\n",
       "<table border=\"1\" class=\"dataframe\">\n",
       "  <thead>\n",
       "    <tr style=\"text-align: right;\">\n",
       "      <th></th>\n",
       "      <th>Independent Features</th>\n",
       "      <th>VIF Scores</th>\n",
       "    </tr>\n",
       "  </thead>\n",
       "  <tbody>\n",
       "    <tr>\n",
       "      <th>0</th>\n",
       "      <td>s1</td>\n",
       "      <td>0.000000e+00</td>\n",
       "    </tr>\n",
       "    <tr>\n",
       "      <th>1</th>\n",
       "      <td>s2</td>\n",
       "      <td>2.260884e+00</td>\n",
       "    </tr>\n",
       "    <tr>\n",
       "      <th>2</th>\n",
       "      <td>s3</td>\n",
       "      <td>2.282864e+00</td>\n",
       "    </tr>\n",
       "    <tr>\n",
       "      <th>3</th>\n",
       "      <td>s4</td>\n",
       "      <td>4.578003e+00</td>\n",
       "    </tr>\n",
       "    <tr>\n",
       "      <th>4</th>\n",
       "      <td>s5</td>\n",
       "      <td>1.659149e-25</td>\n",
       "    </tr>\n",
       "    <tr>\n",
       "      <th>5</th>\n",
       "      <td>s6</td>\n",
       "      <td>4.349514e-02</td>\n",
       "    </tr>\n",
       "    <tr>\n",
       "      <th>6</th>\n",
       "      <td>s7</td>\n",
       "      <td>4.237020e+00</td>\n",
       "    </tr>\n",
       "    <tr>\n",
       "      <th>7</th>\n",
       "      <td>s8</td>\n",
       "      <td>9.080392e-03</td>\n",
       "    </tr>\n",
       "    <tr>\n",
       "      <th>8</th>\n",
       "      <td>s9</td>\n",
       "      <td>1.648244e+01</td>\n",
       "    </tr>\n",
       "    <tr>\n",
       "      <th>9</th>\n",
       "      <td>s10</td>\n",
       "      <td>0.000000e+00</td>\n",
       "    </tr>\n",
       "    <tr>\n",
       "      <th>10</th>\n",
       "      <td>s11</td>\n",
       "      <td>5.961884e+00</td>\n",
       "    </tr>\n",
       "    <tr>\n",
       "      <th>11</th>\n",
       "      <td>s12</td>\n",
       "      <td>4.830746e+00</td>\n",
       "    </tr>\n",
       "    <tr>\n",
       "      <th>12</th>\n",
       "      <td>s13</td>\n",
       "      <td>3.490787e-01</td>\n",
       "    </tr>\n",
       "    <tr>\n",
       "      <th>13</th>\n",
       "      <td>s14</td>\n",
       "      <td>1.181318e+01</td>\n",
       "    </tr>\n",
       "    <tr>\n",
       "      <th>14</th>\n",
       "      <td>s15</td>\n",
       "      <td>3.298410e+00</td>\n",
       "    </tr>\n",
       "    <tr>\n",
       "      <th>15</th>\n",
       "      <td>s16</td>\n",
       "      <td>2.454595e-24</td>\n",
       "    </tr>\n",
       "    <tr>\n",
       "      <th>16</th>\n",
       "      <td>s17</td>\n",
       "      <td>2.557713e+00</td>\n",
       "    </tr>\n",
       "    <tr>\n",
       "      <th>17</th>\n",
       "      <td>s18</td>\n",
       "      <td>0.000000e+00</td>\n",
       "    </tr>\n",
       "    <tr>\n",
       "      <th>18</th>\n",
       "      <td>s19</td>\n",
       "      <td>0.000000e+00</td>\n",
       "    </tr>\n",
       "    <tr>\n",
       "      <th>19</th>\n",
       "      <td>s20</td>\n",
       "      <td>3.059540e+00</td>\n",
       "    </tr>\n",
       "    <tr>\n",
       "      <th>20</th>\n",
       "      <td>s21</td>\n",
       "      <td>3.107019e+00</td>\n",
       "    </tr>\n",
       "  </tbody>\n",
       "</table>\n",
       "</div>"
      ],
      "text/plain": [
       "   Independent Features    VIF Scores\n",
       "0                    s1  0.000000e+00\n",
       "1                    s2  2.260884e+00\n",
       "2                    s3  2.282864e+00\n",
       "3                    s4  4.578003e+00\n",
       "4                    s5  1.659149e-25\n",
       "5                    s6  4.349514e-02\n",
       "6                    s7  4.237020e+00\n",
       "7                    s8  9.080392e-03\n",
       "8                    s9  1.648244e+01\n",
       "9                   s10  0.000000e+00\n",
       "10                  s11  5.961884e+00\n",
       "11                  s12  4.830746e+00\n",
       "12                  s13  3.490787e-01\n",
       "13                  s14  1.181318e+01\n",
       "14                  s15  3.298410e+00\n",
       "15                  s16  2.454595e-24\n",
       "16                  s17  2.557713e+00\n",
       "17                  s18  0.000000e+00\n",
       "18                  s19  0.000000e+00\n",
       "19                  s20  3.059540e+00\n",
       "20                  s21  3.107019e+00"
      ]
     },
     "execution_count": 62,
     "metadata": {},
     "output_type": "execute_result"
    }
   ],
   "source": [
    "from statsmodels.stats.outliers_influence import variance_inflation_factor \n",
    "def vif_scores(df):\n",
    "    VIF_Scores = pd.DataFrame()\n",
    "    VIF_Scores[\"Independent Features\"] = df.columns\n",
    "    VIF_Scores[\"VIF Scores\"] = [variance_inflation_factor(df.values,i) for i in range(df.shape[1])]\n",
    "    return VIF_Scores\n",
    "df1= data_train[features].iloc[:,:]\n",
    "vif_scores(df1)"
   ]
  },
  {
   "cell_type": "markdown",
   "id": "brazilian-thought",
   "metadata": {},
   "source": [
    "## Loại bỏ features không tương quan"
   ]
  },
  {
   "cell_type": "code",
   "execution_count": 72,
   "id": "intellectual-heaven",
   "metadata": {},
   "outputs": [],
   "source": [
    "features1 = ['s2', 's3', 's4', 's7',   's11', 's12',  's14', 's15',  \n",
    "            's17', 's20', 's21']"
   ]
  },
  {
   "cell_type": "markdown",
   "id": "gross-praise",
   "metadata": {},
   "source": [
    "## Biểu diễn dữ liệu khuyết thiếu:"
   ]
  },
  {
   "cell_type": "code",
   "execution_count": 89,
   "id": "collaborative-browse",
   "metadata": {},
   "outputs": [
    {
     "data": {
      "text/plain": [
       "<AxesSubplot:>"
      ]
     },
     "execution_count": 89,
     "metadata": {},
     "output_type": "execute_result"
    },
    {
     "data": {
      "image/png": "[encoded data removed]",
      "text/plain": [
       "<Figure size 432x288 with 1 Axes>"
      ]
     },
     "metadata": {
      "needs_background": "light"
     },
     "output_type": "display_data"
    }
   ],
   "source": [
    "%matplotlib inline\n",
    "sns.heatmap(data=data_train[features1].isnull(), yticklabels=False, cbar =False, cmap = 'viridis')"
   ]
  },
  {
   "cell_type": "markdown",
   "id": "bacterial-causing",
   "metadata": {},
   "source": [
    "## xử lí giá trị ngoại lại"
   ]
  },
  {
   "cell_type": "code",
   "execution_count": 106,
   "id": "taken-thread",
   "metadata": {},
   "outputs": [
    {
     "data": {
      "image/png": "[encoded data removed]",
      "text/plain": [
       "<Figure size 720x360 with 1 Axes>"
      ]
     },
     "metadata": {
      "needs_background": "light"
     },
     "output_type": "display_data"
    }
   ],
   "source": [
    "plt.figure(figsize=(10,5))\n",
    "sns.boxplot(data = data_train['s2'],orient=\"h\",color = 'g') \n",
    "plt.show()"
   ]
  },
  {
   "cell_type": "code",
   "execution_count": 105,
   "id": "apparent-midwest",
   "metadata": {},
   "outputs": [
    {
     "data": {
      "image/png": "[encoded data removed]",
      "text/plain": [
       "<Figure size 720x360 with 1 Axes>"
      ]
     },
     "metadata": {
      "needs_background": "light"
     },
     "output_type": "display_data"
    }
   ],
   "source": [
    "plt.figure(figsize=(10,5))\n",
    "sns.boxplot(data = data_train['s3'],orient=\"h\",color = 'g') \n",
    "plt.show()"
   ]
  },
  {
   "cell_type": "code",
   "execution_count": 104,
   "id": "imposed-sessions",
   "metadata": {},
   "outputs": [
    {
     "data": {
      "image/png": "[encoded data removed]",
      "text/plain": [
       "<Figure size 720x360 with 1 Axes>"
      ]
     },
     "metadata": {
      "needs_background": "light"
     },
     "output_type": "display_data"
    }
   ],
   "source": [
    "plt.figure(figsize=(10,5))\n",
    "sns.boxplot(data = data_train['s4'],orient=\"h\",color = 'g') \n",
    "plt.show()"
   ]
  },
  {
   "cell_type": "code",
   "execution_count": 103,
   "id": "impossible-exhaust",
   "metadata": {},
   "outputs": [
    {
     "data": {
      "image/png": "[encoded data removed]",
      "text/plain": [
       "<Figure size 720x360 with 1 Axes>"
      ]
     },
     "metadata": {
      "needs_background": "light"
     },
     "output_type": "display_data"
    }
   ],
   "source": [
    "plt.figure(figsize=(10,5))\n",
    "sns.boxplot(data = data_train['s7'],orient=\"h\",color = 'g') \n",
    "plt.show()"
   ]
  },
  {
   "cell_type": "code",
   "execution_count": 102,
   "id": "talented-roots",
   "metadata": {},
   "outputs": [
    {
     "data": {
      "image/png": "[encoded data removed]",
      "text/plain": [
       "<Figure size 720x360 with 1 Axes>"
      ]
     },
     "metadata": {
      "needs_background": "light"
     },
     "output_type": "display_data"
    }
   ],
   "source": [
    "plt.figure(figsize=(10,5))\n",
    "sns.boxplot(data = data_train['s11'],orient=\"h\",color = 'g') \n",
    "plt.show()"
   ]
  },
  {
   "cell_type": "code",
   "execution_count": 101,
   "id": "underlying-active",
   "metadata": {},
   "outputs": [
    {
     "data": {
      "image/png": "[encoded data removed]",
      "text/plain": [
       "<Figure size 720x360 with 1 Axes>"
      ]
     },
     "metadata": {
      "needs_background": "light"
     },
     "output_type": "display_data"
    }
   ],
   "source": [
    "plt.figure(figsize=(10,5))\n",
    "sns.boxplot(data = data_train['s12'],orient=\"h\",color = 'g') \n",
    "plt.show()"
   ]
  },
  {
   "cell_type": "code",
   "execution_count": 100,
   "id": "destroyed-double",
   "metadata": {},
   "outputs": [
    {
     "data": {
      "image/png": "[encoded data removed]",
      "text/plain": [
       "<Figure size 720x360 with 1 Axes>"
      ]
     },
     "metadata": {
      "needs_background": "light"
     },
     "output_type": "display_data"
    }
   ],
   "source": [
    "plt.figure(figsize=(10,5))\n",
    "sns.boxplot(data = data_train['s14'],orient=\"h\",color = 'g') \n",
    "plt.show()"
   ]
  },
  {
   "cell_type": "code",
   "execution_count": 99,
   "id": "experimental-inspiration",
   "metadata": {},
   "outputs": [
    {
     "data": {
      "image/png": "[encoded data removed]",
      "text/plain": [
       "<Figure size 720x360 with 1 Axes>"
      ]
     },
     "metadata": {
      "needs_background": "light"
     },
     "output_type": "display_data"
    }
   ],
   "source": [
    "plt.figure(figsize=(10,5))\n",
    "sns.boxplot(data = data_train['s15'],orient=\"h\",color = 'g') \n",
    "plt.show()"
   ]
  },
  {
   "cell_type": "code",
   "execution_count": 98,
   "id": "ranging-record",
   "metadata": {},
   "outputs": [
    {
     "data": {
      "image/png": "[encoded data removed]",
      "text/plain": [
       "<Figure size 720x360 with 1 Axes>"
      ]
     },
     "metadata": {
      "needs_background": "light"
     },
     "output_type": "display_data"
    }
   ],
   "source": [
    "plt.figure(figsize=(10,5))\n",
    "sns.boxplot(data = data_train['s17'],orient=\"h\",color = 'g') \n",
    "plt.show()"
   ]
  },
  {
   "cell_type": "code",
   "execution_count": 97,
   "id": "recognized-destiny",
   "metadata": {},
   "outputs": [
    {
     "data": {
      "image/png": "[encoded data removed]",
      "text/plain": [
       "<Figure size 720x360 with 1 Axes>"
      ]
     },
     "metadata": {
      "needs_background": "light"
     },
     "output_type": "display_data"
    }
   ],
   "source": [
    "plt.figure(figsize=(10,5))\n",
    "sns.boxplot(data = data_train['s20'],orient=\"h\",color = 'g') \n",
    "plt.show()"
   ]
  },
  {
   "cell_type": "code",
   "execution_count": 96,
   "id": "opening-starter",
   "metadata": {},
   "outputs": [
    {
     "data": {
      "image/png": "[encoded data removed]",
      "text/plain": [
       "<Figure size 720x360 with 1 Axes>"
      ]
     },
     "metadata": {
      "needs_background": "light"
     },
     "output_type": "display_data"
    }
   ],
   "source": [
    "plt.figure(figsize=(10,5))\n",
    "sns.boxplot(data = data_train['s21'],orient=\"h\",color = 'g') \n",
    "plt.show()"
   ]
  },
  {
   "cell_type": "code",
   "execution_count": 135,
   "id": "dressed-syndrome",
   "metadata": {},
   "outputs": [],
   "source": [
    "data = data_train[features1]"
   ]
  },
  {
   "cell_type": "code",
   "execution_count": 137,
   "id": "understanding-psychology",
   "metadata": {},
   "outputs": [],
   "source": [
    "factor = 3\n",
    "upper_lim = data['s2'].mean () + data['s2'].std () * factor\n",
    "lower_lim = data['s2'].mean () - data['s2'].std () * factor\n",
    "\n",
    "data = data[(data['s2'] < upper_lim) & (data['s2'] > lower_lim)]"
   ]
  },
  {
   "cell_type": "code",
   "execution_count": 138,
   "id": "laden-person",
   "metadata": {},
   "outputs": [],
   "source": [
    "factor = 3\n",
    "upper_lim = data['s3'].mean () + data['s3'].std () * factor\n",
    "lower_lim = data['s3'].mean () - data['s3'].std () * factor\n",
    "\n",
    "data = data[(data['s3'] < upper_lim) & (data['s3'] > lower_lim)]"
   ]
  },
  {
   "cell_type": "code",
   "execution_count": 139,
   "id": "alternative-market",
   "metadata": {},
   "outputs": [],
   "source": [
    "factor = 3\n",
    "upper_lim = data['s4'].mean () + data['s4'].std () * factor\n",
    "lower_lim = data['s4'].mean () - data['s4'].std () * factor\n",
    "\n",
    "data = data[(data['s4'] < upper_lim) & (data['s4'] > lower_lim)]"
   ]
  },
  {
   "cell_type": "code",
   "execution_count": 140,
   "id": "sharp-consciousness",
   "metadata": {},
   "outputs": [],
   "source": [
    "factor = 3\n",
    "upper_lim = data['s7'].mean () + data['s7'].std () * factor\n",
    "lower_lim = data['s7'].mean () - data['s7'].std () * factor\n",
    "\n",
    "data = data[(data['s7'] < upper_lim) & (data['s7'] > lower_lim)]"
   ]
  },
  {
   "cell_type": "code",
   "execution_count": 141,
   "id": "defensive-newcastle",
   "metadata": {},
   "outputs": [],
   "source": [
    "factor = 3\n",
    "upper_lim = data['s11'].mean () + data['s11'].std () * factor\n",
    "lower_lim = data['s11'].mean () - data['s11'].std () * factor\n",
    "\n",
    "data = data[(data['s11'] < upper_lim) & (data['s11'] > lower_lim)]"
   ]
  },
  {
   "cell_type": "code",
   "execution_count": 142,
   "id": "cubic-house",
   "metadata": {},
   "outputs": [],
   "source": [
    "factor = 3\n",
    "upper_lim = data['s12'].mean () + data['s12'].std () * factor\n",
    "lower_lim = data['s12'].mean () - data['s12'].std () * factor\n",
    "\n",
    "data = data[(data['s12'] < upper_lim) & (data['s12'] > lower_lim)]"
   ]
  },
  {
   "cell_type": "code",
   "execution_count": 143,
   "id": "supreme-rhythm",
   "metadata": {},
   "outputs": [],
   "source": [
    "factor = 3\n",
    "upper_lim = data['s14'].mean () + data['s14'].std () * factor\n",
    "lower_lim = data['s14'].mean () - data['s14'].std () * factor\n",
    "\n",
    "data = data[(data['s14'] < upper_lim) & (data['s14'] > lower_lim)]"
   ]
  },
  {
   "cell_type": "code",
   "execution_count": 144,
   "id": "intellectual-football",
   "metadata": {},
   "outputs": [],
   "source": [
    "factor = 3\n",
    "upper_lim = data['s15'].mean () + data['s15'].std () * factor\n",
    "lower_lim = data['s15'].mean () - data['s15'].std () * factor\n",
    "\n",
    "data = data[(data['s15'] < upper_lim) & (data['s15'] > lower_lim)]"
   ]
  },
  {
   "cell_type": "code",
   "execution_count": 145,
   "id": "paperback-benefit",
   "metadata": {},
   "outputs": [],
   "source": [
    "factor = 3\n",
    "upper_lim = data['s21'].mean () + data['s21'].std () * factor\n",
    "lower_lim = data['s21'].mean () - data['s21'].std () * factor\n",
    "\n",
    "data = data[(data['s21'] < upper_lim) & (data['s21'] > lower_lim)]"
   ]
  },
  {
   "cell_type": "code",
   "execution_count": 146,
   "id": "maritime-declaration",
   "metadata": {},
   "outputs": [],
   "source": [
    "factor = 3\n",
    "upper_lim = data['s17'].mean () + data['s17'].std () * factor\n",
    "lower_lim = data['s17'].mean () - data['s17'].std () * factor\n",
    "\n",
    "data = data[(data['s17'] < upper_lim) & (data['s17'] > lower_lim)]"
   ]
  },
  {
   "cell_type": "code",
   "execution_count": 147,
   "id": "heard-prisoner",
   "metadata": {},
   "outputs": [],
   "source": [
    "factor = 3\n",
    "upper_lim = data['s20'].mean () + data['s20'].std () * factor\n",
    "lower_lim = data['s20'].mean () - data['s20'].std () * factor\n",
    "\n",
    "data = data[(data['s20'] < upper_lim) & (data['s20'] > lower_lim)]"
   ]
  },
  {
   "cell_type": "code",
   "execution_count": 148,
   "id": "conservative-maldives",
   "metadata": {},
   "outputs": [
    {
     "data": {
      "text/html": [
       "<div>\n",
       "<style scoped>\n",
       "    .dataframe tbody tr th:only-of-type {\n",
       "        vertical-align: middle;\n",
       "    }\n",
       "\n",
       "    .dataframe tbody tr th {\n",
       "        vertical-align: top;\n",
       "    }\n",
       "\n",
       "    .dataframe thead th {\n",
       "        text-align: right;\n",
       "    }\n",
       "</style>\n",
       "<table border=\"1\" class=\"dataframe\">\n",
       "  <thead>\n",
       "    <tr style=\"text-align: right;\">\n",
       "      <th></th>\n",
       "      <th>s2</th>\n",
       "      <th>s3</th>\n",
       "      <th>s4</th>\n",
       "      <th>s7</th>\n",
       "      <th>s11</th>\n",
       "      <th>s12</th>\n",
       "      <th>s14</th>\n",
       "      <th>s15</th>\n",
       "      <th>s17</th>\n",
       "      <th>s20</th>\n",
       "      <th>s21</th>\n",
       "    </tr>\n",
       "  </thead>\n",
       "  <tbody>\n",
       "    <tr>\n",
       "      <th>0</th>\n",
       "      <td>641.82</td>\n",
       "      <td>1589.70</td>\n",
       "      <td>1400.60</td>\n",
       "      <td>554.36</td>\n",
       "      <td>47.47</td>\n",
       "      <td>521.66</td>\n",
       "      <td>8138.62</td>\n",
       "      <td>8.4195</td>\n",
       "      <td>392</td>\n",
       "      <td>39.06</td>\n",
       "      <td>23.4190</td>\n",
       "    </tr>\n",
       "    <tr>\n",
       "      <th>1</th>\n",
       "      <td>642.15</td>\n",
       "      <td>1591.82</td>\n",
       "      <td>1403.14</td>\n",
       "      <td>553.75</td>\n",
       "      <td>47.49</td>\n",
       "      <td>522.28</td>\n",
       "      <td>8131.49</td>\n",
       "      <td>8.4318</td>\n",
       "      <td>392</td>\n",
       "      <td>39.00</td>\n",
       "      <td>23.4236</td>\n",
       "    </tr>\n",
       "    <tr>\n",
       "      <th>2</th>\n",
       "      <td>642.35</td>\n",
       "      <td>1587.99</td>\n",
       "      <td>1404.20</td>\n",
       "      <td>554.26</td>\n",
       "      <td>47.27</td>\n",
       "      <td>522.42</td>\n",
       "      <td>8133.23</td>\n",
       "      <td>8.4178</td>\n",
       "      <td>390</td>\n",
       "      <td>38.95</td>\n",
       "      <td>23.3442</td>\n",
       "    </tr>\n",
       "    <tr>\n",
       "      <th>3</th>\n",
       "      <td>642.35</td>\n",
       "      <td>1582.79</td>\n",
       "      <td>1401.87</td>\n",
       "      <td>554.45</td>\n",
       "      <td>47.13</td>\n",
       "      <td>522.86</td>\n",
       "      <td>8133.83</td>\n",
       "      <td>8.3682</td>\n",
       "      <td>392</td>\n",
       "      <td>38.88</td>\n",
       "      <td>23.3739</td>\n",
       "    </tr>\n",
       "    <tr>\n",
       "      <th>4</th>\n",
       "      <td>642.37</td>\n",
       "      <td>1582.85</td>\n",
       "      <td>1406.22</td>\n",
       "      <td>554.00</td>\n",
       "      <td>47.28</td>\n",
       "      <td>522.19</td>\n",
       "      <td>8133.80</td>\n",
       "      <td>8.4294</td>\n",
       "      <td>393</td>\n",
       "      <td>38.90</td>\n",
       "      <td>23.4044</td>\n",
       "    </tr>\n",
       "    <tr>\n",
       "      <th>...</th>\n",
       "      <td>...</td>\n",
       "      <td>...</td>\n",
       "      <td>...</td>\n",
       "      <td>...</td>\n",
       "      <td>...</td>\n",
       "      <td>...</td>\n",
       "      <td>...</td>\n",
       "      <td>...</td>\n",
       "      <td>...</td>\n",
       "      <td>...</td>\n",
       "      <td>...</td>\n",
       "    </tr>\n",
       "    <tr>\n",
       "      <th>20620</th>\n",
       "      <td>643.12</td>\n",
       "      <td>1594.45</td>\n",
       "      <td>1426.04</td>\n",
       "      <td>551.06</td>\n",
       "      <td>47.99</td>\n",
       "      <td>519.52</td>\n",
       "      <td>8142.28</td>\n",
       "      <td>8.5162</td>\n",
       "      <td>395</td>\n",
       "      <td>38.42</td>\n",
       "      <td>23.0603</td>\n",
       "    </tr>\n",
       "    <tr>\n",
       "      <th>20622</th>\n",
       "      <td>643.53</td>\n",
       "      <td>1601.23</td>\n",
       "      <td>1419.48</td>\n",
       "      <td>551.14</td>\n",
       "      <td>48.18</td>\n",
       "      <td>520.59</td>\n",
       "      <td>8143.46</td>\n",
       "      <td>8.4892</td>\n",
       "      <td>397</td>\n",
       "      <td>38.56</td>\n",
       "      <td>23.0770</td>\n",
       "    </tr>\n",
       "    <tr>\n",
       "      <th>20623</th>\n",
       "      <td>643.09</td>\n",
       "      <td>1599.81</td>\n",
       "      <td>1428.93</td>\n",
       "      <td>552.04</td>\n",
       "      <td>48.19</td>\n",
       "      <td>520.11</td>\n",
       "      <td>8142.02</td>\n",
       "      <td>8.5424</td>\n",
       "      <td>397</td>\n",
       "      <td>38.47</td>\n",
       "      <td>23.0230</td>\n",
       "    </tr>\n",
       "    <tr>\n",
       "      <th>20624</th>\n",
       "      <td>643.72</td>\n",
       "      <td>1597.29</td>\n",
       "      <td>1427.41</td>\n",
       "      <td>551.99</td>\n",
       "      <td>48.12</td>\n",
       "      <td>519.55</td>\n",
       "      <td>8139.67</td>\n",
       "      <td>8.5215</td>\n",
       "      <td>394</td>\n",
       "      <td>38.38</td>\n",
       "      <td>23.1324</td>\n",
       "    </tr>\n",
       "    <tr>\n",
       "      <th>20630</th>\n",
       "      <td>643.85</td>\n",
       "      <td>1600.38</td>\n",
       "      <td>1432.14</td>\n",
       "      <td>550.79</td>\n",
       "      <td>48.20</td>\n",
       "      <td>519.30</td>\n",
       "      <td>8137.33</td>\n",
       "      <td>8.5036</td>\n",
       "      <td>396</td>\n",
       "      <td>38.37</td>\n",
       "      <td>23.0522</td>\n",
       "    </tr>\n",
       "  </tbody>\n",
       "</table>\n",
       "<p>19775 rows × 11 columns</p>\n",
       "</div>"
      ],
      "text/plain": [
       "           s2       s3       s4      s7    s11     s12      s14     s15  s17  \\\n",
       "0      641.82  1589.70  1400.60  554.36  47.47  521.66  8138.62  8.4195  392   \n",
       "1      642.15  1591.82  1403.14  553.75  47.49  522.28  8131.49  8.4318  392   \n",
       "2      642.35  1587.99  1404.20  554.26  47.27  522.42  8133.23  8.4178  390   \n",
       "3      642.35  1582.79  1401.87  554.45  47.13  522.86  8133.83  8.3682  392   \n",
       "4      642.37  1582.85  1406.22  554.00  47.28  522.19  8133.80  8.4294  393   \n",
       "...       ...      ...      ...     ...    ...     ...      ...     ...  ...   \n",
       "20620  643.12  1594.45  1426.04  551.06  47.99  519.52  8142.28  8.5162  395   \n",
       "20622  643.53  1601.23  1419.48  551.14  48.18  520.59  8143.46  8.4892  397   \n",
       "20623  643.09  1599.81  1428.93  552.04  48.19  520.11  8142.02  8.5424  397   \n",
       "20624  643.72  1597.29  1427.41  551.99  48.12  519.55  8139.67  8.5215  394   \n",
       "20630  643.85  1600.38  1432.14  550.79  48.20  519.30  8137.33  8.5036  396   \n",
       "\n",
       "         s20      s21  \n",
       "0      39.06  23.4190  \n",
       "1      39.00  23.4236  \n",
       "2      38.95  23.3442  \n",
       "3      38.88  23.3739  \n",
       "4      38.90  23.4044  \n",
       "...      ...      ...  \n",
       "20620  38.42  23.0603  \n",
       "20622  38.56  23.0770  \n",
       "20623  38.47  23.0230  \n",
       "20624  38.38  23.1324  \n",
       "20630  38.37  23.0522  \n",
       "\n",
       "[19775 rows x 11 columns]"
      ]
     },
     "execution_count": 148,
     "metadata": {},
     "output_type": "execute_result"
    }
   ],
   "source": [
    "data"
   ]
  },
  {
   "cell_type": "markdown",
   "id": "naughty-terminology",
   "metadata": {},
   "source": [
    "## xem phân phối"
   ]
  },
  {
   "cell_type": "code",
   "execution_count": 151,
   "id": "administrative-wildlife",
   "metadata": {},
   "outputs": [
    {
     "name": "stderr",
     "output_type": "stream",
     "text": [
      "c:\\users\\administrator\\appdata\\local\\programs\\python\\python37\\lib\\site-packages\\seaborn\\distributions.py:2557: FutureWarning: `distplot` is a deprecated function and will be removed in a future version. Please adapt your code to use either `displot` (a figure-level function with similar flexibility) or `histplot` (an axes-level function for histograms).\n",
      "  warnings.warn(msg, FutureWarning)\n"
     ]
    },
    {
     "data": {
      "text/plain": [
       "<AxesSubplot:xlabel='s2', ylabel='Density'>"
      ]
     },
     "execution_count": 151,
     "metadata": {},
     "output_type": "execute_result"
    },
    {
     "data": {
      "image/png": "[encoded data removed]",
      "text/plain": [
       "<Figure size 432x288 with 1 Axes>"
      ]
     },
     "metadata": {
      "needs_background": "light"
     },
     "output_type": "display_data"
    }
   ],
   "source": [
    "sns.distplot(a=data['s2'], kde=True)"
   ]
  },
  {
   "cell_type": "markdown",
   "id": "contemporary-latex",
   "metadata": {},
   "source": [
    "## Tiêu chuẩn hóa"
   ]
  },
  {
   "cell_type": "code",
   "execution_count": 154,
   "id": "constant-humanity",
   "metadata": {},
   "outputs": [],
   "source": [
    "from sklearn.preprocessing import StandardScaler\n",
    "scaler = StandardScaler() \n",
    "data_scaled = scaler.fit_transform(data)"
   ]
  },
  {
   "cell_type": "code",
   "execution_count": 155,
   "id": "inside-yeast",
   "metadata": {},
   "outputs": [
    {
     "data": {
      "text/plain": [
       "array([-1.11638750e-13,  2.00353289e-15,  2.82751095e-14,  2.84576408e-16,\n",
       "        2.79546017e-14,  9.18764994e-14,  4.28768974e-14,  2.30075714e-14,\n",
       "       -1.72887354e-14, -7.15465333e-15, -5.43569684e-15])"
      ]
     },
     "execution_count": 155,
     "metadata": {},
     "output_type": "execute_result"
    }
   ],
   "source": [
    "data_scaled.mean(axis=0)"
   ]
  },
  {
   "cell_type": "code",
   "execution_count": 156,
   "id": "plastic-submission",
   "metadata": {},
   "outputs": [
    {
     "data": {
      "text/plain": [
       "array([1., 1., 1., 1., 1., 1., 1., 1., 1., 1., 1.])"
      ]
     },
     "execution_count": 156,
     "metadata": {},
     "output_type": "execute_result"
    }
   ],
   "source": [
    "data_scaled.std(axis=0)"
   ]
  },
  {
   "cell_type": "code",
   "execution_count": 157,
   "id": "falling-atlas",
   "metadata": {},
   "outputs": [
    {
     "data": {
      "text/plain": [
       "array([-3.03304943, -3.07740588, -3.08231476, -3.1837247 , -2.67781867,\n",
       "       -3.15636638, -2.72261574, -2.94317153, -2.82304091, -2.99880655,\n",
       "       -3.05441892])"
      ]
     },
     "execution_count": 157,
     "metadata": {},
     "output_type": "execute_result"
    }
   ],
   "source": [
    "data_scaled.min(axis=0)"
   ]
  },
  {
   "cell_type": "code",
   "execution_count": 158,
   "id": "honey-lighter",
   "metadata": {},
   "outputs": [
    {
     "data": {
      "text/plain": [
       "array([3.23722276, 3.24740742, 3.21743764, 2.89490422, 3.18459914,\n",
       "       2.73669305, 4.13838331, 3.08053585, 2.69053389, 3.00772828,\n",
       "       3.03165999])"
      ]
     },
     "execution_count": 158,
     "metadata": {},
     "output_type": "execute_result"
    }
   ],
   "source": [
    "data_scaled.max(axis=0)"
   ]
  },
  {
   "cell_type": "code",
   "execution_count": 189,
   "id": "victorian-maryland",
   "metadata": {},
   "outputs": [
    {
     "data": {
      "text/html": [
       "<div>\n",
       "<style scoped>\n",
       "    .dataframe tbody tr th:only-of-type {\n",
       "        vertical-align: middle;\n",
       "    }\n",
       "\n",
       "    .dataframe tbody tr th {\n",
       "        vertical-align: top;\n",
       "    }\n",
       "\n",
       "    .dataframe thead tr th {\n",
       "        text-align: left;\n",
       "    }\n",
       "</style>\n",
       "<table border=\"1\" class=\"dataframe\">\n",
       "  <thead>\n",
       "    <tr>\n",
       "      <th></th>\n",
       "      <th>s2</th>\n",
       "      <th>s3</th>\n",
       "      <th>s4</th>\n",
       "      <th>s7</th>\n",
       "      <th>s11</th>\n",
       "      <th>s12</th>\n",
       "      <th>s14</th>\n",
       "      <th>s15</th>\n",
       "      <th>s17</th>\n",
       "      <th>s20</th>\n",
       "      <th>s21</th>\n",
       "    </tr>\n",
       "  </thead>\n",
       "  <tbody>\n",
       "    <tr>\n",
       "      <th>0</th>\n",
       "      <td>-1.745216</td>\n",
       "      <td>-0.067571</td>\n",
       "      <td>-0.907739</td>\n",
       "      <td>1.110571</td>\n",
       "      <td>-0.205234</td>\n",
       "      <td>0.282441</td>\n",
       "      <td>-0.221770</td>\n",
       "      <td>-0.564944</td>\n",
       "      <td>-0.755450</td>\n",
       "      <td>1.358876</td>\n",
       "      <td>1.192687</td>\n",
       "    </tr>\n",
       "    <tr>\n",
       "      <th>1</th>\n",
       "      <td>-1.048519</td>\n",
       "      <td>0.299989</td>\n",
       "      <td>-0.606735</td>\n",
       "      <td>0.384942</td>\n",
       "      <td>-0.125473</td>\n",
       "      <td>1.167113</td>\n",
       "      <td>-0.733421</td>\n",
       "      <td>-0.215455</td>\n",
       "      <td>-0.755450</td>\n",
       "      <td>1.005550</td>\n",
       "      <td>1.237827</td>\n",
       "    </tr>\n",
       "    <tr>\n",
       "      <th>2</th>\n",
       "      <td>-0.626278</td>\n",
       "      <td>-0.364047</td>\n",
       "      <td>-0.481119</td>\n",
       "      <td>0.991615</td>\n",
       "      <td>-1.002842</td>\n",
       "      <td>1.366878</td>\n",
       "      <td>-0.608558</td>\n",
       "      <td>-0.613247</td>\n",
       "      <td>-2.133844</td>\n",
       "      <td>0.711112</td>\n",
       "      <td>0.458668</td>\n",
       "    </tr>\n",
       "    <tr>\n",
       "      <th>3</th>\n",
       "      <td>-0.626278</td>\n",
       "      <td>-1.265610</td>\n",
       "      <td>-0.757237</td>\n",
       "      <td>1.217631</td>\n",
       "      <td>-1.561168</td>\n",
       "      <td>1.994710</td>\n",
       "      <td>-0.565502</td>\n",
       "      <td>-2.022567</td>\n",
       "      <td>-0.755450</td>\n",
       "      <td>0.298899</td>\n",
       "      <td>0.750116</td>\n",
       "    </tr>\n",
       "    <tr>\n",
       "      <th>4</th>\n",
       "      <td>-0.584054</td>\n",
       "      <td>-1.255208</td>\n",
       "      <td>-0.241738</td>\n",
       "      <td>0.682331</td>\n",
       "      <td>-0.962962</td>\n",
       "      <td>1.038693</td>\n",
       "      <td>-0.567655</td>\n",
       "      <td>-0.283648</td>\n",
       "      <td>-0.066254</td>\n",
       "      <td>0.416674</td>\n",
       "      <td>1.049416</td>\n",
       "    </tr>\n",
       "    <tr>\n",
       "      <th>...</th>\n",
       "      <td>...</td>\n",
       "      <td>...</td>\n",
       "      <td>...</td>\n",
       "      <td>...</td>\n",
       "      <td>...</td>\n",
       "      <td>...</td>\n",
       "      <td>...</td>\n",
       "      <td>...</td>\n",
       "      <td>...</td>\n",
       "      <td>...</td>\n",
       "      <td>...</td>\n",
       "    </tr>\n",
       "    <tr>\n",
       "      <th>19770</th>\n",
       "      <td>0.999348</td>\n",
       "      <td>0.755972</td>\n",
       "      <td>2.107041</td>\n",
       "      <td>-2.814962</td>\n",
       "      <td>1.868546</td>\n",
       "      <td>-2.771106</td>\n",
       "      <td>0.040872</td>\n",
       "      <td>2.182662</td>\n",
       "      <td>1.312140</td>\n",
       "      <td>-2.409931</td>\n",
       "      <td>-2.327269</td>\n",
       "    </tr>\n",
       "    <tr>\n",
       "      <th>19771</th>\n",
       "      <td>1.864941</td>\n",
       "      <td>1.931472</td>\n",
       "      <td>1.329645</td>\n",
       "      <td>-2.719798</td>\n",
       "      <td>2.626274</td>\n",
       "      <td>-1.244333</td>\n",
       "      <td>0.125549</td>\n",
       "      <td>1.415492</td>\n",
       "      <td>2.690534</td>\n",
       "      <td>-1.585504</td>\n",
       "      <td>-2.163390</td>\n",
       "    </tr>\n",
       "    <tr>\n",
       "      <th>19772</th>\n",
       "      <td>0.936012</td>\n",
       "      <td>1.685276</td>\n",
       "      <td>2.449522</td>\n",
       "      <td>-1.649198</td>\n",
       "      <td>2.666154</td>\n",
       "      <td>-1.929240</td>\n",
       "      <td>0.022214</td>\n",
       "      <td>2.927102</td>\n",
       "      <td>2.690534</td>\n",
       "      <td>-2.115493</td>\n",
       "      <td>-2.693297</td>\n",
       "    </tr>\n",
       "    <tr>\n",
       "      <th>19773</th>\n",
       "      <td>2.266069</td>\n",
       "      <td>1.248364</td>\n",
       "      <td>2.269394</td>\n",
       "      <td>-1.708676</td>\n",
       "      <td>2.386991</td>\n",
       "      <td>-2.728299</td>\n",
       "      <td>-0.146422</td>\n",
       "      <td>2.333255</td>\n",
       "      <td>0.622943</td>\n",
       "      <td>-2.645481</td>\n",
       "      <td>-1.619745</td>\n",
       "    </tr>\n",
       "    <tr>\n",
       "      <th>19774</th>\n",
       "      <td>2.540526</td>\n",
       "      <td>1.784101</td>\n",
       "      <td>2.829925</td>\n",
       "      <td>-3.136142</td>\n",
       "      <td>2.706034</td>\n",
       "      <td>-3.085022</td>\n",
       "      <td>-0.314341</td>\n",
       "      <td>1.824650</td>\n",
       "      <td>2.001337</td>\n",
       "      <td>-2.704369</td>\n",
       "      <td>-2.406755</td>\n",
       "    </tr>\n",
       "  </tbody>\n",
       "</table>\n",
       "<p>19775 rows × 11 columns</p>\n",
       "</div>"
      ],
      "text/plain": [
       "             s2        s3        s4        s7       s11       s12       s14  \\\n",
       "0     -1.745216 -0.067571 -0.907739  1.110571 -0.205234  0.282441 -0.221770   \n",
       "1     -1.048519  0.299989 -0.606735  0.384942 -0.125473  1.167113 -0.733421   \n",
       "2     -0.626278 -0.364047 -0.481119  0.991615 -1.002842  1.366878 -0.608558   \n",
       "3     -0.626278 -1.265610 -0.757237  1.217631 -1.561168  1.994710 -0.565502   \n",
       "4     -0.584054 -1.255208 -0.241738  0.682331 -0.962962  1.038693 -0.567655   \n",
       "...         ...       ...       ...       ...       ...       ...       ...   \n",
       "19770  0.999348  0.755972  2.107041 -2.814962  1.868546 -2.771106  0.040872   \n",
       "19771  1.864941  1.931472  1.329645 -2.719798  2.626274 -1.244333  0.125549   \n",
       "19772  0.936012  1.685276  2.449522 -1.649198  2.666154 -1.929240  0.022214   \n",
       "19773  2.266069  1.248364  2.269394 -1.708676  2.386991 -2.728299 -0.146422   \n",
       "19774  2.540526  1.784101  2.829925 -3.136142  2.706034 -3.085022 -0.314341   \n",
       "\n",
       "            s15       s17       s20       s21  \n",
       "0     -0.564944 -0.755450  1.358876  1.192687  \n",
       "1     -0.215455 -0.755450  1.005550  1.237827  \n",
       "2     -0.613247 -2.133844  0.711112  0.458668  \n",
       "3     -2.022567 -0.755450  0.298899  0.750116  \n",
       "4     -0.283648 -0.066254  0.416674  1.049416  \n",
       "...         ...       ...       ...       ...  \n",
       "19770  2.182662  1.312140 -2.409931 -2.327269  \n",
       "19771  1.415492  2.690534 -1.585504 -2.163390  \n",
       "19772  2.927102  2.690534 -2.115493 -2.693297  \n",
       "19773  2.333255  0.622943 -2.645481 -1.619745  \n",
       "19774  1.824650  2.001337 -2.704369 -2.406755  \n",
       "\n",
       "[19775 rows x 11 columns]"
      ]
     },
     "execution_count": 189,
     "metadata": {},
     "output_type": "execute_result"
    }
   ],
   "source": [
    "df = pd.DataFrame(data_scaled, columns= [features1])\n",
    "df"
   ]
  },
  {
   "cell_type": "code",
   "execution_count": 195,
   "id": "macro-sierra",
   "metadata": {},
   "outputs": [
    {
     "data": {
      "image/png": "[encoded data removed]",
      "text/plain": [
       "<Figure size 432x288 with 1 Axes>"
      ]
     },
     "metadata": {
      "needs_background": "light"
     },
     "output_type": "display_data"
    },
    {
     "data": {
      "text/plain": [
       "<AxesSubplot:title={'center':'Class Balance for 20,631 Instances'}, ylabel='support'>"
      ]
     },
     "execution_count": 195,
     "metadata": {},
     "output_type": "execute_result"
    }
   ],
   "source": [
    "from yellowbrick.target import ClassBalance\n",
    "visualizer = ClassBalance(labels=['0','1'])\n",
    "X = df[features1]\n",
    "y= data_train['label_bnc']\n",
    "visualizer.fit(y1)        \n",
    "visualizer.show() \n"
   ]
  },
  {
   "cell_type": "code",
   "execution_count": 197,
   "id": "twenty-blackjack",
   "metadata": {},
   "outputs": [
    {
     "name": "stderr",
     "output_type": "stream",
     "text": [
      "c:\\users\\administrator\\appdata\\local\\programs\\python\\python37\\lib\\site-packages\\scipy\\stats\\morestats.py:1681: UserWarning: p-value may not be accurate for N > 5000.\n",
      "  warnings.warn(\"p-value may not be accurate for N > 5000.\")\n"
     ]
    },
    {
     "data": {
      "image/png": "[encoded data removed]",
      "text/plain": [
       "<Figure size 432x288 with 1 Axes>"
      ]
     },
     "metadata": {
      "needs_background": "light"
     },
     "output_type": "display_data"
    },
    {
     "data": {
      "text/plain": [
       "<AxesSubplot:title={'center':'Shapiro Ranking of 11 Features'}>"
      ]
     },
     "execution_count": 197,
     "metadata": {},
     "output_type": "execute_result"
    }
   ],
   "source": [
    "from yellowbrick.features import Rank1D\n",
    "visualizer = Rank1D(features=features1, algorithm='shapiro')\n",
    "visualizer.fit_transform(X=X.astype(float), y=data_train['ttf'])\n",
    "visualizer.poof()"
   ]
  },
  {
   "cell_type": "code",
   "execution_count": 198,
   "id": "dedicated-flood",
   "metadata": {},
   "outputs": [
    {
     "data": {
      "image/png": "[encoded data removed]",
      "text/plain": [
       "<Figure size 432x288 with 2 Axes>"
      ]
     },
     "metadata": {
      "needs_background": "light"
     },
     "output_type": "display_data"
    },
    {
     "data": {
      "text/plain": [
       "<AxesSubplot:title={'center':'Pearson Ranking of 11 Features'}>"
      ]
     },
     "execution_count": 198,
     "metadata": {},
     "output_type": "execute_result"
    }
   ],
   "source": [
    "from yellowbrick.features import Rank2D\n",
    "\n",
    "# Instantiate the visualizer with the Covariance ranking algorithm\n",
    "visualizer = Rank2D(features=features1, algorithm='pearson')\n",
    "visualizer.fit_transform(X=X.astype(float), y=data_train['ttf'])\n",
    "visualizer.poof() "
   ]
  },
  {
   "cell_type": "code",
   "execution_count": null,
   "id": "nearby-batman",
   "metadata": {},
   "outputs": [],
   "source": []
  }
 ],
 "metadata": {
  "kernelspec": {
   "display_name": "Python 3",
   "language": "python",
   "name": "python3"
  },
  "language_info": {
   "codemirror_mode": {
    "name": "ipython",
    "version": 3
   },
   "file_extension": ".py",
   "mimetype": "text/x-python",
   "name": "python",
   "nbconvert_exporter": "python",
   "pygments_lexer": "ipython3",
   "version": "3.7.9"
  }
 },
 "nbformat": 4,
 "nbformat_minor": 5
}
